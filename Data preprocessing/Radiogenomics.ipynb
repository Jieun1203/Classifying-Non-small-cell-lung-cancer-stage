{
 "cells": [
  {
   "cell_type": "code",
   "execution_count": 1,
   "metadata": {},
   "outputs": [],
   "source": [
    "import os\n",
    "import numpy as np\n",
    "import SimpleITK as sitk\n",
    "import matplotlib.pyplot as plt\n",
    "import pandas as pd\n",
    "import cv2"
   ]
  },
  {
   "cell_type": "code",
   "execution_count": 2,
   "metadata": {},
   "outputs": [],
   "source": [
    "radiogenomics_root = 'D:\\\\NSCLC_radiogenomics'"
   ]
  },
  {
   "cell_type": "code",
   "execution_count": 3,
   "metadata": {},
   "outputs": [],
   "source": [
    "ct_root = os.path.join(radiogenomics_root, 'image')"
   ]
  },
  {
   "cell_type": "code",
   "execution_count": 4,
   "metadata": {},
   "outputs": [],
   "source": [
    "np_root = os.path.join(radiogenomics_root, 'numpy')"
   ]
  },
  {
   "cell_type": "code",
   "execution_count": 5,
   "metadata": {},
   "outputs": [],
   "source": [
    "resampled_root = os.path.join(radiogenomics_root, 'resampled')"
   ]
  },
  {
   "cell_type": "code",
   "execution_count": 6,
   "metadata": {},
   "outputs": [],
   "source": [
    "png_root = os.path.join(radiogenomics_root, 'png')"
   ]
  },
  {
   "cell_type": "code",
   "execution_count": 7,
   "metadata": {},
   "outputs": [],
   "source": [
    "ct_data = os.listdir(ct_root)"
   ]
  },
  {
   "cell_type": "code",
   "execution_count": 8,
   "metadata": {},
   "outputs": [],
   "source": [
    "patient_number = []\n",
    "for i in ct_data:\n",
    "    if len(i) <= 10:\n",
    "        num, _, _ = i.split('.')\n",
    "        patient_number.append(num)"
   ]
  },
  {
   "cell_type": "code",
   "execution_count": null,
   "metadata": {},
   "outputs": [],
   "source": [
    "for number in patient_number:\n",
    "    path = os.path.join(resampled_root, number)\n",
    "    os.mkdir(path)"
   ]
  },
  {
   "cell_type": "markdown",
   "metadata": {},
   "source": [
    "## CT resampling"
   ]
  },
  {
   "cell_type": "code",
   "execution_count": null,
   "metadata": {},
   "outputs": [],
   "source": [
    "# for data in ct_data:\n",
    "#     if 'roi' not in data:\n",
    "#         num, _, _ = data.split('.')\n",
    "        \n",
    "#         img_root = os.path.join(ct_root, data)\n",
    "#         img = sitk.ReadImage(img_root)\n",
    "#         img_np = sitk.GetArrayFromImage(img)\n",
    "#         img_min = int(img_np.min())\n",
    "#         size = img.GetSize()\n",
    "\n",
    "#         reference_np = np.zeros((size[2], size[1], size[0]))\n",
    "#         reference_img = sitk.GetImageFromArray(reference_np)\n",
    "#         reference_img.CopyInformation(img)\n",
    "#         reference_img.SetSpacing([1.0, 1.0, 1.0])\n",
    "\n",
    "#         resampler = sitk.ResampleImageFilter()\n",
    "#         resampler.SetReferenceImage(reference_img)\n",
    "#         resampler.SetInterpolator(sitk.sitkBSplineResamplerOrder3)\n",
    "#         resampler.SetDefaultPixelValue(img_min)\n",
    "\n",
    "#         orig_size = np.array(img.GetSize(), dtype=np.int)\n",
    "#         orig_spacing = img.GetSpacing()\n",
    "#         new_size = orig_size*(orig_spacing)\n",
    "#         new_size = np.ceil(new_size).astype(np.int)\n",
    "#         new_size = [int(s) for s in new_size]\n",
    "#         resampler.SetSize(new_size)\n",
    "\n",
    "#         new_img = resampler.Execute(img)\n",
    "\n",
    "#         resample_path = os.path.join(resampled_root + '\\\\' + num, data)\n",
    "#         sitk.WriteImage(new_img, resample_path)"
   ]
  },
  {
   "cell_type": "markdown",
   "metadata": {},
   "source": [
    "## ROI image resampling"
   ]
  },
  {
   "cell_type": "code",
   "execution_count": null,
   "metadata": {},
   "outputs": [],
   "source": [
    "# for data in ct_data:\n",
    "#     if 'roi' in data:\n",
    "#         num, _, _, _ = data.split('.')\n",
    "#         roi_root = os.path.join(ct_root, data)\n",
    "#         roi = sitk.ReadImage(roi_root) \n",
    "#         roi_np = sitk.GetArrayFromImage(roi)\n",
    "#         roi_min = int(roi_np.min())\n",
    "#         size = roi.GetSize()\n",
    "\n",
    "#         reference_np = np.zeros((size[2], size[1], size[0]))\n",
    "#         reference_img = sitk.GetImageFromArray(reference_np)\n",
    "#         reference_img.CopyInformation(roi)\n",
    "#         reference_img.SetSpacing([1.0, 1.0, 1.0])\n",
    "\n",
    "#         resampler = sitk.ResampleImageFilter()\n",
    "#         resampler.SetReferenceImage(reference_img)\n",
    "#         resampler.SetInterpolator(sitk.sitkNearestNeighbor)\n",
    "#         resampler.SetDefaultPixelValue(roi_min)\n",
    "\n",
    "#         orig_size = np.array(roi.GetSize(), dtype=np.int)\n",
    "#         orig_spacing = roi.GetSpacing()\n",
    "#         new_size = orig_size*(orig_spacing)\n",
    "#         new_size = np.ceil(new_size).astype(np.int)\n",
    "#         new_size = [int(s) for s in new_size]\n",
    "#         resampler.SetSize(new_size)\n",
    "\n",
    "#         new_roi = resampler.Execute(roi)\n",
    "\n",
    "#         resample_roi_path = os.path.join(resampled_root + '\\\\' + num, data)\n",
    "#         sitk.WriteImage(new_roi, resample_roi_path)"
   ]
  },
  {
   "cell_type": "markdown",
   "metadata": {},
   "source": [
    "## Resampled image slice check"
   ]
  },
  {
   "cell_type": "code",
   "execution_count": null,
   "metadata": {},
   "outputs": [],
   "source": [
    "thick = {}\n",
    "z_thick = {}\n",
    "for data in ct_data:\n",
    "    if 'roi' in data :\n",
    "        no,_,_,_ = data.split('.')\n",
    "        roi_origin_root = os.path.join(ct_root, data)\n",
    "        roi_origin = sitk.ReadImage(roi_origin_root)\n",
    "        spacing = roi_origin.GetSpacing()\n",
    "        thick[no] = spacing\n",
    "        z_thick[no] = roi_origin.GetSpacing()[2]"
   ]
  },
  {
   "cell_type": "code",
   "execution_count": null,
   "metadata": {},
   "outputs": [],
   "source": [
    "thickness = [value for key, value in z_thick.items()]"
   ]
  },
  {
   "cell_type": "code",
   "execution_count": null,
   "metadata": {},
   "outputs": [],
   "source": [
    "thickness_set = set(thickness)"
   ]
  },
  {
   "cell_type": "code",
   "execution_count": null,
   "metadata": {},
   "outputs": [],
   "source": [
    "thick_count = {}\n",
    "for i in thickness_set:\n",
    "    thick_count[i] = 0\n",
    "    for j in thickness : \n",
    "        if i == j :\n",
    "            thick_count[i] += 1"
   ]
  },
  {
   "cell_type": "code",
   "execution_count": null,
   "metadata": {},
   "outputs": [],
   "source": [
    "thick_count"
   ]
  },
  {
   "cell_type": "markdown",
   "metadata": {},
   "source": [
    "## ROI_max_slice"
   ]
  },
  {
   "cell_type": "code",
   "execution_count": null,
   "metadata": {},
   "outputs": [],
   "source": [
    "per_patient_max_slice = np.array([])\n",
    "per_patient_max_slice_dict = {}\n",
    "per_patient_total_max_slice_dict = {}\n",
    "patient_no = os.listdir(resampled_root)\n",
    "for no in patient_no:\n",
    "    patient_root = os.path.join(resampled_root, no)\n",
    "    patient_data = os.listdir(patient_root)\n",
    "    for data in patient_data:\n",
    "        if 'roi' in data:\n",
    "            roi_root = os.path.join(patient_root, data)\n",
    "            roi = sitk.ReadImage(roi_root) \n",
    "            roi_np = sitk.GetArrayFromImage(roi)\n",
    "            roi_min = int(roi_np.min())\n",
    "            \n",
    "            per_slice_roi_pixel_count = np.array([])\n",
    "            for i in range(len(roi_np)):\n",
    "                roi_z = roi_np[i]\n",
    "                roi_count = len(np.where(roi_z != roi_min)[0])\n",
    "                per_slice_roi_pixel_count = np.append(per_slice_roi_pixel_count, roi_count)\n",
    "                \n",
    "            max_slice = np.max(per_slice_roi_pixel_count)\n",
    "            z_slice_no = np.where(per_slice_roi_pixel_count == max_slice)[0]\n",
    "            per_patient_max_slice = np.append(per_patient_max_slice, z_slice_no)\n",
    "            per_patient_total_max_slice_dict[str(no)] = z_slice_no\n",
    "            per_patient_max_slice_dict[str(no)] = z_slice_no[0]"
   ]
  },
  {
   "cell_type": "code",
   "execution_count": null,
   "metadata": {},
   "outputs": [],
   "source": [
    "max_slice = pd.DataFrame(per_patient_max_slice_dict, index = [0])"
   ]
  },
  {
   "cell_type": "code",
   "execution_count": null,
   "metadata": {},
   "outputs": [],
   "source": [
    "max_slice.to_csv(radiogenomics_root + '\\\\max_slice.csv')"
   ]
  },
  {
   "cell_type": "markdown",
   "metadata": {},
   "source": [
    "## ROI column and raw check"
   ]
  },
  {
   "cell_type": "code",
   "execution_count": null,
   "metadata": {},
   "outputs": [],
   "source": [
    "row_col_check_dict = {}\n",
    "row_col_check_np = np.array([])\n",
    "row_col_check_np = row_col_check_np.reshape(0, 4)\n",
    "patient_no = os.listdir(resampled_root)\n",
    "for no in patient_no:\n",
    "    patient_root = os.path.join(resampled_root, no)\n",
    "    patient_data = os.listdir(patient_root)\n",
    "    col_check = np.array([])\n",
    "    row_check = np.array([])\n",
    "\n",
    "    for data in patient_data:\n",
    "        if 'roi' in data:\n",
    "            roi_root = os.path.join(patient_root, data)\n",
    "            roi_img = sitk.ReadImage(roi_root)\n",
    "            roi_np = sitk.GetArrayFromImage(roi_img)\n",
    "            roi_min = int(roi_np.min())\n",
    "            \n",
    "            max_slice_no = per_patient_max_slice_dict[str(no)]\n",
    "            max_slice = roi_np[max_slice_no]\n",
    "            for i in range(max_slice.shape[0]):\n",
    "                roi_count = np.where(max_slice[i] != roi_min)[0]\n",
    "                col_check = np.append(col_check, roi_count)\n",
    "            col_check_unique = np.unique(col_check)\n",
    "                \n",
    "            for j in range(max_slice.shape[1]):\n",
    "                roi_count = np.where(max_slice[:, j] != roi_min)[0]\n",
    "                row_check = np.append(row_check, roi_count)\n",
    "            row_check_unique = np.unique(row_check)      \n",
    "\n",
    "            row_min = int(row_check_unique.min())\n",
    "            row_max = int(row_check_unique.max())\n",
    "            col_min = int(col_check_unique.min())\n",
    "            col_max = int(col_check_unique.max())\n",
    "            \n",
    "            idx = [row_min, row_max, col_min, col_max]\n",
    "            idx_np = np.array(idx)\n",
    "            idx_np = idx_np.reshape(1, 4)\n",
    "            \n",
    "    row_col_check_dict[no] = idx\n",
    "    row_col_check_np = np.append(row_col_check_np, idx_np, axis = 0)"
   ]
  },
  {
   "cell_type": "code",
   "execution_count": null,
   "metadata": {},
   "outputs": [],
   "source": [
    "roi_column_row = pd.DataFrame(row_col_check_dict, index = ['row_min', 'row_max', 'col_min', 'col_max'])"
   ]
  },
  {
   "cell_type": "code",
   "execution_count": null,
   "metadata": {},
   "outputs": [],
   "source": [
    "roi_column_row.to_csv(radiogenomics_root + '\\\\roi_column_row.csv')"
   ]
  },
  {
   "cell_type": "code",
   "execution_count": null,
   "metadata": {},
   "outputs": [],
   "source": [
    "roi_size_per_patient_dict = {}\n",
    "roi_size_dict = {}\n",
    "roi_size_per_patient_np = np.array([])\n",
    "roi_size_per_patient_np = roi_size_per_patient_np.reshape(0, 2)\n",
    "roi_center_per_patient_dict = {}\n",
    "roi_center_per_patient_np = np.array([])\n",
    "roi_center_per_patient_np = roi_center_per_patient_np.reshape(0, 2)\n",
    "\n",
    "for key in row_col_check_dict:\n",
    "    length = row_col_check_dict[key][1] - row_col_check_dict[key][0]\n",
    "    mid_length = int((row_col_check_dict[key][1] + row_col_check_dict[key][0]) / 2) \n",
    "    width = row_col_check_dict[key][3] - row_col_check_dict[key][2]\n",
    "    mid_width = int((row_col_check_dict[key][3] + row_col_check_dict[key][2]) / 2)\n",
    "    size = [length, width]\n",
    "    center = [mid_length, mid_width]\n",
    "    size_np = np.array(size)\n",
    "    size_np = size_np.reshape(1, 2)\n",
    "    center_np = np.array(center)\n",
    "    center_np = center_np.reshape(1, 2)\n",
    "    roi_size_per_patient_dict[key] = size\n",
    "    roi_size_dict[key] = max(size)\n",
    "    roi_size_per_patient_np = np.append(roi_size_per_patient_np, size_np, axis = 0)\n",
    "    roi_center_per_patient_dict[key] = center\n",
    "    roi_center_per_patient_np = np.append(roi_center_per_patient_np, center_np, axis = 0)"
   ]
  },
  {
   "cell_type": "code",
   "execution_count": null,
   "metadata": {},
   "outputs": [],
   "source": [
    "roi_center = pd.DataFrame(roi_center_per_patient_dict, index = ['mid_length', 'mid_width'])"
   ]
  },
  {
   "cell_type": "code",
   "execution_count": null,
   "metadata": {},
   "outputs": [],
   "source": [
    "roi_center.to_csv(radiogenomics_root + '\\\\roi_center.csv')"
   ]
  },
  {
   "cell_type": "code",
   "execution_count": null,
   "metadata": {},
   "outputs": [],
   "source": [
    "roi_max_size = max([value for (key, value) in roi_size_dict.items()])"
   ]
  },
  {
   "cell_type": "code",
   "execution_count": null,
   "metadata": {},
   "outputs": [],
   "source": [
    "roi_max_size"
   ]
  },
  {
   "cell_type": "code",
   "execution_count": null,
   "metadata": {},
   "outputs": [],
   "source": [
    "cut_size = 64"
   ]
  },
  {
   "cell_type": "markdown",
   "metadata": {},
   "source": [
    "## Crop CT and ROI image(roi size & 3 channel)"
   ]
  },
  {
   "cell_type": "code",
   "execution_count": null,
   "metadata": {},
   "outputs": [],
   "source": [
    "no = os.listdir(resampled_root)\n",
    "for no in patient_no :\n",
    "    patient_root = os.path.join(resampled_root, no)\n",
    "    patient_data = os.listdir(patient_root)\n",
    "    patient_np_root = os.path.join(np_root, no)\n",
    "\n",
    "    for data in patient_data:\n",
    "        if 'roi' in data:\n",
    "            roi_root = os.path.join(patient_root, data)\n",
    "            roi_img = sitk.ReadImage(roi_root)\n",
    "            roi_np = sitk.GetArrayFromImage(roi_img)\n",
    "            roi_min = roi_np.min()\n",
    "            \n",
    "            roi_background = np.full((3, 128, 128), roi_min)\n",
    "            max_slice_no = per_patient_max_slice_dict[str(no)]\n",
    "\n",
    "            max_slice_roi_pre = roi_np[max_slice_no - 3]\n",
    "            max_slice_roi_mid = roi_np[max_slice_no]\n",
    "            max_slice_roi_post = roi_np[max_slice_no + 3]\n",
    "\n",
    "            roi_row_center = roi_center_per_patient_dict[no][0]\n",
    "            roi_col_center = roi_center_per_patient_dict[no][1]\n",
    "\n",
    "            row_start_point = roi_row_center - cut_size\n",
    "            row_end_point = roi_row_center + cut_size \n",
    "            col_start_point = roi_col_center - cut_size\n",
    "            col_end_point = roi_col_center + cut_size\n",
    "\n",
    "            roi_cut_pre = max_slice_roi_pre[row_start_point:row_end_point, col_start_point:col_end_point]\n",
    "            roi_cut_mid = max_slice_roi_mid[row_start_point:row_end_point, col_start_point:col_end_point]\n",
    "            roi_cut_post = max_slice_roi_post[row_start_point:row_end_point, col_start_point:col_end_point]\n",
    "\n",
    "            if max_slice_roi_mid.min() == -1024:\n",
    "                roi_cut_pre = roi_cut_pre + 1024\n",
    "                roi_cut_mid = roi_cut_mid + 1024\n",
    "                roi_cut_post = roi_cut_post + 1024\n",
    "\n",
    "            for i in range(roi_cut_pre.shape[0]):\n",
    "                for j in range(roi_cut_pre.shape[1]):\n",
    "                    roi_background[0][i][j] = roi_cut_pre[i][j]\n",
    "                    roi_background[1][i][j] = roi_cut_mid[i][j]\n",
    "                    roi_background[2][i][j] = roi_cut_post[i][j]\n",
    "\n",
    "            np.save(patient_np_root + '\\\\roi', roi_background)\n",
    "\n",
    "        else:\n",
    "            ct_root = os.path.join(patient_root, data)\n",
    "            ct_img = sitk.ReadImage(ct_root)\n",
    "            ct_np = sitk.GetArrayFromImage(ct_img)\n",
    "            ct_min = ct_np.min()\n",
    "            \n",
    "            ct_background = np.full((3, 128, 128), ct_min)\n",
    "            max_slice_no = per_patient_max_slice_dict[str(no)]\n",
    "\n",
    "            max_slice_ct_pre = ct_np[max_slice_no - 3]        \n",
    "            max_slice_ct_mid = ct_np[max_slice_no]\n",
    "            max_slice_ct_post = ct_np[max_slice_no + 3]\n",
    "\n",
    "            roi_row_center = roi_center_per_patient_dict[no][0]\n",
    "            roi_col_center = roi_center_per_patient_dict[no][1]\n",
    "\n",
    "            row_start_point = roi_row_center - cut_size\n",
    "            row_end_point = roi_row_center + cut_size \n",
    "            col_start_point = roi_col_center - cut_size\n",
    "            col_end_point = roi_col_center + cut_size\n",
    "\n",
    "            ct_cut_pre = max_slice_ct_pre[row_start_point:row_end_point, col_start_point:col_end_point]\n",
    "            ct_cut_mid = max_slice_ct_mid[row_start_point:row_end_point, col_start_point:col_end_point]\n",
    "            ct_cut_post = max_slice_ct_post[row_start_point:row_end_point, col_start_point:col_end_point]\n",
    "\n",
    "            for i in range(ct_cut_pre.shape[0]) :\n",
    "                for j in range(ct_cut_pre.shape[1]):\n",
    "                    ct_background[0][i][j] = ct_cut_pre[i][j]\n",
    "                    ct_background[1][i][j] = ct_cut_mid[i][j]\n",
    "                    ct_background[2][i][j] = ct_cut_post[i][j]\n",
    "\n",
    "            np.save(patient_np_root + '\\\\ct', ct_background)"
   ]
  },
  {
   "cell_type": "markdown",
   "metadata": {},
   "source": [
    "## min intensity check"
   ]
  },
  {
   "cell_type": "code",
   "execution_count": null,
   "metadata": {},
   "outputs": [],
   "source": [
    "no = os.listdir(np_root)"
   ]
  },
  {
   "cell_type": "code",
   "execution_count": null,
   "metadata": {},
   "outputs": [],
   "source": [
    "min_check = {}\n",
    "max_check = {}\n",
    "range_check = {}\n",
    "for num in no:\n",
    "    num_root = os.path.join(np_root, num)\n",
    "    data = os.listdir(num_root)\n",
    "    for nps in data:\n",
    "        if 'ct' in nps:\n",
    "            ct_root = os.path.join(num_root, nps)\n",
    "            ct = np.load(ct_root)\n",
    "            min_value = ct.min()\n",
    "            min_check[num] = min_value\n",
    "            max_value = ct.max()\n",
    "            max_check[num] = max_value\n",
    "            range_check[num] = max_value - min_value"
   ]
  },
  {
   "cell_type": "code",
   "execution_count": null,
   "metadata": {},
   "outputs": [],
   "source": [
    "max_intensity = pd.DataFrame(max_check, index = ['max']).transpose()\n",
    "min_intensity = pd.DataFrame(min_check, index = ['min']).transpose()\n",
    "range_intensity = pd.DataFrame(range_check, index = ['range']).transpose()"
   ]
  },
  {
   "cell_type": "code",
   "execution_count": null,
   "metadata": {},
   "outputs": [],
   "source": [
    "patient_intensity = pd.concat([max_intensity, min_intensity, range_intensity], axis = 1)"
   ]
  },
  {
   "cell_type": "code",
   "execution_count": null,
   "metadata": {},
   "outputs": [],
   "source": [
    "patient_intensity.to_csv(radiogenomics_root + '\\\\patient_intensity.csv')"
   ]
  },
  {
   "cell_type": "code",
   "execution_count": null,
   "metadata": {},
   "outputs": [],
   "source": [
    "modified_patient = [key for key, values in min_check.items() if int(values) < -1024 ]"
   ]
  },
  {
   "cell_type": "code",
   "execution_count": null,
   "metadata": {},
   "outputs": [],
   "source": [
    "modified_patient"
   ]
  },
  {
   "cell_type": "code",
   "execution_count": null,
   "metadata": {},
   "outputs": [],
   "source": [
    "for m_no in modified_patient:\n",
    "    m_root = os.path.join(np_root, m_no)\n",
    "    data = os.listdir(num_root)\n",
    "    \n",
    "    for ct_np in data:\n",
    "        if 'ct' in ct_np:\n",
    "            ct_root = os.path.join(m_root, ct_np)\n",
    "            ct = np.load(ct_root)\n",
    "            \n",
    "            for i in range(ct.shape[0]):\n",
    "                for j in range(ct.shape[1]):\n",
    "                    for k in range(ct.shape[2]):\n",
    "                        if int(ct[i][j][k]) < -1024:\n",
    "                            ct[i][j][k] = -1024\n",
    "                            \n",
    "            np.save(m_root + '\\\\ct_m.npy', ct)"
   ]
  },
  {
   "cell_type": "markdown",
   "metadata": {},
   "source": [
    "## Data normalization"
   ]
  },
  {
   "cell_type": "code",
   "execution_count": 8,
   "metadata": {},
   "outputs": [],
   "source": [
    "np_number = os.listdir(np_root)"
   ]
  },
  {
   "cell_type": "code",
   "execution_count": null,
   "metadata": {},
   "outputs": [],
   "source": [
    "for number in np_number:\n",
    "    patient_np_root = os.path.join(np_root, number)\n",
    "    data = os.listdir(patient_np_root)\n",
    "    for nps in data:\n",
    "        if nps == 'ct_m.npy':\n",
    "            ct_np_root = os.path.join(patient_np_root, nps)\n",
    "            ct_np = np.load(ct_np_root)\n",
    "            ct_normalization = (ct_np - (-1024)) / (3071 - (-1024))\n",
    "            np.save(patient_np_root + '\\\\ct_normalized.npy', ct_normalization)\n",
    "        elif nps == 'ct.npy':\n",
    "            ct_np_root = os.path.join(patient_np_root, nps)\n",
    "            ct_np = np.load(ct_np_root)\n",
    "            ct_normalization = (ct_np - (-1024)) / (3071 - (-1024))\n",
    "            np.save(patient_np_root + '\\\\ct_normalized.npy', ct_normalization)"
   ]
  },
  {
   "cell_type": "markdown",
   "metadata": {},
   "source": [
    "## Total data"
   ]
  },
  {
   "cell_type": "code",
   "execution_count": 9,
   "metadata": {},
   "outputs": [],
   "source": [
    "final_root = os.path.join(radiogenomics_root, 'final_data_p')"
   ]
  },
  {
   "cell_type": "code",
   "execution_count": 10,
   "metadata": {},
   "outputs": [],
   "source": [
    "label_csv = radiogenomics_root + '\\\\ClinicInfo_2.xlsx'\n",
    "label_data = pd.read_excel(label_csv)"
   ]
  },
  {
   "cell_type": "code",
   "execution_count": 11,
   "metadata": {},
   "outputs": [],
   "source": [
    "non_con = label_data[label_data['Inclusion'] == 1]"
   ]
  },
  {
   "cell_type": "code",
   "execution_count": 12,
   "metadata": {},
   "outputs": [],
   "source": [
    "label = pd.concat([non_con['Case ID'], non_con['Inclusion'], non_con['Pathological stage final']], axis = 1)"
   ]
  },
  {
   "cell_type": "code",
   "execution_count": 13,
   "metadata": {},
   "outputs": [],
   "source": [
    "label = label.reset_index(drop = True)"
   ]
  },
  {
   "cell_type": "code",
   "execution_count": 14,
   "metadata": {},
   "outputs": [
    {
     "data": {
      "text/html": [
       "<div>\n",
       "<style scoped>\n",
       "    .dataframe tbody tr th:only-of-type {\n",
       "        vertical-align: middle;\n",
       "    }\n",
       "\n",
       "    .dataframe tbody tr th {\n",
       "        vertical-align: top;\n",
       "    }\n",
       "\n",
       "    .dataframe thead th {\n",
       "        text-align: right;\n",
       "    }\n",
       "</style>\n",
       "<table border=\"1\" class=\"dataframe\">\n",
       "  <thead>\n",
       "    <tr style=\"text-align: right;\">\n",
       "      <th></th>\n",
       "      <th>Case ID</th>\n",
       "      <th>Inclusion</th>\n",
       "      <th>Pathological stage final</th>\n",
       "    </tr>\n",
       "  </thead>\n",
       "  <tbody>\n",
       "    <tr>\n",
       "      <th>0</th>\n",
       "      <td>R01-002</td>\n",
       "      <td>1</td>\n",
       "      <td>ⅠA1</td>\n",
       "    </tr>\n",
       "    <tr>\n",
       "      <th>1</th>\n",
       "      <td>R01-003</td>\n",
       "      <td>1</td>\n",
       "      <td>ⅡB</td>\n",
       "    </tr>\n",
       "    <tr>\n",
       "      <th>2</th>\n",
       "      <td>R01-004</td>\n",
       "      <td>1</td>\n",
       "      <td>ⅢA</td>\n",
       "    </tr>\n",
       "    <tr>\n",
       "      <th>3</th>\n",
       "      <td>R01-005</td>\n",
       "      <td>1</td>\n",
       "      <td>ⅠB</td>\n",
       "    </tr>\n",
       "    <tr>\n",
       "      <th>4</th>\n",
       "      <td>R01-006</td>\n",
       "      <td>1</td>\n",
       "      <td>ⅠA2</td>\n",
       "    </tr>\n",
       "    <tr>\n",
       "      <th>...</th>\n",
       "      <td>...</td>\n",
       "      <td>...</td>\n",
       "      <td>...</td>\n",
       "    </tr>\n",
       "    <tr>\n",
       "      <th>63</th>\n",
       "      <td>R01-131</td>\n",
       "      <td>1</td>\n",
       "      <td>ⅠB</td>\n",
       "    </tr>\n",
       "    <tr>\n",
       "      <th>64</th>\n",
       "      <td>R01-134</td>\n",
       "      <td>1</td>\n",
       "      <td>ⅠA2</td>\n",
       "    </tr>\n",
       "    <tr>\n",
       "      <th>65</th>\n",
       "      <td>R01-135</td>\n",
       "      <td>1</td>\n",
       "      <td>ⅡB</td>\n",
       "    </tr>\n",
       "    <tr>\n",
       "      <th>66</th>\n",
       "      <td>R01-140</td>\n",
       "      <td>1</td>\n",
       "      <td>ⅢA</td>\n",
       "    </tr>\n",
       "    <tr>\n",
       "      <th>67</th>\n",
       "      <td>R01-144</td>\n",
       "      <td>1</td>\n",
       "      <td>ⅠA1</td>\n",
       "    </tr>\n",
       "  </tbody>\n",
       "</table>\n",
       "<p>68 rows × 3 columns</p>\n",
       "</div>"
      ],
      "text/plain": [
       "    Case ID  Inclusion Pathological stage final\n",
       "0   R01-002          1                      ⅠA1\n",
       "1   R01-003          1                       ⅡB\n",
       "2   R01-004          1                       ⅢA\n",
       "3   R01-005          1                       ⅠB\n",
       "4   R01-006          1                      ⅠA2\n",
       "..      ...        ...                      ...\n",
       "63  R01-131          1                       ⅠB\n",
       "64  R01-134          1                      ⅠA2\n",
       "65  R01-135          1                       ⅡB\n",
       "66  R01-140          1                       ⅢA\n",
       "67  R01-144          1                      ⅠA1\n",
       "\n",
       "[68 rows x 3 columns]"
      ]
     },
     "execution_count": 14,
     "metadata": {},
     "output_type": "execute_result"
    }
   ],
   "source": [
    "label"
   ]
  },
  {
   "cell_type": "code",
   "execution_count": 15,
   "metadata": {},
   "outputs": [],
   "source": [
    "grade = label['Pathological stage final'][0]"
   ]
  },
  {
   "cell_type": "code",
   "execution_count": 17,
   "metadata": {},
   "outputs": [
    {
     "data": {
      "text/plain": [
       "str"
      ]
     },
     "execution_count": 17,
     "metadata": {},
     "output_type": "execute_result"
    }
   ],
   "source": [
    "type(grade)"
   ]
  },
  {
   "cell_type": "code",
   "execution_count": 20,
   "metadata": {},
   "outputs": [],
   "source": [
    "stage_check = {}\n",
    "for i in range(len(label)):\n",
    "    ID = label['Case ID'][i]\n",
    "    _, num = ID.split('-')\n",
    "    num = str(int(num))\n",
    "    grade = label['Pathological stage final'][i]\n",
    "    try:\n",
    "        if 'ⅣA' in grade:\n",
    "            new_grade = 4\n",
    "        elif 'ⅢB' in grade:\n",
    "            new_grade = 3\n",
    "        elif 'ⅢA' in grade:\n",
    "            new_grade = 3\n",
    "        elif 'ⅡB' in grade:\n",
    "            new_grade = 2\n",
    "        elif 'ⅡA' in grade:\n",
    "            new_grade = 2\n",
    "        elif 'ⅠB' in grade:\n",
    "            new_grade = 1\n",
    "        elif 'ⅠA' in grade:\n",
    "            new_grade = 1\n",
    "    except :\n",
    "        new_grade = 'err'\n",
    "    stage_check[num] = new_grade"
   ]
  },
  {
   "cell_type": "code",
   "execution_count": 24,
   "metadata": {},
   "outputs": [],
   "source": [
    "p_patient = [key for (key, values) in stage_check.items() if values != 'err']"
   ]
  },
  {
   "cell_type": "code",
   "execution_count": 28,
   "metadata": {},
   "outputs": [],
   "source": [
    "ct_total = np.array([]).reshape(0, 3, 128, 128)\n",
    "roi_total = np.array([]).reshape(0, 3, 128, 128)\n",
    "stage_numpy = np.array([])\n",
    "stage_dict = {}\n",
    "for i in range(len(p_patient)):\n",
    "    patient_np_root = os.path.join(np_root, p_patient[i])\n",
    "    data = os.listdir(patient_np_root)\n",
    "    for nps in data:\n",
    "        if nps == 'ct_normalized.npy':\n",
    "            ct_path = os.path.join(patient_np_root, nps)\n",
    "            ct_np = np.load(ct_path).reshape(1, 3, 128, 128)\n",
    "            ct_total = np.append(ct_total, ct_np, axis = 0)\n",
    "        elif nps == 'roi.npy':\n",
    "            roi_path = os.path.join(patient_np_root, nps)\n",
    "            roi_np = np.load(roi_path).reshape(1, 3, 128, 128)\n",
    "            roi_total = np.append(roi_total, roi_np, axis = 0)\n",
    "    stage = stage_check[str(int(p_patient[i]))]\n",
    "    stage_numpy = np.append(stage_numpy, stage)\n",
    "    stage_dict[str(int(p_patient[i]))] = stage"
   ]
  },
  {
   "cell_type": "code",
   "execution_count": 29,
   "metadata": {},
   "outputs": [
    {
     "data": {
      "text/plain": [
       "<matplotlib.image.AxesImage at 0x20fc23b8848>"
      ]
     },
     "execution_count": 29,
     "metadata": {},
     "output_type": "execute_result"
    },
    {
     "data": {
      "image/png": "[encoded data removed]",
      "text/plain": [
       "<Figure size 432x288 with 1 Axes>"
      ]
     },
     "metadata": {
      "needs_background": "light"
     },
     "output_type": "display_data"
    }
   ],
   "source": [
    "plt.imshow(ct_total[50][1] + (roi_total[50][1]*0.5))"
   ]
  },
  {
   "cell_type": "code",
   "execution_count": 30,
   "metadata": {},
   "outputs": [
    {
     "data": {
      "text/plain": [
       "<matplotlib.image.AxesImage at 0x20fc244fa48>"
      ]
     },
     "execution_count": 30,
     "metadata": {},
     "output_type": "execute_result"
    },
    {
     "data": {
      "image/png": "[encoded data removed]",
      "text/plain": [
       "<Figure size 432x288 with 1 Axes>"
      ]
     },
     "metadata": {
      "needs_background": "light"
     },
     "output_type": "display_data"
    }
   ],
   "source": [
    "plt.imshow(roi_total[50][1])"
   ]
  },
  {
   "cell_type": "code",
   "execution_count": 31,
   "metadata": {},
   "outputs": [],
   "source": [
    "np.save(final_root + '\\\\ct_total.npy', ct_total)\n",
    "np.save(final_root + '\\\\roi_total.npy', roi_total)\n",
    "np.save(final_root + '\\\\stage_total.npy', stage_numpy)"
   ]
  },
  {
   "cell_type": "code",
   "execution_count": 32,
   "metadata": {},
   "outputs": [],
   "source": [
    "stage_pd = pd.DataFrame(stage_dict, index = ['stage']).transpose()"
   ]
  },
  {
   "cell_type": "code",
   "execution_count": 33,
   "metadata": {},
   "outputs": [],
   "source": [
    "stage_pd.to_csv(final_root + '\\\\stage.csv')"
   ]
  },
  {
   "cell_type": "markdown",
   "metadata": {},
   "source": [
    "## Image save"
   ]
  },
  {
   "cell_type": "code",
   "execution_count": null,
   "metadata": {},
   "outputs": [],
   "source": [
    "for num in np_number:\n",
    "    patient_np_root = os.path.join(np_root, num)\n",
    "    data = os.listdir(patient_np_root)\n",
    "    for nps in data:\n",
    "        if nps == 'ct_normalized.npy':\n",
    "            ct_root = os.path.join(patient_np_root, nps)\n",
    "            ct_np = np.load(ct_root)\n",
    "            ct_t = ct_np.transpose(1, 2, 0)\n",
    "            ct_png = ct_t*255\n",
    "            cv2.imwrite(os.path.join(png_root, num + '.png'), ct_png)\n",
    "            cv2.waitKey(0)"
   ]
  },
  {
   "cell_type": "code",
   "execution_count": null,
   "metadata": {},
   "outputs": [],
   "source": []
  },
  {
   "cell_type": "code",
   "execution_count": null,
   "metadata": {},
   "outputs": [],
   "source": []
  },
  {
   "cell_type": "code",
   "execution_count": null,
   "metadata": {},
   "outputs": [],
   "source": []
  },
  {
   "cell_type": "code",
   "execution_count": null,
   "metadata": {},
   "outputs": [],
   "source": []
  },
  {
   "cell_type": "code",
   "execution_count": null,
   "metadata": {},
   "outputs": [],
   "source": []
  }
 ],
 "metadata": {
  "kernelspec": {
   "display_name": "Python 3",
   "language": "python",
   "name": "python3"
  },
  "language_info": {
   "codemirror_mode": {
    "name": "ipython",
    "version": 3
   },
   "file_extension": ".py",
   "mimetype": "text/x-python",
   "name": "python",
   "nbconvert_exporter": "python",
   "pygments_lexer": "ipython3",
   "version": "3.7.5"
  }
 },
 "nbformat": 4,
 "nbformat_minor": 2
}
