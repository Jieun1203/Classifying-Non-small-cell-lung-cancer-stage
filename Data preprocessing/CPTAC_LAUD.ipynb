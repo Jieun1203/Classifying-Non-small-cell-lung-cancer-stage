{
 "cells": [
  {
   "cell_type": "code",
   "execution_count": 1,
   "metadata": {},
   "outputs": [],
   "source": [
    "import os\n",
    "import numpy as np\n",
    "import SimpleITK as sitk\n",
    "import matplotlib.pyplot as plt\n",
    "import pandas as pd\n",
    "import cv2"
   ]
  },
  {
   "cell_type": "code",
   "execution_count": 2,
   "metadata": {},
   "outputs": [],
   "source": [
    "lscc_root = 'D:\\\\CPTAC_LAUD'"
   ]
  },
  {
   "cell_type": "code",
   "execution_count": 3,
   "metadata": {},
   "outputs": [],
   "source": [
    "ct_root = os.path.join(lscc_root, 'image')"
   ]
  },
  {
   "cell_type": "code",
   "execution_count": 4,
   "metadata": {},
   "outputs": [],
   "source": [
    "np_root = os.path.join(lscc_root, 'numpy')"
   ]
  },
  {
   "cell_type": "code",
   "execution_count": 5,
   "metadata": {},
   "outputs": [],
   "source": [
    "resampled_root = os.path.join(lscc_root, 'resampled')"
   ]
  },
  {
   "cell_type": "code",
   "execution_count": 6,
   "metadata": {},
   "outputs": [],
   "source": [
    "png_root = os.path.join(lscc_root, 'png')"
   ]
  },
  {
   "cell_type": "code",
   "execution_count": 7,
   "metadata": {},
   "outputs": [],
   "source": [
    "ct_data = os.listdir(ct_root)"
   ]
  },
  {
   "cell_type": "code",
   "execution_count": 8,
   "metadata": {},
   "outputs": [],
   "source": [
    "patient_number = []\n",
    "for i in ct_data:\n",
    "    if 'roi' not in i:\n",
    "        C, nii, gz = i.split('.')\n",
    "        c, num = C.split('-')\n",
    "        patient_number.append(str(int(num)))"
   ]
  },
  {
   "cell_type": "code",
   "execution_count": 9,
   "metadata": {},
   "outputs": [],
   "source": [
    "# for number in patient_number:\n",
    "#     resampled_path = os.path.join(resampled_root, number)\n",
    "#     numpy_path = os.path.join(np_root, number)\n",
    "#     os.mkdir(resampled_path)\n",
    "#     os.mkdir(numpy_path)"
   ]
  },
  {
   "cell_type": "code",
   "execution_count": 10,
   "metadata": {},
   "outputs": [
    {
     "data": {
      "text/plain": [
       "['199',\n",
       " '293',\n",
       " '704',\n",
       " '738',\n",
       " '959',\n",
       " '1799',\n",
       " '2281',\n",
       " '2672',\n",
       " '2721',\n",
       " '2950',\n",
       " '2973',\n",
       " '3222',\n",
       " '3233',\n",
       " '3420',\n",
       " '3764',\n",
       " '3911',\n",
       " '4173']"
      ]
     },
     "execution_count": 10,
     "metadata": {},
     "output_type": "execute_result"
    }
   ],
   "source": [
    "patient_number"
   ]
  },
  {
   "cell_type": "markdown",
   "metadata": {},
   "source": [
    "## CT resampling"
   ]
  },
  {
   "cell_type": "code",
   "execution_count": 11,
   "metadata": {},
   "outputs": [],
   "source": [
    "for data in ct_data:\n",
    "    if 'roi' not in data:\n",
    "        C, nii, gz = data.split('.')\n",
    "        c, num = C.split('-')\n",
    "        num = str(int(num))\n",
    "        \n",
    "        img_root = os.path.join(ct_root, data)\n",
    "        img = sitk.ReadImage(img_root)\n",
    "        img_np = sitk.GetArrayFromImage(img)\n",
    "        img_min = int(img_np.min())\n",
    "        size = img.GetSize()\n",
    "\n",
    "        reference_np = np.zeros((size[2], size[1], size[0]))\n",
    "        reference_img = sitk.GetImageFromArray(reference_np)\n",
    "        reference_img.CopyInformation(img)\n",
    "        reference_img.SetSpacing([1.0, 1.0, 1.0])\n",
    "\n",
    "        resampler = sitk.ResampleImageFilter()\n",
    "        resampler.SetReferenceImage(reference_img)\n",
    "        resampler.SetInterpolator(sitk.sitkBSplineResamplerOrder3)\n",
    "        resampler.SetDefaultPixelValue(img_min)\n",
    "\n",
    "        orig_size = np.array(img.GetSize(), dtype=np.int)\n",
    "        orig_spacing = img.GetSpacing()\n",
    "        new_size = orig_size*(orig_spacing)\n",
    "        new_size = np.ceil(new_size).astype(np.int)\n",
    "        new_size = [int(s) for s in new_size]\n",
    "        resampler.SetSize(new_size)\n",
    "\n",
    "        new_img = resampler.Execute(img)\n",
    "\n",
    "        resample_path = os.path.join(resampled_root + '\\\\' + num, data)\n",
    "        sitk.WriteImage(new_img, resample_path)"
   ]
  },
  {
   "cell_type": "markdown",
   "metadata": {},
   "source": [
    "## ROI image resampling"
   ]
  },
  {
   "cell_type": "code",
   "execution_count": 12,
   "metadata": {},
   "outputs": [],
   "source": [
    "for data in ct_data:\n",
    "    if 'roi' in data:\n",
    "        C, roi, nii, gz = data.split('.')\n",
    "        c, num = C.split('-')\n",
    "        num = str(int(num))\n",
    "        \n",
    "        roi_root = os.path.join(ct_root, data)\n",
    "        roi = sitk.ReadImage(roi_root) \n",
    "        roi_np = sitk.GetArrayFromImage(roi)\n",
    "        roi_min = int(roi_np.min())\n",
    "        size = roi.GetSize()\n",
    "\n",
    "        reference_np = np.zeros((size[2], size[1], size[0]))\n",
    "        reference_img = sitk.GetImageFromArray(reference_np)\n",
    "        reference_img.CopyInformation(roi)\n",
    "        reference_img.SetSpacing([1.0, 1.0, 1.0])\n",
    "\n",
    "        resampler = sitk.ResampleImageFilter()\n",
    "        resampler.SetReferenceImage(reference_img)\n",
    "        resampler.SetInterpolator(sitk.sitkNearestNeighbor)\n",
    "        resampler.SetDefaultPixelValue(roi_min)\n",
    "\n",
    "        orig_size = np.array(roi.GetSize(), dtype=np.int)\n",
    "        orig_spacing = roi.GetSpacing()\n",
    "        new_size = orig_size*(orig_spacing)\n",
    "        new_size = np.ceil(new_size).astype(np.int)\n",
    "        new_size = [int(s) for s in new_size]\n",
    "        resampler.SetSize(new_size)\n",
    "\n",
    "        new_roi = resampler.Execute(roi)\n",
    "\n",
    "        resample_roi_path = os.path.join(resampled_root + '\\\\' + num, data)\n",
    "        sitk.WriteImage(new_roi, resample_roi_path)"
   ]
  },
  {
   "cell_type": "markdown",
   "metadata": {},
   "source": [
    "## Resampled image slice check"
   ]
  },
  {
   "cell_type": "code",
   "execution_count": 13,
   "metadata": {},
   "outputs": [],
   "source": [
    "thick = {}\n",
    "z_thick = {}\n",
    "for data in ct_data:\n",
    "    if 'roi' in data :\n",
    "        C, roi, nii, gz = data.split('.')\n",
    "        c, num = C.split('-')\n",
    "        num = str(int(num))\n",
    "        \n",
    "        roi_origin_root = os.path.join(ct_root, data)\n",
    "        roi_origin = sitk.ReadImage(roi_origin_root)\n",
    "        spacing = roi_origin.GetSpacing()\n",
    "        thick[num] = spacing\n",
    "        z_thick[num] = roi_origin.GetSpacing()[2]"
   ]
  },
  {
   "cell_type": "code",
   "execution_count": 14,
   "metadata": {},
   "outputs": [],
   "source": [
    "thickness = [value for key, value in z_thick.items()]"
   ]
  },
  {
   "cell_type": "code",
   "execution_count": 15,
   "metadata": {},
   "outputs": [],
   "source": [
    "thickness_set = set(thickness)"
   ]
  },
  {
   "cell_type": "code",
   "execution_count": 16,
   "metadata": {},
   "outputs": [],
   "source": [
    "thick_count = {}\n",
    "for i in thickness_set:\n",
    "    thick_count[i] = 0\n",
    "    for j in thickness : \n",
    "        if i == j :\n",
    "            thick_count[i] += 1"
   ]
  },
  {
   "cell_type": "code",
   "execution_count": 17,
   "metadata": {},
   "outputs": [
    {
     "data": {
      "text/plain": [
       "{0.5: 2, 1.25: 3, 2.5: 2, 3.0: 5, 0.70001220703125: 1, 1.0: 2, 1.5: 1, 3.75: 1}"
      ]
     },
     "execution_count": 17,
     "metadata": {},
     "output_type": "execute_result"
    }
   ],
   "source": [
    "thick_count"
   ]
  },
  {
   "cell_type": "markdown",
   "metadata": {},
   "source": [
    "## ROI max slice"
   ]
  },
  {
   "cell_type": "code",
   "execution_count": 18,
   "metadata": {},
   "outputs": [],
   "source": [
    "per_patient_max_slice = np.array([])\n",
    "per_patient_max_slice_dict = {}\n",
    "per_patient_total_max_slice_dict = {}\n",
    "patient_no = os.listdir(resampled_root)\n",
    "for no in patient_no:\n",
    "    patient_root = os.path.join(resampled_root, no)\n",
    "    patient_data = os.listdir(patient_root)\n",
    "    for data in patient_data:\n",
    "        if 'roi' in data:\n",
    "            roi_root = os.path.join(patient_root, data)\n",
    "            roi = sitk.ReadImage(roi_root) \n",
    "            roi_np = sitk.GetArrayFromImage(roi)\n",
    "            roi_min = int(roi_np.min())\n",
    "            \n",
    "            per_slice_roi_pixel_count = np.array([])\n",
    "            for i in range(len(roi_np)):\n",
    "                roi_z = roi_np[i]\n",
    "                roi_count = len(np.where(roi_z != roi_min)[0])\n",
    "                per_slice_roi_pixel_count = np.append(per_slice_roi_pixel_count, roi_count)\n",
    "                \n",
    "            max_slice = np.max(per_slice_roi_pixel_count)\n",
    "            z_slice_no = np.where(per_slice_roi_pixel_count == max_slice)[0]\n",
    "            per_patient_max_slice = np.append(per_patient_max_slice, z_slice_no)\n",
    "            per_patient_total_max_slice_dict[str(no)] = z_slice_no\n",
    "            per_patient_max_slice_dict[str(no)] = z_slice_no[0]"
   ]
  },
  {
   "cell_type": "code",
   "execution_count": 19,
   "metadata": {},
   "outputs": [],
   "source": [
    "max_slice = pd.DataFrame(per_patient_max_slice_dict, index = [0])"
   ]
  },
  {
   "cell_type": "code",
   "execution_count": 20,
   "metadata": {},
   "outputs": [
    {
     "data": {
      "text/html": [
       "<div>\n",
       "<style scoped>\n",
       "    .dataframe tbody tr th:only-of-type {\n",
       "        vertical-align: middle;\n",
       "    }\n",
       "\n",
       "    .dataframe tbody tr th {\n",
       "        vertical-align: top;\n",
       "    }\n",
       "\n",
       "    .dataframe thead th {\n",
       "        text-align: right;\n",
       "    }\n",
       "</style>\n",
       "<table border=\"1\" class=\"dataframe\">\n",
       "  <thead>\n",
       "    <tr style=\"text-align: right;\">\n",
       "      <th></th>\n",
       "      <th>1799</th>\n",
       "      <th>199</th>\n",
       "      <th>2281</th>\n",
       "      <th>2672</th>\n",
       "      <th>2721</th>\n",
       "      <th>293</th>\n",
       "      <th>2950</th>\n",
       "      <th>2973</th>\n",
       "      <th>3222</th>\n",
       "      <th>3233</th>\n",
       "      <th>3420</th>\n",
       "      <th>3764</th>\n",
       "      <th>3911</th>\n",
       "      <th>4173</th>\n",
       "      <th>704</th>\n",
       "      <th>738</th>\n",
       "      <th>959</th>\n",
       "    </tr>\n",
       "  </thead>\n",
       "  <tbody>\n",
       "    <tr>\n",
       "      <th>0</th>\n",
       "      <td>26</td>\n",
       "      <td>176</td>\n",
       "      <td>187</td>\n",
       "      <td>117</td>\n",
       "      <td>205</td>\n",
       "      <td>239</td>\n",
       "      <td>38</td>\n",
       "      <td>179</td>\n",
       "      <td>579</td>\n",
       "      <td>483</td>\n",
       "      <td>31</td>\n",
       "      <td>237</td>\n",
       "      <td>114</td>\n",
       "      <td>775</td>\n",
       "      <td>205</td>\n",
       "      <td>205</td>\n",
       "      <td>596</td>\n",
       "    </tr>\n",
       "  </tbody>\n",
       "</table>\n",
       "</div>"
      ],
      "text/plain": [
       "   1799  199  2281  2672  2721  293  2950  2973  3222  3233  3420  3764  3911  \\\n",
       "0    26  176   187   117   205  239    38   179   579   483    31   237   114   \n",
       "\n",
       "   4173  704  738  959  \n",
       "0   775  205  205  596  "
      ]
     },
     "execution_count": 20,
     "metadata": {},
     "output_type": "execute_result"
    }
   ],
   "source": [
    "max_slice"
   ]
  },
  {
   "cell_type": "markdown",
   "metadata": {},
   "source": [
    "## ROI column and raw check"
   ]
  },
  {
   "cell_type": "code",
   "execution_count": 21,
   "metadata": {},
   "outputs": [],
   "source": [
    "row_col_check_dict = {}\n",
    "row_col_check_np = np.array([])\n",
    "row_col_check_np = row_col_check_np.reshape(0, 4)\n",
    "patient_no = os.listdir(resampled_root)\n",
    "for no in patient_no:\n",
    "    patient_root = os.path.join(resampled_root, no)\n",
    "    patient_data = os.listdir(patient_root)\n",
    "    col_check = np.array([])\n",
    "    row_check = np.array([])\n",
    "\n",
    "    for data in patient_data:\n",
    "        if 'roi' in data:\n",
    "            roi_root = os.path.join(patient_root, data)\n",
    "            roi_img = sitk.ReadImage(roi_root)\n",
    "            roi_np = sitk.GetArrayFromImage(roi_img)\n",
    "            roi_min = int(roi_np.min())\n",
    "            \n",
    "            max_slice_no = per_patient_max_slice_dict[str(no)]\n",
    "            max_slice = roi_np[max_slice_no]\n",
    "            for i in range(max_slice.shape[0]):\n",
    "                roi_count = np.where(max_slice[i] != roi_min)[0]\n",
    "                col_check = np.append(col_check, roi_count)\n",
    "            col_check_unique = np.unique(col_check)\n",
    "                \n",
    "            for j in range(max_slice.shape[1]):\n",
    "                roi_count = np.where(max_slice[:, j] != roi_min)[0]\n",
    "                row_check = np.append(row_check, roi_count)\n",
    "            row_check_unique = np.unique(row_check)      \n",
    "\n",
    "            row_min = int(row_check_unique.min())\n",
    "            row_max = int(row_check_unique.max())\n",
    "            col_min = int(col_check_unique.min())\n",
    "            col_max = int(col_check_unique.max())\n",
    "            \n",
    "            idx = [row_min, row_max, col_min, col_max]\n",
    "            idx_np = np.array(idx)\n",
    "            idx_np = idx_np.reshape(1, 4)\n",
    "            \n",
    "    row_col_check_dict[no] = idx\n",
    "    row_col_check_np = np.append(row_col_check_np, idx_np, axis = 0)"
   ]
  },
  {
   "cell_type": "code",
   "execution_count": 23,
   "metadata": {},
   "outputs": [],
   "source": [
    "roi_column_row = pd.DataFrame(row_col_check_dict, index = ['row_min', 'row_max', 'col_min', 'col_max'])"
   ]
  },
  {
   "cell_type": "code",
   "execution_count": 24,
   "metadata": {},
   "outputs": [],
   "source": [
    "roi_column_row.to_csv(lscc_root + '\\\\roi_column_row.csv')"
   ]
  },
  {
   "cell_type": "code",
   "execution_count": 26,
   "metadata": {},
   "outputs": [],
   "source": [
    "roi_size_per_patient_dict = {}\n",
    "roi_size_dict = {}\n",
    "roi_size_per_patient_np = np.array([])\n",
    "roi_size_per_patient_np = roi_size_per_patient_np.reshape(0, 2)\n",
    "roi_center_per_patient_dict = {}\n",
    "roi_center_per_patient_np = np.array([])\n",
    "roi_center_per_patient_np = roi_center_per_patient_np.reshape(0, 2)\n",
    "\n",
    "for key in row_col_check_dict:\n",
    "    length = row_col_check_dict[key][1] - row_col_check_dict[key][0]\n",
    "    mid_length = int((row_col_check_dict[key][1] + row_col_check_dict[key][0]) / 2) \n",
    "    width = row_col_check_dict[key][3] - row_col_check_dict[key][2]\n",
    "    mid_width = int((row_col_check_dict[key][3] + row_col_check_dict[key][2]) / 2)\n",
    "    size = [length, width]\n",
    "    center = [mid_length, mid_width]\n",
    "    size_np = np.array(size)\n",
    "    size_np = size_np.reshape(1, 2)\n",
    "    center_np = np.array(center)\n",
    "    center_np = center_np.reshape(1, 2)\n",
    "    roi_size_per_patient_dict[key] = size\n",
    "    roi_size_dict[key] = max(size)\n",
    "    roi_size_per_patient_np = np.append(roi_size_per_patient_np, size_np, axis = 0)\n",
    "    roi_center_per_patient_dict[key] = center\n",
    "    roi_center_per_patient_np = np.append(roi_center_per_patient_np, center_np, axis = 0)"
   ]
  },
  {
   "cell_type": "code",
   "execution_count": 27,
   "metadata": {},
   "outputs": [
    {
     "data": {
      "text/plain": [
       "{'1799': [127, 273],\n",
       " '199': [173, 245],\n",
       " '2281': [297, 173],\n",
       " '2672': [212, 99],\n",
       " '2721': [248, 263],\n",
       " '293': [239, 112],\n",
       " '2950': [125, 104],\n",
       " '2973': [281, 86],\n",
       " '3222': [324, 310],\n",
       " '3233': [237, 154],\n",
       " '3420': [240, 86],\n",
       " '3764': [190, 100],\n",
       " '3911': [185, 88],\n",
       " '4173': [276, 308],\n",
       " '704': [120, 72],\n",
       " '738': [158, 66],\n",
       " '959': [395, 488]}"
      ]
     },
     "execution_count": 27,
     "metadata": {},
     "output_type": "execute_result"
    }
   ],
   "source": [
    "roi_center_per_patient_dict"
   ]
  },
  {
   "cell_type": "code",
   "execution_count": 28,
   "metadata": {},
   "outputs": [],
   "source": [
    "roi_center = pd.DataFrame(roi_center_per_patient_dict, index = ['mid_length', 'mid_width'])"
   ]
  },
  {
   "cell_type": "code",
   "execution_count": 29,
   "metadata": {},
   "outputs": [],
   "source": [
    "roi_center.to_csv(lscc_root + '\\\\roi_center.csv')"
   ]
  },
  {
   "cell_type": "code",
   "execution_count": 30,
   "metadata": {},
   "outputs": [],
   "source": [
    "roi_max_size = max([value for (key, value) in roi_size_dict.items()])"
   ]
  },
  {
   "cell_type": "code",
   "execution_count": 31,
   "metadata": {},
   "outputs": [
    {
     "data": {
      "text/plain": [
       "88"
      ]
     },
     "execution_count": 31,
     "metadata": {},
     "output_type": "execute_result"
    }
   ],
   "source": [
    "roi_max_size"
   ]
  },
  {
   "cell_type": "code",
   "execution_count": 32,
   "metadata": {},
   "outputs": [],
   "source": [
    "cut_size = 64"
   ]
  },
  {
   "cell_type": "markdown",
   "metadata": {},
   "source": [
    "## Crop CT and ROI image(roi size&3channel)"
   ]
  },
  {
   "cell_type": "code",
   "execution_count": 33,
   "metadata": {},
   "outputs": [],
   "source": [
    "no = os.listdir(resampled_root)\n",
    "for no in patient_no :\n",
    "    patient_root = os.path.join(resampled_root, no)\n",
    "    patient_data = os.listdir(patient_root)\n",
    "    patient_np_root = os.path.join(np_root, no)\n",
    "\n",
    "    for data in patient_data:\n",
    "        if 'roi' in data:\n",
    "            roi_root = os.path.join(patient_root, data)\n",
    "            roi_img = sitk.ReadImage(roi_root)\n",
    "            roi_np = sitk.GetArrayFromImage(roi_img)\n",
    "            roi_min = roi_np.min()\n",
    "            \n",
    "            roi_background = np.full((3, 128, 128), roi_min)\n",
    "            max_slice_no = per_patient_max_slice_dict[str(no)]\n",
    "\n",
    "            max_slice_roi_pre = roi_np[max_slice_no - 3]\n",
    "            max_slice_roi_mid = roi_np[max_slice_no]\n",
    "            max_slice_roi_post = roi_np[max_slice_no + 3]\n",
    "\n",
    "            roi_row_center = roi_center_per_patient_dict[no][0]\n",
    "            roi_col_center = roi_center_per_patient_dict[no][1]\n",
    "\n",
    "            row_start_point = roi_row_center - cut_size\n",
    "            row_end_point = roi_row_center + cut_size \n",
    "            col_start_point = roi_col_center - cut_size\n",
    "            col_end_point = roi_col_center + cut_size\n",
    "\n",
    "            roi_cut_pre = max_slice_roi_pre[row_start_point:row_end_point, col_start_point:col_end_point]\n",
    "            roi_cut_mid = max_slice_roi_mid[row_start_point:row_end_point, col_start_point:col_end_point]\n",
    "            roi_cut_post = max_slice_roi_post[row_start_point:row_end_point, col_start_point:col_end_point]\n",
    "\n",
    "            if max_slice_roi_mid.min() == -1024:\n",
    "                roi_cut_pre = roi_cut_pre + 1024\n",
    "                roi_cut_mid = roi_cut_mid + 1024\n",
    "                roi_cut_post = roi_cut_post + 1024\n",
    "\n",
    "            for i in range(roi_cut_pre.shape[0]):\n",
    "                for j in range(roi_cut_pre.shape[1]):\n",
    "                    roi_background[0][i][j] = roi_cut_pre[i][j]\n",
    "                    roi_background[1][i][j] = roi_cut_mid[i][j]\n",
    "                    roi_background[2][i][j] = roi_cut_post[i][j]\n",
    "\n",
    "            np.save(patient_np_root + '\\\\roi', roi_background)\n",
    "\n",
    "        else:\n",
    "            ct_root = os.path.join(patient_root, data)\n",
    "            ct_img = sitk.ReadImage(ct_root)\n",
    "            ct_np = sitk.GetArrayFromImage(ct_img)\n",
    "            ct_min = ct_np.min()\n",
    "            \n",
    "            ct_background = np.full((3, 128, 128), ct_min)\n",
    "            max_slice_no = per_patient_max_slice_dict[str(no)]\n",
    "\n",
    "            max_slice_ct_pre = ct_np[max_slice_no - 3]        \n",
    "            max_slice_ct_mid = ct_np[max_slice_no]\n",
    "            max_slice_ct_post = ct_np[max_slice_no + 3]\n",
    "\n",
    "            roi_row_center = roi_center_per_patient_dict[no][0]\n",
    "            roi_col_center = roi_center_per_patient_dict[no][1]\n",
    "\n",
    "            row_start_point = roi_row_center - cut_size\n",
    "            row_end_point = roi_row_center + cut_size \n",
    "            col_start_point = roi_col_center - cut_size\n",
    "            col_end_point = roi_col_center + cut_size\n",
    "            if row_start_point < 0:\n",
    "                row_start_point = 0\n",
    "            if row_end_point < 0 :\n",
    "                row_end_point = 0\n",
    "            if col_start_point < 0:\n",
    "                col_start_point = 0\n",
    "            if col_end_point < 0:\n",
    "                col_end_point = 0\n",
    "            \n",
    "            ct_cut_pre = max_slice_ct_pre[row_start_point:row_end_point, col_start_point:col_end_point]\n",
    "            ct_cut_mid = max_slice_ct_mid[row_start_point:row_end_point, col_start_point:col_end_point]\n",
    "            ct_cut_post = max_slice_ct_post[row_start_point:row_end_point, col_start_point:col_end_point]\n",
    "\n",
    "            for i in range(ct_cut_pre.shape[0]) :\n",
    "                for j in range(ct_cut_pre.shape[1]):\n",
    "                    ct_background[0][i][j] = ct_cut_pre[i][j]\n",
    "                    ct_background[1][i][j] = ct_cut_mid[i][j]\n",
    "                    ct_background[2][i][j] = ct_cut_post[i][j]\n",
    "\n",
    "            np.save(patient_np_root + '\\\\ct', ct_background)"
   ]
  },
  {
   "cell_type": "markdown",
   "metadata": {},
   "source": [
    "## min intensity check"
   ]
  },
  {
   "cell_type": "code",
   "execution_count": 34,
   "metadata": {},
   "outputs": [],
   "source": [
    "no = os.listdir(np_root)"
   ]
  },
  {
   "cell_type": "code",
   "execution_count": 35,
   "metadata": {},
   "outputs": [],
   "source": [
    "min_check = {}\n",
    "max_check = {}\n",
    "range_check = {}\n",
    "for num in no:\n",
    "    num_root = os.path.join(np_root, num)\n",
    "    data = os.listdir(num_root)\n",
    "    for nps in data:\n",
    "        if 'ct' in nps:\n",
    "            ct_root = os.path.join(num_root, nps)\n",
    "            ct = np.load(ct_root)\n",
    "            min_value = ct.min()\n",
    "            min_check[num] = min_value\n",
    "            max_value = ct.max()\n",
    "            max_check[num] = max_value\n",
    "            range_check[num] = max_value - min_value"
   ]
  },
  {
   "cell_type": "code",
   "execution_count": 36,
   "metadata": {},
   "outputs": [],
   "source": [
    "max_intensity = pd.DataFrame(max_check, index = ['max']).transpose()\n",
    "min_intensity = pd.DataFrame(min_check, index = ['min']).transpose()\n",
    "range_intensity = pd.DataFrame(range_check, index = ['range']).transpose()"
   ]
  },
  {
   "cell_type": "code",
   "execution_count": 39,
   "metadata": {},
   "outputs": [],
   "source": [
    "patient_intensity = pd.concat([max_intensity, min_intensity, range_intensity], axis = 1)"
   ]
  },
  {
   "cell_type": "code",
   "execution_count": 40,
   "metadata": {},
   "outputs": [],
   "source": [
    "patient_intensity.to_csv(lscc_root + '\\\\patient_intensity.csv')"
   ]
  },
  {
   "cell_type": "code",
   "execution_count": 41,
   "metadata": {},
   "outputs": [],
   "source": [
    "modified_patient = [key for key, values in min_check.items() if int(values) < -1024 ]"
   ]
  },
  {
   "cell_type": "code",
   "execution_count": 42,
   "metadata": {},
   "outputs": [
    {
     "data": {
      "text/plain": [
       "[]"
      ]
     },
     "execution_count": 42,
     "metadata": {},
     "output_type": "execute_result"
    }
   ],
   "source": [
    "modified_patient"
   ]
  },
  {
   "cell_type": "markdown",
   "metadata": {},
   "source": [
    "## Data normalization"
   ]
  },
  {
   "cell_type": "code",
   "execution_count": 8,
   "metadata": {},
   "outputs": [],
   "source": [
    "np_number = os.listdir(np_root)"
   ]
  },
  {
   "cell_type": "code",
   "execution_count": 44,
   "metadata": {},
   "outputs": [],
   "source": [
    "for number in np_number:\n",
    "    patient_np_root = os.path.join(np_root, number)\n",
    "    data = os.listdir(patient_np_root)\n",
    "    for nps in data:\n",
    "        if nps == 'ct_m.npy':\n",
    "            ct_np_root = os.path.join(patient_np_root, nps)\n",
    "            ct_np = np.load(ct_np_root)\n",
    "            ct_normalization = (ct_np - (-1024)) / (3071 - (-1024))\n",
    "            np.save(patient_np_root + '\\\\ct_normalized.npy', ct_normalization)\n",
    "        elif nps == 'ct.npy':\n",
    "            ct_np_root = os.path.join(patient_np_root, nps)\n",
    "            ct_np = np.load(ct_np_root)\n",
    "            ct_normalization = (ct_np - (-1024)) / (3071 - (-1024))\n",
    "            np.save(patient_np_root + '\\\\ct_normalized.npy', ct_normalization)"
   ]
  },
  {
   "cell_type": "markdown",
   "metadata": {},
   "source": [
    "## Total data"
   ]
  },
  {
   "cell_type": "code",
   "execution_count": 9,
   "metadata": {},
   "outputs": [],
   "source": [
    "final_root = os.path.join(lscc_root, 'final_data_p')"
   ]
  },
  {
   "cell_type": "code",
   "execution_count": 10,
   "metadata": {},
   "outputs": [],
   "source": [
    "label_csv = lscc_root + '\\\\LAUD.xlsx'\n",
    "label_data = pd.read_excel(label_csv)"
   ]
  },
  {
   "cell_type": "code",
   "execution_count": 11,
   "metadata": {},
   "outputs": [],
   "source": [
    "non_con = label_data[label_data['image'] == 1]"
   ]
  },
  {
   "cell_type": "code",
   "execution_count": 12,
   "metadata": {},
   "outputs": [],
   "source": [
    "label = pd.concat([non_con['case_id'], non_con['Contrast'], non_con['tumor_stage_pathological']], axis = 1)"
   ]
  },
  {
   "cell_type": "code",
   "execution_count": 13,
   "metadata": {},
   "outputs": [],
   "source": [
    "label = label.reset_index(drop = True)"
   ]
  },
  {
   "cell_type": "code",
   "execution_count": 14,
   "metadata": {},
   "outputs": [
    {
     "data": {
      "text/html": [
       "<div>\n",
       "<style scoped>\n",
       "    .dataframe tbody tr th:only-of-type {\n",
       "        vertical-align: middle;\n",
       "    }\n",
       "\n",
       "    .dataframe tbody tr th {\n",
       "        vertical-align: top;\n",
       "    }\n",
       "\n",
       "    .dataframe thead th {\n",
       "        text-align: right;\n",
       "    }\n",
       "</style>\n",
       "<table border=\"1\" class=\"dataframe\">\n",
       "  <thead>\n",
       "    <tr style=\"text-align: right;\">\n",
       "      <th></th>\n",
       "      <th>case_id</th>\n",
       "      <th>Contrast</th>\n",
       "      <th>tumor_stage_pathological</th>\n",
       "    </tr>\n",
       "  </thead>\n",
       "  <tbody>\n",
       "    <tr>\n",
       "      <th>0</th>\n",
       "      <td>C3N-00199</td>\n",
       "      <td>non-con</td>\n",
       "      <td>Stage IA</td>\n",
       "    </tr>\n",
       "    <tr>\n",
       "      <th>1</th>\n",
       "      <td>C3N-00293</td>\n",
       "      <td>non-con</td>\n",
       "      <td>Stage IB</td>\n",
       "    </tr>\n",
       "    <tr>\n",
       "      <th>2</th>\n",
       "      <td>C3N-00704</td>\n",
       "      <td>non-con</td>\n",
       "      <td>Stage IB</td>\n",
       "    </tr>\n",
       "    <tr>\n",
       "      <th>3</th>\n",
       "      <td>C3N-00738</td>\n",
       "      <td>non-con</td>\n",
       "      <td>Stage IA</td>\n",
       "    </tr>\n",
       "    <tr>\n",
       "      <th>4</th>\n",
       "      <td>C3N-00959</td>\n",
       "      <td>non-con</td>\n",
       "      <td>Stage IB</td>\n",
       "    </tr>\n",
       "    <tr>\n",
       "      <th>5</th>\n",
       "      <td>C3N-01799</td>\n",
       "      <td>non-con</td>\n",
       "      <td>Stage IIA</td>\n",
       "    </tr>\n",
       "    <tr>\n",
       "      <th>6</th>\n",
       "      <td>C3N-02281</td>\n",
       "      <td>non-con</td>\n",
       "      <td>Stage IIA</td>\n",
       "    </tr>\n",
       "    <tr>\n",
       "      <th>7</th>\n",
       "      <td>C3N-02672</td>\n",
       "      <td>con(non-con)</td>\n",
       "      <td>Stage III</td>\n",
       "    </tr>\n",
       "    <tr>\n",
       "      <th>8</th>\n",
       "      <td>C3N-02721</td>\n",
       "      <td>con(non-con)</td>\n",
       "      <td>Stage IB</td>\n",
       "    </tr>\n",
       "    <tr>\n",
       "      <th>9</th>\n",
       "      <td>C3N-02950</td>\n",
       "      <td>non-con</td>\n",
       "      <td>Stage 1B</td>\n",
       "    </tr>\n",
       "    <tr>\n",
       "      <th>10</th>\n",
       "      <td>C3N-02973</td>\n",
       "      <td>non-con</td>\n",
       "      <td>Stage IB</td>\n",
       "    </tr>\n",
       "    <tr>\n",
       "      <th>11</th>\n",
       "      <td>C3N-03222</td>\n",
       "      <td>con(non-con)</td>\n",
       "      <td>Stage IB</td>\n",
       "    </tr>\n",
       "    <tr>\n",
       "      <th>12</th>\n",
       "      <td>C3N-03233</td>\n",
       "      <td>con(non-con)</td>\n",
       "      <td>Stage IA</td>\n",
       "    </tr>\n",
       "    <tr>\n",
       "      <th>13</th>\n",
       "      <td>C3N-03420</td>\n",
       "      <td>con(non-con)</td>\n",
       "      <td>Stage IIA</td>\n",
       "    </tr>\n",
       "    <tr>\n",
       "      <th>14</th>\n",
       "      <td>C3N-03764</td>\n",
       "      <td>non-con</td>\n",
       "      <td>Stage IIB</td>\n",
       "    </tr>\n",
       "    <tr>\n",
       "      <th>15</th>\n",
       "      <td>C3N-03911</td>\n",
       "      <td>non-con</td>\n",
       "      <td>Stage IB</td>\n",
       "    </tr>\n",
       "    <tr>\n",
       "      <th>16</th>\n",
       "      <td>C3N-04173</td>\n",
       "      <td>non-con</td>\n",
       "      <td>Stage IA</td>\n",
       "    </tr>\n",
       "  </tbody>\n",
       "</table>\n",
       "</div>"
      ],
      "text/plain": [
       "      case_id      Contrast tumor_stage_pathological\n",
       "0   C3N-00199       non-con                 Stage IA\n",
       "1   C3N-00293       non-con                 Stage IB\n",
       "2   C3N-00704       non-con                 Stage IB\n",
       "3   C3N-00738       non-con                 Stage IA\n",
       "4   C3N-00959       non-con                 Stage IB\n",
       "5   C3N-01799       non-con                Stage IIA\n",
       "6   C3N-02281       non-con                Stage IIA\n",
       "7   C3N-02672  con(non-con)                Stage III\n",
       "8   C3N-02721  con(non-con)                 Stage IB\n",
       "9   C3N-02950       non-con                 Stage 1B\n",
       "10  C3N-02973       non-con                 Stage IB\n",
       "11  C3N-03222  con(non-con)                 Stage IB\n",
       "12  C3N-03233  con(non-con)                 Stage IA\n",
       "13  C3N-03420  con(non-con)                Stage IIA\n",
       "14  C3N-03764       non-con                Stage IIB\n",
       "15  C3N-03911       non-con                 Stage IB\n",
       "16  C3N-04173       non-con                 Stage IA"
      ]
     },
     "execution_count": 14,
     "metadata": {},
     "output_type": "execute_result"
    }
   ],
   "source": [
    "label"
   ]
  },
  {
   "cell_type": "code",
   "execution_count": 18,
   "metadata": {},
   "outputs": [],
   "source": [
    "stage_check = {}\n",
    "for i in range(len(label)):\n",
    "    ID = label['case_id'][i]\n",
    "    _, num = ID.split('-')\n",
    "    num = str(int(num))\n",
    "    grade = label['tumor_stage_pathological'][i]\n",
    "    if 'ⅣA' in grade:\n",
    "        new_grade = 4\n",
    "    elif 'III' in grade:\n",
    "        new_grade = 3\n",
    "    elif 'II' in grade:\n",
    "        new_grade = 2\n",
    "    elif 'I' in grade:\n",
    "        new_grade = 1\n",
    "    stage_check[num] = int(new_grade)"
   ]
  },
  {
   "cell_type": "code",
   "execution_count": 19,
   "metadata": {},
   "outputs": [
    {
     "data": {
      "text/plain": [
       "{'199': 1,\n",
       " '293': 1,\n",
       " '704': 1,\n",
       " '738': 1,\n",
       " '959': 1,\n",
       " '1799': 2,\n",
       " '2281': 2,\n",
       " '2672': 3,\n",
       " '2721': 1,\n",
       " '2950': 1,\n",
       " '2973': 1,\n",
       " '3222': 1,\n",
       " '3233': 1,\n",
       " '3420': 2,\n",
       " '3764': 2,\n",
       " '3911': 1,\n",
       " '4173': 1}"
      ]
     },
     "execution_count": 19,
     "metadata": {},
     "output_type": "execute_result"
    }
   ],
   "source": [
    "stage_check"
   ]
  },
  {
   "cell_type": "code",
   "execution_count": 20,
   "metadata": {},
   "outputs": [],
   "source": [
    "p_patient = [key for (key, values) in stage_check.items()]"
   ]
  },
  {
   "cell_type": "code",
   "execution_count": 21,
   "metadata": {},
   "outputs": [],
   "source": [
    "ct_total = np.array([]).reshape(0, 3, 128, 128)\n",
    "roi_total = np.array([]).reshape(0, 3, 128, 128)\n",
    "stage_numpy = np.array([])\n",
    "stage_dict = {}\n",
    "for i in range(len(p_patient)):\n",
    "    patient_np_root = os.path.join(np_root, p_patient[i])\n",
    "    data = os.listdir(patient_np_root)\n",
    "    for nps in data:\n",
    "        if nps == 'ct_normalized.npy':\n",
    "            ct_path = os.path.join(patient_np_root, nps)\n",
    "            ct_np = np.load(ct_path).reshape(1, 3, 128, 128)\n",
    "            ct_total = np.append(ct_total, ct_np, axis = 0)\n",
    "        elif nps == 'roi.npy':\n",
    "            roi_path = os.path.join(patient_np_root, nps)\n",
    "            roi_np = np.load(roi_path).reshape(1, 3, 128, 128)\n",
    "            roi_total = np.append(roi_total, roi_np, axis = 0)\n",
    "    stage = stage_check[str(int(p_patient[i]))]\n",
    "    stage_numpy = np.append(stage_numpy, stage)\n",
    "    stage_dict[str(int(p_patient[i]))] = stage"
   ]
  },
  {
   "cell_type": "code",
   "execution_count": 22,
   "metadata": {},
   "outputs": [
    {
     "data": {
      "text/plain": [
       "<matplotlib.image.AxesImage at 0x1d113fb2a88>"
      ]
     },
     "execution_count": 22,
     "metadata": {},
     "output_type": "execute_result"
    },
    {
     "data": {
      "image/png": "[encoded data removed]",
      "text/plain": [
       "<Figure size 432x288 with 1 Axes>"
      ]
     },
     "metadata": {
      "needs_background": "light"
     },
     "output_type": "display_data"
    }
   ],
   "source": [
    "plt.imshow(ct_total[10][1] + (roi_total[10][1]*0.5))"
   ]
  },
  {
   "cell_type": "code",
   "execution_count": 23,
   "metadata": {},
   "outputs": [
    {
     "data": {
      "text/plain": [
       "{'199': 1,\n",
       " '293': 1,\n",
       " '704': 1,\n",
       " '738': 1,\n",
       " '959': 1,\n",
       " '1799': 2,\n",
       " '2281': 2,\n",
       " '2672': 3,\n",
       " '2721': 1,\n",
       " '2950': 1,\n",
       " '2973': 1,\n",
       " '3222': 1,\n",
       " '3233': 1,\n",
       " '3420': 2,\n",
       " '3764': 2,\n",
       " '3911': 1,\n",
       " '4173': 1}"
      ]
     },
     "execution_count": 23,
     "metadata": {},
     "output_type": "execute_result"
    }
   ],
   "source": [
    "stage_dict"
   ]
  },
  {
   "cell_type": "code",
   "execution_count": 24,
   "metadata": {},
   "outputs": [],
   "source": [
    "np.save(final_root + '\\\\ct_total.npy', ct_total)\n",
    "np.save(final_root + '\\\\roi_total.npy', roi_total)\n",
    "np.save(final_root + '\\\\stage_total.npy', stage_numpy)"
   ]
  },
  {
   "cell_type": "code",
   "execution_count": 25,
   "metadata": {},
   "outputs": [],
   "source": [
    "stage_pd = pd.DataFrame(stage_dict, index = ['stage']).transpose()"
   ]
  },
  {
   "cell_type": "code",
   "execution_count": 26,
   "metadata": {},
   "outputs": [],
   "source": [
    "stage_pd.to_csv(final_root + '\\\\stage.csv')"
   ]
  },
  {
   "cell_type": "markdown",
   "metadata": {},
   "source": [
    "## image save"
   ]
  },
  {
   "cell_type": "code",
   "execution_count": 64,
   "metadata": {},
   "outputs": [],
   "source": [
    "for num in np_number:\n",
    "    patient_np_root = os.path.join(np_root, num)\n",
    "    data = os.listdir(patient_np_root)\n",
    "    for nps in data:\n",
    "        if nps == 'ct_normalized.npy':\n",
    "            ct_root = os.path.join(patient_np_root, nps)\n",
    "            ct_np = np.load(ct_root)\n",
    "            ct_t = ct_np.transpose(1, 2, 0)\n",
    "            ct_png = ct_t*255\n",
    "            cv2.imwrite(os.path.join(png_root, num + '.png'), ct_png)\n",
    "            cv2.waitKey(0)"
   ]
  },
  {
   "cell_type": "code",
   "execution_count": null,
   "metadata": {},
   "outputs": [],
   "source": []
  },
  {
   "cell_type": "code",
   "execution_count": null,
   "metadata": {},
   "outputs": [],
   "source": []
  },
  {
   "cell_type": "code",
   "execution_count": null,
   "metadata": {},
   "outputs": [],
   "source": []
  },
  {
   "cell_type": "code",
   "execution_count": null,
   "metadata": {},
   "outputs": [],
   "source": []
  },
  {
   "cell_type": "code",
   "execution_count": null,
   "metadata": {},
   "outputs": [],
   "source": []
  },
  {
   "cell_type": "code",
   "execution_count": null,
   "metadata": {},
   "outputs": [],
   "source": []
  },
  {
   "cell_type": "code",
   "execution_count": null,
   "metadata": {},
   "outputs": [],
   "source": []
  },
  {
   "cell_type": "code",
   "execution_count": null,
   "metadata": {},
   "outputs": [],
   "source": []
  },
  {
   "cell_type": "code",
   "execution_count": null,
   "metadata": {},
   "outputs": [],
   "source": []
  },
  {
   "cell_type": "code",
   "execution_count": null,
   "metadata": {},
   "outputs": [],
   "source": []
  },
  {
   "cell_type": "code",
   "execution_count": null,
   "metadata": {},
   "outputs": [],
   "source": []
  },
  {
   "cell_type": "code",
   "execution_count": null,
   "metadata": {},
   "outputs": [],
   "source": []
  }
 ],
 "metadata": {
  "kernelspec": {
   "display_name": "Python 3",
   "language": "python",
   "name": "python3"
  },
  "language_info": {
   "codemirror_mode": {
    "name": "ipython",
    "version": 3
   },
   "file_extension": ".py",
   "mimetype": "text/x-python",
   "name": "python",
   "nbconvert_exporter": "python",
   "pygments_lexer": "ipython3",
   "version": "3.7.5"
  }
 },
 "nbformat": 4,
 "nbformat_minor": 2
}
