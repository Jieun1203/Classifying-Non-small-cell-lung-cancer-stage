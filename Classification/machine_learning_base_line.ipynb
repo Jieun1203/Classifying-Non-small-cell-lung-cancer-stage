{
 "cells": [
  {
   "cell_type": "code",
   "execution_count": 1,
   "metadata": {},
   "outputs": [],
   "source": [
    "import os\n",
    "import numpy as np\n",
    "import pandas as pd\n",
    "from sklearn.decomposition import PCA\n",
    "from sklearn.model_selection import StratifiedKFold\n",
    "from sklearn.ensemble import RandomForestClassifier\n",
    "from sklearn.svm import LinearSVC, SVC\n",
    "from sklearn.pipeline import Pipeline\n",
    "from sklearn.preprocessing import StandardScaler, MinMaxScaler\n",
    "from sklearn.metrics import confusion_matrix, roc_auc_score, roc_curve\n",
    "from sklearn.manifold import TSNE\n",
    "import matplotlib.pyplot as plt\n",
    "import random"
   ]
  },
  {
   "cell_type": "code",
   "execution_count": 2,
   "metadata": {},
   "outputs": [],
   "source": [
    "random_seed = 1024\n",
    "np.random.seed(random_seed)\n",
    "random.seed(random_seed)"
   ]
  },
  {
   "cell_type": "code",
   "execution_count": 3,
   "metadata": {},
   "outputs": [],
   "source": [
    "data_root_lv = 'X:\\\\jechoi\\\\numpy\\\\Radiogenomics+genomics_raiomics_LAUD+LSCC\\\\train_val_test'"
   ]
  },
  {
   "cell_type": "code",
   "execution_count": 4,
   "metadata": {},
   "outputs": [],
   "source": [
    "training_latent_variable_raw = np.load(data_root_lv + '\\\\training_latent_variable_noBatchNorm.npy')\n",
    "training_label_bf = np.load(data_root_lv + '\\\\training_latent_variable_stage_noBatchNorm.npy')\n",
    "validation_latent_variable_raw = np.load(data_root_lv + '\\\\validation_latent_variable_noBatchNorm.npy')\n",
    "validation_label_bf = np.load(data_root_lv + '\\\\validation_latent_variable_stage_noBatchNorm.npy')\n",
    "test_latent_variable_raw = np.load(data_root_lv + '\\\\test_latent_variable_noBatchNorm.npy')\n",
    "test_label_bf = np.load(data_root_lv + '\\\\test_latent_variable_stage_noBatchNorm.npy')"
   ]
  },
  {
   "cell_type": "code",
   "execution_count": 5,
   "metadata": {},
   "outputs": [],
   "source": [
    "training_latent_variable_max = training_latent_variable_raw.max()\n",
    "training_latent_variable_min = training_latent_variable_raw.min()"
   ]
  },
  {
   "cell_type": "code",
   "execution_count": 6,
   "metadata": {},
   "outputs": [],
   "source": [
    "training_latent_variable = (training_latent_variable_raw - training_latent_variable_min) / (training_latent_variable_max - training_latent_variable_min)\n",
    "validation_latent_variable = (validation_latent_variable_raw - training_latent_variable_min) / (training_latent_variable_max - training_latent_variable_min)\n",
    "test_latent_variable = (test_latent_variable_raw - training_latent_variable_min) / (training_latent_variable_max - training_latent_variable_min)"
   ]
  },
  {
   "cell_type": "code",
   "execution_count": 7,
   "metadata": {},
   "outputs": [
    {
     "name": "stdout",
     "output_type": "stream",
     "text": [
      "(90, 512, 8, 8)\n",
      "(90,)\n",
      "(8, 512, 8, 8)\n",
      "(8,)\n",
      "(37, 512, 8, 8)\n",
      "(37,)\n"
     ]
    }
   ],
   "source": [
    "print(training_latent_variable.shape)\n",
    "print(training_label_bf.shape)\n",
    "print(validation_latent_variable.shape)\n",
    "print(validation_label_bf.shape)\n",
    "print(test_latent_variable.shape)\n",
    "print(test_label_bf.shape)"
   ]
  },
  {
   "cell_type": "code",
   "execution_count": 8,
   "metadata": {},
   "outputs": [
    {
     "name": "stdout",
     "output_type": "stream",
     "text": [
      "one :  0.6333333333333333\n",
      "two :  0.2222222222222222\n",
      "three :  0.1111111111111111\n",
      "four  :  0.03333333333333333\n"
     ]
    }
   ],
   "source": [
    "label_one = len(np.where(training_label_bf == 1)[0]) / len(training_label_bf)\n",
    "label_two = len(np.where(training_label_bf == 2)[0]) / len(training_label_bf)\n",
    "label_three = len(np.where(training_label_bf == 3)[0]) / len(training_label_bf)\n",
    "label_four = len(np.where(training_label_bf == 4)[0]) / len(training_label_bf)\n",
    "print('one : ', label_one)\n",
    "print('two : ', label_two)\n",
    "print('three : ', label_three)\n",
    "print('four  : ', label_four)"
   ]
  },
  {
   "cell_type": "code",
   "execution_count": 9,
   "metadata": {},
   "outputs": [
    {
     "name": "stdout",
     "output_type": "stream",
     "text": [
      "one :  0.625\n",
      "two :  0.25\n",
      "three :  0.125\n",
      "four :  0.0\n"
     ]
    }
   ],
   "source": [
    "val_label_one = len(np.where(validation_label_bf == 1)[0]) / len(validation_label_bf)\n",
    "val_label_two = len(np.where(validation_label_bf == 2)[0]) / len(validation_label_bf)\n",
    "val_label_three = len(np.where(validation_label_bf == 3)[0]) / len(validation_label_bf)\n",
    "val_label_four = len(np.where(validation_label_bf == 4)[0]) / len(validation_label_bf)\n",
    "print('one : ', val_label_one)\n",
    "print('two : ', val_label_two)\n",
    "print('three : ', val_label_three)\n",
    "print('four : ', val_label_four)"
   ]
  },
  {
   "cell_type": "code",
   "execution_count": 10,
   "metadata": {},
   "outputs": [
    {
     "name": "stdout",
     "output_type": "stream",
     "text": [
      "one :  0.5405405405405406\n",
      "two :  0.40540540540540543\n",
      "three :  0.05405405405405406\n",
      "four  :  0.0\n"
     ]
    }
   ],
   "source": [
    "test_label_one = len(np.where(test_label_bf == 1)[0]) / len(test_label_bf)\n",
    "test_label_two = len(np.where(test_label_bf == 2)[0]) / len(test_label_bf)\n",
    "test_label_three = len(np.where(test_label_bf == 3)[0]) / len(test_label_bf)\n",
    "test_label_four = len(np.where(test_label_bf == 4)[0]) / len(test_label_bf)\n",
    "print('one : ', test_label_one)\n",
    "print('two : ', test_label_two)\n",
    "print('three : ', test_label_three)\n",
    "print('four  : ', test_label_four)"
   ]
  },
  {
   "cell_type": "code",
   "execution_count": 11,
   "metadata": {},
   "outputs": [],
   "source": [
    "training_label = np.array([])\n",
    "for i in training_label_bf:\n",
    "    if i == 1:\n",
    "        new_s = 0\n",
    "    else:\n",
    "        new_s = 1\n",
    "    training_label = np.append(training_label, new_s)"
   ]
  },
  {
   "cell_type": "code",
   "execution_count": 12,
   "metadata": {},
   "outputs": [],
   "source": [
    "validation_label = np.array([])\n",
    "for i in validation_label_bf:\n",
    "    if i == 1:\n",
    "        new_s = 0\n",
    "    else:\n",
    "        new_s = 1\n",
    "    validation_label = np.append(validation_label, new_s)"
   ]
  },
  {
   "cell_type": "code",
   "execution_count": 13,
   "metadata": {},
   "outputs": [],
   "source": [
    "test_label = np.array([])\n",
    "for i in test_label_bf:\n",
    "    if i == 1:\n",
    "        new_s = 0\n",
    "    else:\n",
    "        new_s = 1\n",
    "    test_label = np.append(test_label, new_s)"
   ]
  },
  {
   "cell_type": "code",
   "execution_count": 14,
   "metadata": {},
   "outputs": [
    {
     "name": "stdout",
     "output_type": "stream",
     "text": [
      "early_stage :  0.6333333333333333\n",
      "late_stage :  0.36666666666666664\n"
     ]
    }
   ],
   "source": [
    "label_one = len(np.where(training_label == 0)[0]) / len(training_label)\n",
    "label_three = len(np.where(training_label == 1)[0]) / len(training_label)\n",
    "print('early_stage : ', label_one)\n",
    "print('late_stage : ', label_three)"
   ]
  },
  {
   "cell_type": "code",
   "execution_count": 15,
   "metadata": {},
   "outputs": [
    {
     "name": "stdout",
     "output_type": "stream",
     "text": [
      "early_stage :  0.625\n",
      "late_stage :  0.375\n"
     ]
    }
   ],
   "source": [
    "val_label_one = len(np.where(validation_label == 0)[0]) / len(validation_label)\n",
    "val_label_three = len(np.where(validation_label == 1)[0]) / len(validation_label)\n",
    "print('early_stage : ', val_label_one)\n",
    "print('late_stage : ', val_label_three)"
   ]
  },
  {
   "cell_type": "code",
   "execution_count": 16,
   "metadata": {},
   "outputs": [
    {
     "name": "stdout",
     "output_type": "stream",
     "text": [
      "early_stage :  0.5405405405405406\n",
      "late_stage :  0.4594594594594595\n"
     ]
    }
   ],
   "source": [
    "test_label_one = len(np.where(test_label == 0)[0]) / len(test_label)\n",
    "test_label_three = len(np.where(test_label == 1)[0]) / len(test_label)\n",
    "print('early_stage : ', test_label_one)\n",
    "print('late_stage : ', test_label_three)"
   ]
  },
  {
   "cell_type": "code",
   "execution_count": 17,
   "metadata": {},
   "outputs": [],
   "source": [
    "flatten_train_X_raw= training_latent_variable.reshape(training_latent_variable.shape[0], -1).astype('float16')\n",
    "flatten_test_X_raw = test_latent_variable.reshape(test_latent_variable.shape[0], -1).astype('float16')"
   ]
  },
  {
   "cell_type": "code",
   "execution_count": 18,
   "metadata": {},
   "outputs": [],
   "source": [
    "flatten_train_X = (flatten_train_X_raw - flatten_train_X_raw.min()) / (flatten_train_X_raw.max() - flatten_train_X_raw.min())\n",
    "flatten_test_X = (flatten_test_X_raw - flatten_test_X_raw.min()) / (flatten_test_X_raw.max() - flatten_test_X_raw.min())"
   ]
  },
  {
   "cell_type": "code",
   "execution_count": null,
   "metadata": {},
   "outputs": [],
   "source": []
  },
  {
   "cell_type": "code",
   "execution_count": null,
   "metadata": {},
   "outputs": [],
   "source": []
  },
  {
   "cell_type": "code",
   "execution_count": null,
   "metadata": {},
   "outputs": [],
   "source": []
  },
  {
   "cell_type": "code",
   "execution_count": 19,
   "metadata": {},
   "outputs": [
    {
     "data": {
      "text/plain": [
       "PCA(copy=True, iterated_power='auto', n_components=90, random_state=None,\n",
       "    svd_solver='auto', tol=0.0, whiten=False)"
      ]
     },
     "execution_count": 19,
     "metadata": {},
     "output_type": "execute_result"
    }
   ],
   "source": [
    "pca_check = PCA(n_components=len(training_label))\n",
    "pca_check.fit(flatten_train_X)"
   ]
  },
  {
   "cell_type": "code",
   "execution_count": 20,
   "metadata": {},
   "outputs": [],
   "source": [
    "variance_ratio = pca_check.explained_variance_ratio_\n",
    "variance_ratio_cum = np.array([])\n",
    "value = 0\n",
    "num_of_com = [i for i in range(0, len(training_label))]\n",
    "for i in range(len(variance_ratio)):\n",
    "        value += variance_ratio[i]\n",
    "        variance_ratio_cum = np.append(variance_ratio_cum, value)"
   ]
  },
  {
   "cell_type": "code",
   "execution_count": 21,
   "metadata": {},
   "outputs": [
    {
     "data": {
      "image/png": "[encoded data removed]",
      "text/plain": [
       "<Figure size 432x288 with 1 Axes>"
      ]
     },
     "metadata": {
      "needs_background": "light"
     },
     "output_type": "display_data"
    }
   ],
   "source": [
    "plt.plot(num_of_com, variance_ratio)\n",
    "plt.xlabel('number of components')\n",
    "plt.ylabel('explained variance ratio')\n",
    "plt.title('PCA component')\n",
    "plt.show()"
   ]
  },
  {
   "cell_type": "code",
   "execution_count": 22,
   "metadata": {},
   "outputs": [],
   "source": [
    "pca = PCA(n_components=10)\n",
    "train_X_pca = pca.fit_transform(flatten_train_X)\n",
    "test_X_pca = pca.transform(flatten_test_X)"
   ]
  },
  {
   "cell_type": "code",
   "execution_count": 23,
   "metadata": {},
   "outputs": [],
   "source": [
    "# X_train = train_X_pca\n",
    "# y_train = training_label\n",
    "# X_test = test_X_pca\n",
    "# y_test = test_label"
   ]
  },
  {
   "cell_type": "code",
   "execution_count": 24,
   "metadata": {},
   "outputs": [],
   "source": [
    "X_train = flatten_train_X\n",
    "y_train = training_label\n",
    "X_test = flatten_test_X\n",
    "y_test = test_label"
   ]
  },
  {
   "cell_type": "code",
   "execution_count": 25,
   "metadata": {},
   "outputs": [],
   "source": [
    "svm_clf = Pipeline([\n",
    "              (\"linear_svc\", SVC(kernel = 'linear', probability = True, random_state=random_seed))\n",
    "])\n",
    "\n",
    "svm_clf.fit(X_train, y_train)\n",
    "y_hat_svm = svm_clf.predict(X_train)\n",
    "y_predict_svm = svm_clf.predict(X_test)\n",
    "svm_c_matrix_train = confusion_matrix(y_train, y_hat_svm)\n",
    "acc_score_svm_train = (svm_c_matrix_train[0,0] + svm_c_matrix_train[1, 1]) / svm_c_matrix_train.sum()\n",
    "sens_score_svm_train = svm_c_matrix_train[0,0] / svm_c_matrix_train.sum(axis=1)[0]\n",
    "spec_score_svm_train = svm_c_matrix_train[1, 1] / svm_c_matrix_train.sum(axis=1)[1]\n",
    "svm_c_matrix_test = confusion_matrix(y_test, y_predict_svm)\n",
    "acc_score_svm_test = (svm_c_matrix_test[0,0] + svm_c_matrix_test[1, 1]) / svm_c_matrix_test.sum()\n",
    "sens_score_svm_test = svm_c_matrix_test[0,0] / svm_c_matrix_test.sum(axis=1)[0]\n",
    "spec_score_svm_test = svm_c_matrix_test[1, 1] / svm_c_matrix_test.sum(axis=1)[1]\n",
    "y_predicted_prob_svm = svm_clf.predict_proba(X_test)\n",
    "auc_svm = roc_auc_score(y_test, y_predicted_prob_svm[:,1])\n",
    "\n",
    "svm_list = np.array([acc_score_svm_train, acc_score_svm_test, sens_score_svm_train, sens_score_svm_test, \n",
    "           spec_score_svm_train, spec_score_svm_test, auc_svm]).reshape(1, 7)"
   ]
  },
  {
   "cell_type": "code",
   "execution_count": 26,
   "metadata": {},
   "outputs": [],
   "source": [
    "rf = RandomForestClassifier(n_estimators=100, random_state = random_seed)\n",
    "rf.fit(X_train, y_train)\n",
    "y_hat_rf = rf.predict(X_train)\n",
    "y_predict_rf = rf.predict(X_test)\n",
    "rf_c_matrix_train = confusion_matrix(y_train, y_hat_rf)\n",
    "acc_score_rf_train = (rf_c_matrix_train[0,0] + rf_c_matrix_train[1, 1]) / rf_c_matrix_train.sum()\n",
    "sens_score_rf_train = rf_c_matrix_train[0,0] / rf_c_matrix_train.sum(axis=1)[0]\n",
    "spec_score_rf_train = rf_c_matrix_train[1, 1] / rf_c_matrix_train.sum(axis=1)[1]\n",
    "rf_c_matrix_test = confusion_matrix(y_test, y_predict_rf)\n",
    "acc_score_rf_test = (rf_c_matrix_test[0,0] + rf_c_matrix_test[1, 1]) / rf_c_matrix_test.sum()\n",
    "sens_score_rf_test = rf_c_matrix_test[0,0] / rf_c_matrix_test.sum(axis=1)[0]\n",
    "spec_score_rf_test = rf_c_matrix_test[1, 1] / rf_c_matrix_test.sum(axis=1)[1]\n",
    "\n",
    "y_predicted_prob_rf = rf.predict_proba(X_test)\n",
    "auc_svm = roc_auc_score(y_test, y_predicted_prob_rf[:, 1])\n",
    "\n",
    "rf_list = np.array([acc_score_rf_train, acc_score_rf_test, sens_score_rf_train, sens_score_rf_test, \n",
    "          spec_score_rf_train, spec_score_rf_test, auc_svm]).reshape(1, 7)"
   ]
  },
  {
   "cell_type": "code",
   "execution_count": 27,
   "metadata": {},
   "outputs": [],
   "source": [
    "svm_result = pd.DataFrame(svm_list, columns=['acc_train', 'acc_test', 'sen_train', 'sen_test', \n",
    "                                           'spe_train', 'spe_test', 'auc_test'], index = [str(i+1)])\n",
    "rf_result = pd.DataFrame(rf_list, columns=['acc_train', 'acc_test', 'sen_train', 'sen_test', \n",
    "                                           'spe_train', 'spe_test', 'auc_test'], index = [str(i+1)])"
   ]
  },
  {
   "cell_type": "code",
   "execution_count": 28,
   "metadata": {},
   "outputs": [
    {
     "data": {
      "text/html": [
       "<div>\n",
       "<style scoped>\n",
       "    .dataframe tbody tr th:only-of-type {\n",
       "        vertical-align: middle;\n",
       "    }\n",
       "\n",
       "    .dataframe tbody tr th {\n",
       "        vertical-align: top;\n",
       "    }\n",
       "\n",
       "    .dataframe thead th {\n",
       "        text-align: right;\n",
       "    }\n",
       "</style>\n",
       "<table border=\"1\" class=\"dataframe\">\n",
       "  <thead>\n",
       "    <tr style=\"text-align: right;\">\n",
       "      <th></th>\n",
       "      <th>acc_train</th>\n",
       "      <th>acc_test</th>\n",
       "      <th>sen_train</th>\n",
       "      <th>sen_test</th>\n",
       "      <th>spe_train</th>\n",
       "      <th>spe_test</th>\n",
       "      <th>auc_test</th>\n",
       "    </tr>\n",
       "  </thead>\n",
       "  <tbody>\n",
       "    <tr>\n",
       "      <th>90</th>\n",
       "      <td>1.0</td>\n",
       "      <td>0.675676</td>\n",
       "      <td>1.0</td>\n",
       "      <td>0.65</td>\n",
       "      <td>1.0</td>\n",
       "      <td>0.705882</td>\n",
       "      <td>0.782353</td>\n",
       "    </tr>\n",
       "  </tbody>\n",
       "</table>\n",
       "</div>"
      ],
      "text/plain": [
       "    acc_train  acc_test  sen_train  sen_test  spe_train  spe_test  auc_test\n",
       "90        1.0  0.675676        1.0      0.65        1.0  0.705882  0.782353"
      ]
     },
     "execution_count": 28,
     "metadata": {},
     "output_type": "execute_result"
    }
   ],
   "source": [
    "svm_result"
   ]
  },
  {
   "cell_type": "code",
   "execution_count": 29,
   "metadata": {},
   "outputs": [
    {
     "data": {
      "text/html": [
       "<div>\n",
       "<style scoped>\n",
       "    .dataframe tbody tr th:only-of-type {\n",
       "        vertical-align: middle;\n",
       "    }\n",
       "\n",
       "    .dataframe tbody tr th {\n",
       "        vertical-align: top;\n",
       "    }\n",
       "\n",
       "    .dataframe thead th {\n",
       "        text-align: right;\n",
       "    }\n",
       "</style>\n",
       "<table border=\"1\" class=\"dataframe\">\n",
       "  <thead>\n",
       "    <tr style=\"text-align: right;\">\n",
       "      <th></th>\n",
       "      <th>acc_train</th>\n",
       "      <th>acc_test</th>\n",
       "      <th>sen_train</th>\n",
       "      <th>sen_test</th>\n",
       "      <th>spe_train</th>\n",
       "      <th>spe_test</th>\n",
       "      <th>auc_test</th>\n",
       "    </tr>\n",
       "  </thead>\n",
       "  <tbody>\n",
       "    <tr>\n",
       "      <th>90</th>\n",
       "      <td>1.0</td>\n",
       "      <td>0.621622</td>\n",
       "      <td>1.0</td>\n",
       "      <td>0.95</td>\n",
       "      <td>1.0</td>\n",
       "      <td>0.235294</td>\n",
       "      <td>0.782353</td>\n",
       "    </tr>\n",
       "  </tbody>\n",
       "</table>\n",
       "</div>"
      ],
      "text/plain": [
       "    acc_train  acc_test  sen_train  sen_test  spe_train  spe_test  auc_test\n",
       "90        1.0  0.621622        1.0      0.95        1.0  0.235294  0.782353"
      ]
     },
     "execution_count": 29,
     "metadata": {},
     "output_type": "execute_result"
    }
   ],
   "source": [
    "rf_result"
   ]
  },
  {
   "cell_type": "code",
   "execution_count": 30,
   "metadata": {},
   "outputs": [
    {
     "data": {
      "text/plain": [
       "array([[0.7343538 , 0.2656462 ],\n",
       "       [0.64400941, 0.35599059],\n",
       "       [0.47762947, 0.52237053],\n",
       "       [0.75349466, 0.24650534],\n",
       "       [0.46103042, 0.53896958],\n",
       "       [0.64536643, 0.35463357],\n",
       "       [0.40067771, 0.59932229],\n",
       "       [0.69033277, 0.30966723],\n",
       "       [0.5       , 0.5       ],\n",
       "       [0.5       , 0.5       ],\n",
       "       [0.3720995 , 0.6279005 ],\n",
       "       [0.68080122, 0.31919878],\n",
       "       [0.64098775, 0.35901225],\n",
       "       [0.5868811 , 0.4131189 ],\n",
       "       [0.5       , 0.5       ],\n",
       "       [0.56577377, 0.43422623],\n",
       "       [0.52278196, 0.47721804],\n",
       "       [0.49140812, 0.50859188],\n",
       "       [0.31117544, 0.68882456],\n",
       "       [0.35539042, 0.64460958],\n",
       "       [0.48391167, 0.51608833],\n",
       "       [0.47569596, 0.52430404],\n",
       "       [0.79238975, 0.20761025],\n",
       "       [0.75696076, 0.24303924],\n",
       "       [0.8164517 , 0.1835483 ],\n",
       "       [0.68887545, 0.31112455],\n",
       "       [0.54377114, 0.45622886],\n",
       "       [0.55262711, 0.44737289],\n",
       "       [0.51017495, 0.48982505],\n",
       "       [0.49073124, 0.50926876],\n",
       "       [0.3776758 , 0.6223242 ],\n",
       "       [0.6570486 , 0.3429514 ],\n",
       "       [0.53220564, 0.46779436],\n",
       "       [0.48134772, 0.51865228],\n",
       "       [0.66742854, 0.33257146],\n",
       "       [0.71314855, 0.28685145],\n",
       "       [0.40273523, 0.59726477]])"
      ]
     },
     "execution_count": 30,
     "metadata": {},
     "output_type": "execute_result"
    }
   ],
   "source": [
    "y_predicted_prob_svm"
   ]
  },
  {
   "cell_type": "code",
   "execution_count": 31,
   "metadata": {},
   "outputs": [
    {
     "data": {
      "text/plain": [
       "array([0., 0., 0., 0., 0., 1., 1., 0., 0., 0., 1., 0., 0., 0., 1., 0., 0.,\n",
       "       1., 1., 1., 1., 1., 0., 0., 0., 1., 0., 1., 1., 0., 1., 1., 0., 1.,\n",
       "       1., 0., 1.])"
      ]
     },
     "execution_count": 31,
     "metadata": {},
     "output_type": "execute_result"
    }
   ],
   "source": [
    "y_test"
   ]
  },
  {
   "cell_type": "code",
   "execution_count": null,
   "metadata": {},
   "outputs": [],
   "source": []
  },
  {
   "cell_type": "code",
   "execution_count": 32,
   "metadata": {},
   "outputs": [],
   "source": [
    "save_root = 'D:\\\\radiogenomics+radiomics_genomics_LAUD+LSCC'"
   ]
  },
  {
   "cell_type": "code",
   "execution_count": 33,
   "metadata": {},
   "outputs": [],
   "source": [
    "svm_result.to_csv(save_root + '\\\\svm_result.csv')\n",
    "rf_result.to_csv(save_root + '\\\\rf_result.csv')"
   ]
  },
  {
   "cell_type": "code",
   "execution_count": null,
   "metadata": {},
   "outputs": [],
   "source": []
  },
  {
   "cell_type": "code",
   "execution_count": 34,
   "metadata": {},
   "outputs": [],
   "source": [
    "roc_root = 'X:\\\\jechoi\\\\numpy\\\\Radiogenomics+genomics_raiomics_LAUD+LSCC\\\\train_val_test\\\\AUC data'"
   ]
  },
  {
   "cell_type": "code",
   "execution_count": 35,
   "metadata": {},
   "outputs": [],
   "source": [
    "np.save(roc_root + '\\\\Unet+SVM\\\\probability.npy', y_predicted_prob_svm)\n",
    "np.save(roc_root + '\\\\Unet+SVM\\\\test_real.npy', y_test)"
   ]
  },
  {
   "cell_type": "code",
   "execution_count": 36,
   "metadata": {},
   "outputs": [],
   "source": [
    "np.save(roc_root + '\\\\Unet+RF\\\\probability.npy', y_predicted_prob_rf)\n",
    "np.save(roc_root + '\\\\Unet+RF\\\\test_real.npy', y_test)"
   ]
  },
  {
   "cell_type": "code",
   "execution_count": 37,
   "metadata": {},
   "outputs": [],
   "source": [
    "y_test = y_test.reshape(37, 1)\n",
    "y_predict_svm = y_predict_svm.reshape(37, 1)\n",
    "y_predict_rf = y_predict_rf.reshape(37, 1)"
   ]
  },
  {
   "cell_type": "code",
   "execution_count": 38,
   "metadata": {},
   "outputs": [],
   "source": [
    "svm_output = np.append(y_test, y_predict_svm, axis = 1)\n",
    "rf_output = np.append(y_test, y_predict_rf, axis = 1)"
   ]
  },
  {
   "cell_type": "code",
   "execution_count": 39,
   "metadata": {},
   "outputs": [],
   "source": [
    "svm_output_pd = pd.DataFrame(svm_output, columns = ['real label', 'predicted label'])\n",
    "rf_output_pd = pd.DataFrame(rf_output, columns = ['real label', 'predicted label'])"
   ]
  },
  {
   "cell_type": "code",
   "execution_count": 40,
   "metadata": {},
   "outputs": [],
   "source": [
    "svm_output_pd.to_csv(save_root + '\\\\svm_output.csv')\n",
    "rf_output_pd.to_csv(save_root + '\\\\rf_output.csv')"
   ]
  },
  {
   "cell_type": "code",
   "execution_count": null,
   "metadata": {},
   "outputs": [],
   "source": []
  }
 ],
 "metadata": {
  "kernelspec": {
   "display_name": "Python 3",
   "language": "python",
   "name": "python3"
  },
  "language_info": {
   "codemirror_mode": {
    "name": "ipython",
    "version": 3
   },
   "file_extension": ".py",
   "mimetype": "text/x-python",
   "name": "python",
   "nbconvert_exporter": "python",
   "pygments_lexer": "ipython3",
   "version": "3.7.5"
  }
 },
 "nbformat": 4,
 "nbformat_minor": 2
}
