{
 "cells": [
  {
   "cell_type": "code",
   "execution_count": 1,
   "metadata": {},
   "outputs": [
    {
     "name": "stderr",
     "output_type": "stream",
     "text": [
      "C:\\Users\\user\\.conda\\envs\\pytorch\\lib\\site-packages\\pytorch_lightning\\utilities\\distributed.py:25: UserWarning: Unsupported `ReduceOp` for distributed computing.\n",
      "  warnings.warn(*args, **kwargs)\n"
     ]
    }
   ],
   "source": [
    "import os\n",
    "import numpy as np\n",
    "import torch\n",
    "import torch.nn as nn\n",
    "from torch.autograd import Variable\n",
    "from torch.optim import lr_scheduler\n",
    "from torch.utils.data import DataLoader, Dataset\n",
    "from pytorch_lightning import Trainer\n",
    "from pytorch_lightning.callbacks import EarlyStopping\n",
    "import collections\n",
    "import torchvision.transforms as transforms\n",
    "from torch.optim import lr_scheduler\n",
    "from PIL import Image\n",
    "import matplotlib.pyplot as plt\n",
    "import torchvision.models as models\n",
    "import pandas as pd\n",
    "import torch.nn.functional as F\n",
    "import random\n",
    "from sklearn.metrics import roc_auc_score, roc_curve, auc, confusion_matrix\n",
    "import math"
   ]
  },
  {
   "cell_type": "code",
   "execution_count": 2,
   "metadata": {},
   "outputs": [],
   "source": [
    "torch.backends.cudnn.deterministic = True\n",
    "torch.backends.cudnn.benchmark = False"
   ]
  },
  {
   "cell_type": "code",
   "execution_count": 3,
   "metadata": {},
   "outputs": [],
   "source": [
    "random_seed = 1024"
   ]
  },
  {
   "cell_type": "code",
   "execution_count": 4,
   "metadata": {},
   "outputs": [],
   "source": [
    "torch.manual_seed(random_seed)\n",
    "np.random.seed(random_seed)\n",
    "random.seed(random_seed)"
   ]
  },
  {
   "cell_type": "code",
   "execution_count": 5,
   "metadata": {},
   "outputs": [],
   "source": [
    "data_root_lv = 'X:\\\\jechoi\\\\numpy\\\\Radiogenomics+genomics_raiomics_LAUD+LSCC\\\\train_val_test\\\\img\\\\numpy'"
   ]
  },
  {
   "cell_type": "code",
   "execution_count": 6,
   "metadata": {},
   "outputs": [],
   "source": [
    "training_latent_variable_raw = np.load(data_root_lv + '\\\\training_autoencoder_input.npy')\n",
    "training_label_bf = np.load(data_root_lv + '\\\\training_autoencoder_output_stage.npy')\n",
    "validation_latent_variable_raw = np.load(data_root_lv + '\\\\validation_autoencoder_input.npy')\n",
    "validation_label_bf = np.load(data_root_lv + '\\\\validation_autoencoder_output_stage.npy')\n",
    "test_latent_variable_raw = np.load(data_root_lv + '\\\\test_autoencoder_input.npy')\n",
    "test_label_bf = np.load(data_root_lv + '\\\\test_autoencoder_output_stage.npy')"
   ]
  },
  {
   "cell_type": "code",
   "execution_count": 7,
   "metadata": {},
   "outputs": [],
   "source": [
    "training_latent_variable_max = training_latent_variable_raw.max()\n",
    "training_latent_variable_min = training_latent_variable_raw.min()"
   ]
  },
  {
   "cell_type": "code",
   "execution_count": 8,
   "metadata": {},
   "outputs": [],
   "source": [
    "training_latent_variable = (training_latent_variable_raw - training_latent_variable_min) / (training_latent_variable_max - training_latent_variable_min)\n",
    "validation_latent_variable = (validation_latent_variable_raw - training_latent_variable_min) / (training_latent_variable_max - training_latent_variable_min)\n",
    "test_latent_variable = (test_latent_variable_raw - training_latent_variable_min) / (training_latent_variable_max - training_latent_variable_min)"
   ]
  },
  {
   "cell_type": "code",
   "execution_count": 9,
   "metadata": {},
   "outputs": [
    {
     "name": "stdout",
     "output_type": "stream",
     "text": [
      "(90, 3, 128, 128)\n",
      "(90,)\n",
      "(8, 3, 128, 128)\n",
      "(8,)\n",
      "(37, 3, 128, 128)\n",
      "(37,)\n"
     ]
    }
   ],
   "source": [
    "print(training_latent_variable.shape)\n",
    "print(training_label_bf.shape)\n",
    "print(validation_latent_variable.shape)\n",
    "print(validation_label_bf.shape)\n",
    "print(test_latent_variable.shape)\n",
    "print(test_label_bf.shape)"
   ]
  },
  {
   "cell_type": "code",
   "execution_count": 10,
   "metadata": {},
   "outputs": [
    {
     "name": "stdout",
     "output_type": "stream",
     "text": [
      "one :  0.6333333333333333\n",
      "two :  0.2222222222222222\n",
      "three :  0.1111111111111111\n",
      "four  :  0.03333333333333333\n"
     ]
    }
   ],
   "source": [
    "label_one = len(np.where(training_label_bf == 1)[0]) / len(training_label_bf)\n",
    "label_two = len(np.where(training_label_bf == 2)[0]) / len(training_label_bf)\n",
    "label_three = len(np.where(training_label_bf == 3)[0]) / len(training_label_bf)\n",
    "label_four = len(np.where(training_label_bf == 4)[0]) / len(training_label_bf)\n",
    "print('one : ', label_one)\n",
    "print('two : ', label_two)\n",
    "print('three : ', label_three)\n",
    "print('four  : ', label_four)"
   ]
  },
  {
   "cell_type": "code",
   "execution_count": 11,
   "metadata": {},
   "outputs": [
    {
     "name": "stdout",
     "output_type": "stream",
     "text": [
      "one :  0.625\n",
      "two :  0.25\n",
      "three :  0.125\n",
      "four :  0.0\n"
     ]
    }
   ],
   "source": [
    "val_label_one = len(np.where(validation_label_bf == 1)[0]) / len(validation_label_bf)\n",
    "val_label_two = len(np.where(validation_label_bf == 2)[0]) / len(validation_label_bf)\n",
    "val_label_three = len(np.where(validation_label_bf == 3)[0]) / len(validation_label_bf)\n",
    "val_label_four = len(np.where(validation_label_bf == 4)[0]) / len(validation_label_bf)\n",
    "print('one : ', val_label_one)\n",
    "print('two : ', val_label_two)\n",
    "print('three : ', val_label_three)\n",
    "print('four : ', val_label_four)"
   ]
  },
  {
   "cell_type": "code",
   "execution_count": 12,
   "metadata": {},
   "outputs": [
    {
     "name": "stdout",
     "output_type": "stream",
     "text": [
      "one :  0.5405405405405406\n",
      "two :  0.40540540540540543\n",
      "three :  0.05405405405405406\n",
      "four  :  0.0\n"
     ]
    }
   ],
   "source": [
    "test_label_one = len(np.where(test_label_bf == 1)[0]) / len(test_label_bf)\n",
    "test_label_two = len(np.where(test_label_bf == 2)[0]) / len(test_label_bf)\n",
    "test_label_three = len(np.where(test_label_bf == 3)[0]) / len(test_label_bf)\n",
    "test_label_four = len(np.where(test_label_bf == 4)[0]) / len(test_label_bf)\n",
    "print('one : ', test_label_one)\n",
    "print('two : ', test_label_two)\n",
    "print('three : ', test_label_three)\n",
    "print('four  : ', test_label_four)"
   ]
  },
  {
   "cell_type": "code",
   "execution_count": 13,
   "metadata": {},
   "outputs": [],
   "source": [
    "training_label = np.array([])\n",
    "for i in training_label_bf:\n",
    "    if i == 1:\n",
    "        new_s = 0\n",
    "    else:\n",
    "        new_s = 1\n",
    "    training_label = np.append(training_label, new_s)"
   ]
  },
  {
   "cell_type": "code",
   "execution_count": 14,
   "metadata": {},
   "outputs": [],
   "source": [
    "validation_label = np.array([])\n",
    "for i in validation_label_bf:\n",
    "    if i == 1:\n",
    "        new_s = 0\n",
    "    else:\n",
    "        new_s = 1\n",
    "    validation_label = np.append(validation_label, new_s)"
   ]
  },
  {
   "cell_type": "code",
   "execution_count": 15,
   "metadata": {},
   "outputs": [
    {
     "name": "stdout",
     "output_type": "stream",
     "text": [
      "early_stage :  0.6333333333333333\n",
      "late_stage :  0.36666666666666664\n"
     ]
    }
   ],
   "source": [
    "label_one = len(np.where(training_label == 0)[0]) / len(training_label)\n",
    "label_three = len(np.where(training_label == 1)[0]) / len(training_label)\n",
    "print('early_stage : ', label_one)\n",
    "print('late_stage : ', label_three)"
   ]
  },
  {
   "cell_type": "code",
   "execution_count": 16,
   "metadata": {},
   "outputs": [
    {
     "name": "stdout",
     "output_type": "stream",
     "text": [
      "early_stage :  0.625\n",
      "late_stage :  0.375\n"
     ]
    }
   ],
   "source": [
    "val_label_one = len(np.where(validation_label == 0)[0]) / len(validation_label)\n",
    "val_label_three = len(np.where(validation_label == 1)[0]) / len(validation_label)\n",
    "print('early_stage : ', val_label_one)\n",
    "print('late_stage : ', val_label_three)"
   ]
  },
  {
   "cell_type": "code",
   "execution_count": 17,
   "metadata": {},
   "outputs": [],
   "source": [
    "test_label = np.array([])\n",
    "for i in test_label_bf:\n",
    "    if i == 1:\n",
    "        new_s = 0\n",
    "    else:\n",
    "        new_s = 1\n",
    "    test_label = np.append(test_label, new_s)"
   ]
  },
  {
   "cell_type": "code",
   "execution_count": 18,
   "metadata": {},
   "outputs": [
    {
     "name": "stdout",
     "output_type": "stream",
     "text": [
      "early_stage :  0.6333333333333333\n",
      "late_stage :  0.36666666666666664\n"
     ]
    }
   ],
   "source": [
    "label_one = len(np.where(training_label == 0)[0]) / len(training_label)\n",
    "label_three = len(np.where(training_label == 1)[0]) / len(training_label)\n",
    "print('early_stage : ', label_one)\n",
    "print('late_stage : ', label_three)"
   ]
  },
  {
   "cell_type": "code",
   "execution_count": 19,
   "metadata": {},
   "outputs": [
    {
     "name": "stdout",
     "output_type": "stream",
     "text": [
      "early_stage :  0.625\n",
      "late_stage :  0.375\n"
     ]
    }
   ],
   "source": [
    "val_label_one = len(np.where(validation_label == 0)[0]) / len(validation_label)\n",
    "val_label_three = len(np.where(validation_label == 1)[0]) / len(validation_label)\n",
    "print('early_stage : ', val_label_one)\n",
    "print('late_stage : ', val_label_three)"
   ]
  },
  {
   "cell_type": "code",
   "execution_count": 20,
   "metadata": {},
   "outputs": [
    {
     "name": "stdout",
     "output_type": "stream",
     "text": [
      "early_stage :  0.5405405405405406\n",
      "late_stage :  0.4594594594594595\n"
     ]
    }
   ],
   "source": [
    "test_label_one = len(np.where(test_label == 0)[0]) / len(test_label)\n",
    "test_label_three = len(np.where(test_label == 1)[0]) / len(test_label)\n",
    "print('early_stage : ', test_label_one)\n",
    "print('late_stage : ', test_label_three)"
   ]
  },
  {
   "cell_type": "code",
   "execution_count": 21,
   "metadata": {},
   "outputs": [],
   "source": [
    "train_label = np.zeros((len(training_label), 2))\n",
    "for i in range(len(training_label)):\n",
    "    label = int(training_label[i] - 1)\n",
    "    train_label[i, label] = 1"
   ]
  },
  {
   "cell_type": "code",
   "execution_count": 22,
   "metadata": {},
   "outputs": [],
   "source": [
    "val_label = np.zeros((len(validation_label), 2))\n",
    "for i in range(len(validation_label)):\n",
    "    label = int(validation_label[i] - 1)\n",
    "    val_label[i, label] = 1"
   ]
  },
  {
   "cell_type": "code",
   "execution_count": 23,
   "metadata": {},
   "outputs": [],
   "source": [
    "te_label = np.zeros((len(test_label), 2))\n",
    "for i in range(len(test_label)):\n",
    "    label = int(test_label[i] - 1)\n",
    "    te_label[i, label] = 1"
   ]
  },
  {
   "cell_type": "code",
   "execution_count": 24,
   "metadata": {},
   "outputs": [],
   "source": [
    "train_x_torch = torch.tensor(training_latent_variable, dtype=torch.float)\n",
    "train_y_torch = torch.tensor(train_label, dtype=torch.long)"
   ]
  },
  {
   "cell_type": "code",
   "execution_count": 25,
   "metadata": {},
   "outputs": [],
   "source": [
    "val_x_torch = torch.tensor(validation_latent_variable, dtype=torch.float)\n",
    "val_y_torch = torch.tensor(val_label, dtype=torch.long)"
   ]
  },
  {
   "cell_type": "code",
   "execution_count": 26,
   "metadata": {},
   "outputs": [],
   "source": [
    "test_x_torch = torch.tensor(test_latent_variable, dtype=torch.float)\n",
    "test_y_torch = torch.tensor(te_label, dtype=torch.long)"
   ]
  },
  {
   "cell_type": "code",
   "execution_count": 27,
   "metadata": {},
   "outputs": [],
   "source": [
    "batch_size = 16\n",
    "momentum = 0.9\n",
    "learning_rate = 1e-5\n",
    "drop_out_ratio = 0.5\n",
    "num_epochs = 240\n",
    "num_classes = 2"
   ]
  },
  {
   "cell_type": "code",
   "execution_count": 28,
   "metadata": {},
   "outputs": [],
   "source": [
    "class Dataset(Dataset):\n",
    "    def __init__(self, images, label):\n",
    "        self.labels = label\n",
    "        self.images = images\n",
    "        \n",
    "    def __len__(self):\n",
    "        return len(self.images)\n",
    "    \n",
    "    def __getitem__(self, index):\n",
    "        X = self.images[index]\n",
    "        y = self.labels[index]\n",
    "        return X, y"
   ]
  },
  {
   "cell_type": "code",
   "execution_count": 29,
   "metadata": {},
   "outputs": [],
   "source": [
    "training_set = Dataset(train_x_torch, train_y_torch)\n",
    "train_loader = DataLoader(training_set, batch_size = batch_size, shuffle=True)\n",
    "batch_len_train = len(train_loader)"
   ]
  },
  {
   "cell_type": "code",
   "execution_count": 30,
   "metadata": {},
   "outputs": [],
   "source": [
    "validation_set = Dataset(val_x_torch, val_y_torch)\n",
    "validation_loader = DataLoader(validation_set, batch_size = batch_size, shuffle=True)\n",
    "batch_len_val = len(validation_loader)"
   ]
  },
  {
   "cell_type": "code",
   "execution_count": 31,
   "metadata": {},
   "outputs": [],
   "source": [
    "test_set = Dataset(test_x_torch, test_y_torch)\n",
    "test_loader = DataLoader(test_set, batch_size = batch_size, shuffle=True)\n",
    "batch_len_val = len(test_loader)"
   ]
  },
  {
   "cell_type": "code",
   "execution_count": 32,
   "metadata": {},
   "outputs": [],
   "source": [
    "class Model(nn.Module):\n",
    "    def __init__(self, in_channels, out_channels, out_channels1, out_channels2, flatten_size, out_features1, \n",
    "                 out_features2, out_features3, out_features4, out_features5):\n",
    "        super(Model, self).__init__()\n",
    "        self.cnn = nn.Conv2d(in_channels, out_channels, kernel_size = 3, padding = 1)\n",
    "        self.cnn1 = nn.Conv2d(out_channels, out_channels1, kernel_size= 3, padding = 1)\n",
    "        self.cnn2 = nn.Conv2d(out_channels1, out_channels2, kernel_size= 3, padding = 1)\n",
    "        self.linear1 = nn.Linear(flatten_size, out_features1)\n",
    "        self.linear2 = nn.Linear(out_features1, out_features2)\n",
    "        self.linear3 = nn.Linear(out_features2, out_features3)\n",
    "        self.linear4 = nn.Linear(out_features3, out_features4)\n",
    "        self.linear5 = nn.Linear(out_features4, out_features5)\n",
    "        self.BatchNorm = nn.BatchNorm2d(out_channels)\n",
    "        self.BatchNorm1 = nn.BatchNorm2d(out_channels1)\n",
    "        self.dropout = nn.Dropout2d(drop_out_ratio)\n",
    "        self.dropout1 = nn.Dropout(drop_out_ratio)\n",
    "        \n",
    "    def forward(self, x):\n",
    "        output = self.cnn(x)\n",
    "        output = self.BatchNorm(output)\n",
    "        output = self.cnn1(output)\n",
    "        output = self.BatchNorm1(output)\n",
    "        output = self.dropout(output)\n",
    "        output = self.cnn2(output)\n",
    "        output = output.view(output.size(0), -1)\n",
    "        output = self.dropout1(output)\n",
    "        output = self.linear1(output)\n",
    "        output = self.dropout1(output)\n",
    "        output = self.linear2(output)\n",
    "        output = self.dropout1(output)\n",
    "        output = self.linear3(output)      \n",
    "        output = self.dropout1(output)\n",
    "        output = self.linear4(output)\n",
    "        output = self.linear5(output)\n",
    "        output = F.log_softmax(output, dim = 1)\n",
    "        return output"
   ]
  },
  {
   "cell_type": "code",
   "execution_count": 33,
   "metadata": {},
   "outputs": [],
   "source": [
    "class EarlyStopping:\n",
    "    \"\"\"Early stops the training if validation loss doesn't improve after a given patience.\"\"\"\n",
    "    def __init__(self, patience=7, verbose=False):\n",
    "        \"\"\"\n",
    "        Args:\n",
    "            patience (int): How long to wait after last time validation loss improved.\n",
    "                            Default: 7\n",
    "            verbose (bool): If True, prints a message for each validation loss improvement. \n",
    "                            Default: False\n",
    "        \"\"\"\n",
    "        self.patience = patience\n",
    "        self.verbose = verbose\n",
    "        self.counter = 0\n",
    "        self.best_score = None\n",
    "        self.early_stop = False\n",
    "        self.val_loss_min = np.Inf\n",
    "\n",
    "    def __call__(self, val_loss, model):\n",
    "\n",
    "        score = -val_loss\n",
    "\n",
    "        if self.best_score is None:\n",
    "            self.best_score = score\n",
    "            self.save_checkpoint(val_loss, model)\n",
    "        elif score < self.best_score:\n",
    "            self.counter += 1\n",
    "            print(f'EarlyStopping counter: {self.counter} out of {self.patience}')\n",
    "            if self.counter >= self.patience:\n",
    "                self.early_stop = True\n",
    "        else:\n",
    "            self.best_score = score\n",
    "            self.save_checkpoint(val_loss, model)\n",
    "            self.counter = 0\n",
    "\n",
    "    def save_checkpoint(self, val_loss, model):\n",
    "        '''Saves model when validation loss decrease.'''\n",
    "        if self.verbose:\n",
    "            print(f'Validation loss decreased ({self.val_loss_min:.6f} --> {val_loss:.6f}).  Saving model ...')\n",
    "        torch.save(model.state_dict(), data_root_lv + '\\\\clf_checkpoint_base_line.pt')\n",
    "        self.val_loss_min = val_loss"
   ]
  },
  {
   "cell_type": "code",
   "execution_count": 34,
   "metadata": {},
   "outputs": [],
   "source": [
    "flatten_size = 64*128*128"
   ]
  },
  {
   "cell_type": "code",
   "execution_count": 35,
   "metadata": {},
   "outputs": [
    {
     "data": {
      "text/plain": [
       "Model(\n",
       "  (cnn): Conv2d(3, 512, kernel_size=(3, 3), stride=(1, 1), padding=(1, 1))\n",
       "  (cnn1): Conv2d(512, 512, kernel_size=(3, 3), stride=(1, 1), padding=(1, 1))\n",
       "  (cnn2): Conv2d(512, 64, kernel_size=(3, 3), stride=(1, 1), padding=(1, 1))\n",
       "  (linear1): Linear(in_features=1048576, out_features=128, bias=True)\n",
       "  (linear2): Linear(in_features=128, out_features=8, bias=True)\n",
       "  (linear3): Linear(in_features=8, out_features=8, bias=True)\n",
       "  (linear4): Linear(in_features=8, out_features=8, bias=True)\n",
       "  (linear5): Linear(in_features=8, out_features=2, bias=True)\n",
       "  (BatchNorm): BatchNorm2d(512, eps=1e-05, momentum=0.1, affine=True, track_running_stats=True)\n",
       "  (BatchNorm1): BatchNorm2d(512, eps=1e-05, momentum=0.1, affine=True, track_running_stats=True)\n",
       "  (dropout): Dropout2d(p=0.5, inplace=False)\n",
       "  (dropout1): Dropout(p=0.5, inplace=False)\n",
       ")"
      ]
     },
     "execution_count": 35,
     "metadata": {},
     "output_type": "execute_result"
    }
   ],
   "source": [
    "my_model = Model(3, 512, 512, 64, flatten_size, 128, 8, 8, 8, num_classes)\n",
    "my_model.cuda()"
   ]
  },
  {
   "cell_type": "code",
   "execution_count": null,
   "metadata": {},
   "outputs": [],
   "source": [
    "early_stopping = EarlyStopping(patience = 10, verbose = True)"
   ]
  },
  {
   "cell_type": "code",
   "execution_count": null,
   "metadata": {},
   "outputs": [],
   "source": [
    "criterion = nn.CrossEntropyLoss()\n",
    "optimizer = torch.optim.Adam(my_model.parameters(), lr=learning_rate, weight_decay=1e-4)"
   ]
  },
  {
   "cell_type": "code",
   "execution_count": null,
   "metadata": {},
   "outputs": [],
   "source": [
    "result = np.array([]).reshape(0, 8)\n",
    "for epoch in range(num_epochs):\n",
    "    epoch_loss_train = 0.0\n",
    "    epoch_train_acc = 0.0\n",
    "    predicted_train_output = np.array([])\n",
    "    train_real = np.array([])\n",
    "\n",
    "    my_model.train()\n",
    "    for train_x_batch, train_y_batch in train_loader:\n",
    "        train_x = Variable(train_x_batch).cuda()\n",
    "        train_y = Variable(train_y_batch).cuda()\n",
    "        \n",
    "        optimizer.zero_grad()\n",
    "        \n",
    "        train_output = my_model(train_x)\n",
    "        train_epoch_loss = criterion(train_output, torch.max(train_y, 1)[1])\n",
    "\n",
    "        train_epoch_loss.backward()\n",
    "        optimizer.step()\n",
    "\n",
    "        epoch_loss_train += (train_epoch_loss.data.item() * len(train_x_batch))\n",
    "\n",
    "        pred = np.argmax(train_output.data.cpu().numpy(), axis = 1)\n",
    "        true = np.argmax(train_y.data.cpu().numpy(), axis = 1)\n",
    "        predicted_train_output = np.append(predicted_train_output, pred)\n",
    "        train_real = np.append(train_real, true)\n",
    "        correct = len(np.where(pred == true)[0])\n",
    "        epoch_train_acc += (correct / len(pred))\n",
    "\n",
    "    train_loss = epoch_loss_train / len(train_x_torch)\n",
    "    train_acc = len(np.where(predicted_train_output == train_real)[0]) / len(predicted_train_output)\n",
    "\n",
    "\n",
    "    with torch.no_grad():\n",
    "        \n",
    "        '''\n",
    "        validation\n",
    "        '''\n",
    "        epoch_loss_val = 0.0\n",
    "        epoch_acc_val = 0.0\n",
    "        predicted_val_output = np.array([])\n",
    "        val_real = np.array([])\n",
    "        \n",
    "        my_model.eval()\n",
    "\n",
    "        for validation_x_batch, validation_y_batch in validation_loader:\n",
    "            validation_x = Variable(validation_x_batch).cuda()\n",
    "            validation_y = Variable(validation_y_batch).cuda()\n",
    "\n",
    "            validation_output = my_model(validation_x)\n",
    "            validation_epoch_loss = criterion(validation_output, torch.max(validation_y, 1)[1])\n",
    "\n",
    "            epoch_loss_val += (validation_epoch_loss.data.item() * len(validation_x_batch))\n",
    "\n",
    "            pred_val = np.argmax(validation_output.data.cpu().numpy(), axis = 1)\n",
    "            true_val = np.argmax(validation_y.data.cpu().numpy(), axis = 1)\n",
    "            correct_val = len(np.where(pred_val == true_val)[0])\n",
    "            epoch_acc_val += (correct_val / len(pred_val))\n",
    "            \n",
    "            predicted_val_output = np.append(predicted_val_output, pred_val)\n",
    "            val_real = np.append(val_real, true_val)\n",
    "            \n",
    "\n",
    "        val_loss = epoch_loss_val / len(val_x_torch)\n",
    "        val_acc = len(np.where(predicted_val_output == val_real)[0]) / len(predicted_val_output)\n",
    "        \n",
    "        '''\n",
    "        test\n",
    "        '''\n",
    "        epoch_loss_test = 0.0\n",
    "        epoch_acc_test = 0.0\n",
    "        predicted_test_output = np.array([])\n",
    "        test_real = np.array([])\n",
    "        \n",
    "        my_model.eval()\n",
    "\n",
    "        for test_x_batch, test_y_batch in test_loader:\n",
    "            test_x = Variable(test_x_batch).cuda()\n",
    "            test_y = Variable(test_y_batch).cuda()\n",
    "\n",
    "            test_output = my_model(test_x)\n",
    "            test_epoch_loss = criterion(test_output, torch.max(test_y, 1)[1])\n",
    "\n",
    "            epoch_loss_test += (test_epoch_loss.data.item() * len(test_x_batch))\n",
    "\n",
    "            pred_test = np.argmax(test_output.data.cpu().numpy(), axis = 1)\n",
    "            true_test = np.argmax(test_y.data.cpu().numpy(), axis = 1)\n",
    "            correct_test = len(np.where(pred_test == true_test)[0])\n",
    "            epoch_acc_test += (correct_test / len(pred_test))\n",
    "            \n",
    "            predicted_test_output = np.append(predicted_test_output, pred_test)\n",
    "            test_real = np.append(test_real, true_test)\n",
    "            \n",
    "\n",
    "        test_loss = epoch_loss_test / len(test_x_torch)\n",
    "        test_acc = len(np.where(predicted_test_output == test_real)[0]) / len(predicted_test_output)\n",
    "        \n",
    "        result_list = np.array([str(epoch+1), str(num_epochs), train_loss, train_acc, \n",
    "                                val_loss, val_acc, test_loss, test_acc]).reshape(1, 8)\n",
    "        \n",
    "    result = np.append(result, result_list, axis = 0)\n",
    "    early_stopping(val_loss, my_model)\n",
    "    \n",
    "    if (epoch + 1) == 1 :\n",
    "        print('Epoch [{}/{}], Train loss : {:.4f}, Train acc : {:.2f}, Val loss : {:.4f}, Val acc : {:.2f}, Test loss : {:.4f}, Test acc : {:.2f}'. \n",
    "              format(epoch+1, num_epochs, train_loss, train_acc, val_loss, val_acc, test_loss, test_acc))\n",
    "\n",
    "\n",
    "    if (epoch + 1) % 10 == 0 :\n",
    "        print('Epoch [{}/{}], Train loss : {:.4f}, Train acc : {:.2f}, Val loss : {:.4f}, Val acc : {:.2f}, Test loss : {:.4f}, Test acc : {:.2f}'. \n",
    "              format(epoch+1, num_epochs, train_loss, train_acc, val_loss, val_acc, test_loss, test_acc))\n",
    "\n",
    "    if  test_acc > 0.80 :\n",
    "        print('----------------------------------------------------------------------------------------------------------')\n",
    "        print('Epoch [{}/{}], Train loss : {:.4f}, Train acc : {:.2f}, Val loss : {:.4f}, Val acc : {:.2f}, Test loss : {:.4f}, Test acc : {:.2f}'. \n",
    "              format(epoch+1, num_epochs, train_loss, train_acc, val_loss, val_acc, test_loss, test_acc))\n",
    "                                                                                                                      "
   ]
  },
  {
   "cell_type": "code",
   "execution_count": null,
   "metadata": {},
   "outputs": [],
   "source": [
    "result_pd = pd.DataFrame(result, columns = ['num_epoch', 'Epoch', 'train loss', 'train acc', \n",
    "                                           'validation loss', 'validation acc', 'test loss', 'test acc'])"
   ]
  },
  {
   "cell_type": "code",
   "execution_count": null,
   "metadata": {},
   "outputs": [],
   "source": [
    "save_root = 'D:\\\\radiogenomics+radiomics_genomics_LAUD+LSCC'"
   ]
  },
  {
   "cell_type": "code",
   "execution_count": null,
   "metadata": {},
   "outputs": [],
   "source": [
    "result_pd.to_csv(save_root + '\\\\deep_learning_result_cnn_base_line.csv')"
   ]
  },
  {
   "cell_type": "code",
   "execution_count": null,
   "metadata": {},
   "outputs": [],
   "source": [
    "fname = data_root_lv + '\\\\clf_checkpoint_base_line.pt'\n",
    "checkpoint = torch.load(fname)\n",
    "my_model.load_state_dict(checkpoint)"
   ]
  },
  {
   "cell_type": "code",
   "execution_count": null,
   "metadata": {},
   "outputs": [],
   "source": [
    "with torch.no_grad():\n",
    "    epoch_loss_train = 0.0\n",
    "    predicted_train_output = np.array([])\n",
    "    train_real = np.array([])\n",
    "\n",
    "    epoch_loss_val = 0.0\n",
    "    predicted_val_output = np.array([])\n",
    "    val_real = np.array([])\n",
    "    \n",
    "    epoch_loss_test = 0.0\n",
    "    predicted_test_output = np.array([])\n",
    "    test_output_log_softmax = np.array([]).reshape(0, num_classes)\n",
    "    test_real = np.array([])\n",
    "    \n",
    "    my_model.eval()\n",
    "    for train_x_batch, train_y_batch in train_loader:\n",
    "        train_x = Variable(train_x_batch).cuda()\n",
    "        train_y = Variable(train_y_batch).cuda()\n",
    "        \n",
    "        train_output = my_model(train_x)\n",
    "        train_epoch_loss = criterion(train_output, torch.max(train_y, 1)[1])\n",
    "\n",
    "        epoch_loss_train += (train_epoch_loss.data.item() * len(train_x_batch))\n",
    "\n",
    "        pred = np.argmax(train_output.data.cpu().numpy(), axis = 1)\n",
    "        true = np.argmax(train_y.data.cpu().numpy(), axis = 1)\n",
    "        predicted_train_output = np.append(predicted_train_output, pred)\n",
    "        train_real = np.append(train_real, true)\n",
    "        correct = len(np.where(pred == true)[0])\n",
    "\n",
    "    train_loss = epoch_loss_train / len(train_x_torch)\n",
    "    train_acc = len(np.where(predicted_train_output == train_real)[0]) / len(predicted_train_output)\n",
    "    \n",
    "    for validation_x_batch, validation_y_batch in validation_loader:\n",
    "        validation_x = Variable(validation_x_batch).cuda()\n",
    "        validation_y = Variable(validation_y_batch).cuda()\n",
    "\n",
    "        validation_output = my_model(validation_x)\n",
    "        validation_epoch_loss = criterion(validation_output, torch.max(validation_y, 1)[1])\n",
    "\n",
    "        epoch_loss_val += (validation_epoch_loss.data.item() * len(validation_x_batch))\n",
    "\n",
    "        pred_val = np.argmax(validation_output.data.cpu().numpy(), axis = 1)\n",
    "        true_val = np.argmax(validation_y.data.cpu().numpy(), axis = 1)\n",
    "        correct_val = len(np.where(pred_val == true_val)[0])\n",
    "        epoch_acc_val += (correct_val / len(pred_val))\n",
    "\n",
    "        predicted_val_output = np.append(predicted_val_output, pred_val)\n",
    "        val_real = np.append(val_real, true_val)\n",
    "            \n",
    "\n",
    "    val_loss = epoch_loss_val / len(val_x_torch)\n",
    "    val_acc = len(np.where(predicted_val_output == val_real)[0]) / len(predicted_val_output)\n",
    "        \n",
    "    for test_x_batch, test_y_batch in test_loader:\n",
    "        test_x = Variable(test_x_batch).cuda()\n",
    "        test_y = Variable(test_y_batch).cuda()\n",
    "\n",
    "        test_output = my_model(test_x)\n",
    "        test_epoch_loss = criterion(test_output, torch.max(test_y, 1)[1])\n",
    "\n",
    "        epoch_loss_test += (test_epoch_loss.data.item() * len(test_x_batch))\n",
    "\n",
    "        pred_test = np.argmax(test_output.data.cpu().numpy(), axis = 1)\n",
    "        true_test = np.argmax(test_y.data.cpu().numpy(), axis = 1)\n",
    "        correct_test = len(np.where(pred_test == true_test)[0])\n",
    "        epoch_acc_test += (correct_test / len(pred_test))\n",
    "\n",
    "        predicted_test_output = np.append(predicted_test_output, pred_test)\n",
    "        test_output_log_softmax = np.append(test_output_log_softmax, test_output.data.cpu().numpy(), axis = 0)\n",
    "        test_real = np.append(test_real, true_test)\n",
    "\n",
    "\n",
    "    test_loss = epoch_loss_test / len(test_x_torch)\n",
    "    test_acc = len(np.where(predicted_test_output == test_real)[0]) / len(predicted_test_output)\n",
    "\n",
    "    early_stopping_result_list = np.array([str(epoch+1), str(num_epochs), train_loss, train_acc, \n",
    "                            val_loss, val_acc, test_loss, test_acc]).reshape(1, 8)\n",
    "\n",
    "    \n",
    "    print('Epoch [{}/{}], Train loss : {:.4f}, Train acc : {:.2f}, Val loss : {:.4f}, Val acc : {:.2f}, Test loss : {:.4f}, Test acc : {:.2f}'. \n",
    "              format(epoch+1, num_epochs, train_loss, train_acc, val_loss, val_acc, test_loss, test_acc))\n"
   ]
  },
  {
   "cell_type": "code",
   "execution_count": null,
   "metadata": {},
   "outputs": [],
   "source": [
    "early_stopping_result_pd = pd.DataFrame(early_stopping_result_list, columns = ['num_epoch', 'Epoch', 'train loss', 'train acc', \n",
    "                                           'validation loss', 'validation acc', 'test loss', 'test acc'])"
   ]
  },
  {
   "cell_type": "code",
   "execution_count": null,
   "metadata": {},
   "outputs": [],
   "source": [
    "early_stopping_result_pd"
   ]
  },
  {
   "cell_type": "code",
   "execution_count": null,
   "metadata": {},
   "outputs": [],
   "source": [
    "test_real = test_real.reshape(37, 1)\n",
    "predicted_test_output = predicted_test_output.reshape(37, 1)"
   ]
  },
  {
   "cell_type": "code",
   "execution_count": null,
   "metadata": {},
   "outputs": [],
   "source": [
    "test_label_output = np.append(test_real, predicted_test_output, axis = 1)"
   ]
  },
  {
   "cell_type": "code",
   "execution_count": null,
   "metadata": {},
   "outputs": [],
   "source": [
    "test_label_output_pd = pd.DataFrame(test_label_output, columns = ['real label', 'predicted label'])"
   ]
  },
  {
   "cell_type": "code",
   "execution_count": null,
   "metadata": {},
   "outputs": [],
   "source": [
    "test_label_output_pd.to_csv(save_root + '\\\\deep_learning_output_base_line.csv')"
   ]
  },
  {
   "cell_type": "code",
   "execution_count": null,
   "metadata": {},
   "outputs": [],
   "source": [
    "conf_matrix = confusion_matrix(test_real, predicted_test_output)"
   ]
  },
  {
   "cell_type": "code",
   "execution_count": null,
   "metadata": {},
   "outputs": [],
   "source": [
    "conf_matrix"
   ]
  },
  {
   "cell_type": "code",
   "execution_count": null,
   "metadata": {},
   "outputs": [],
   "source": [
    "sensitivity = conf_matrix[0, 0] / conf_matrix.sum(axis = 1)[0]\n",
    "specificity = conf_matrix[1, 1] / conf_matrix.sum(axis = 1)[1]"
   ]
  },
  {
   "cell_type": "code",
   "execution_count": null,
   "metadata": {},
   "outputs": [],
   "source": [
    "print('sensitivity : ', sensitivity)\n",
    "print('specificity : ', specificity)"
   ]
  },
  {
   "cell_type": "code",
   "execution_count": null,
   "metadata": {},
   "outputs": [],
   "source": []
  },
  {
   "cell_type": "code",
   "execution_count": null,
   "metadata": {},
   "outputs": [],
   "source": [
    "test_output_probability = np.zeros((len(predicted_test_output), 2))\n",
    "for i in range(len(predicted_test_output)):\n",
    "    for j in range(2):\n",
    "        test_output_probability[i][j] = math.exp(test_output_log_softmax[i][j])"
   ]
  },
  {
   "cell_type": "code",
   "execution_count": null,
   "metadata": {},
   "outputs": [],
   "source": [
    "prob = np.array([])\n",
    "for i in range(len(test_output_log_softmax)):\n",
    "    if predicted_test_output[i] == 0:\n",
    "        prob = np.append(prob, test_output_log_softmax[i][0])\n",
    "    else :\n",
    "        prob = np.append(prob, test_output_log_softmax[i][1])"
   ]
  },
  {
   "cell_type": "code",
   "execution_count": null,
   "metadata": {},
   "outputs": [],
   "source": [
    "prob"
   ]
  },
  {
   "cell_type": "code",
   "execution_count": null,
   "metadata": {},
   "outputs": [],
   "source": [
    "fpr, tpr, threshold = roc_curve(predicted_test_output.reshape(37, ), prob, pos_label = 1)"
   ]
  },
  {
   "cell_type": "code",
   "execution_count": null,
   "metadata": {},
   "outputs": [],
   "source": [
    "auc_score = roc_auc_score(predicted_test_output.reshape(37, ), prob)"
   ]
  },
  {
   "cell_type": "code",
   "execution_count": null,
   "metadata": {},
   "outputs": [],
   "source": [
    "auc_score"
   ]
  },
  {
   "cell_type": "code",
   "execution_count": null,
   "metadata": {},
   "outputs": [],
   "source": [
    "plt.plot(fpr,tpr, color = 'red', label='ROC curve (area = %0.2f)' % auc_score)\n",
    "plt.plot([0, 1], [0, 1], color='navy', linestyle='--')\n",
    "plt.xlim([0.0, 1.0])\n",
    "plt.ylim([0.0, 1.05])\n",
    "plt.xlabel('False Positive Rate')\n",
    "plt.ylabel('True Positive Rate')\n",
    "plt.title('Receiver operating characteristic')\n",
    "plt.legend(loc=4)\n",
    "fig = plt.gcf()\n",
    "fig.savefig(save_root + '\\\\roc_curve_base_line.png', dpi = fig.dpi)\n",
    "plt.show()"
   ]
  },
  {
   "cell_type": "code",
   "execution_count": null,
   "metadata": {},
   "outputs": [],
   "source": []
  }
 ],
 "metadata": {
  "kernelspec": {
   "display_name": "Python 3",
   "language": "python",
   "name": "python3"
  },
  "language_info": {
   "codemirror_mode": {
    "name": "ipython",
    "version": 3
   },
   "file_extension": ".py",
   "mimetype": "text/x-python",
   "name": "python",
   "nbconvert_exporter": "python",
   "pygments_lexer": "ipython3",
   "version": "3.7.5"
  }
 },
 "nbformat": 4,
 "nbformat_minor": 2
}
