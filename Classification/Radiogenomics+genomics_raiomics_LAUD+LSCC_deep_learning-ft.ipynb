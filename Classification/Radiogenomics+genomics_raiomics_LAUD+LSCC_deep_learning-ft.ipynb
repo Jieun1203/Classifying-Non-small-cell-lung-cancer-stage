{
 "cells": [
  {
   "cell_type": "code",
   "execution_count": 1,
   "metadata": {},
   "outputs": [
    {
     "name": "stderr",
     "output_type": "stream",
     "text": [
      "C:\\Users\\user\\.conda\\envs\\pytorch\\lib\\site-packages\\pytorch_lightning\\utilities\\distributed.py:25: UserWarning: Unsupported `ReduceOp` for distributed computing.\n",
      "  warnings.warn(*args, **kwargs)\n"
     ]
    }
   ],
   "source": [
    "import os\n",
    "import numpy as np\n",
    "import torch\n",
    "import torch.nn as nn\n",
    "from torch.autograd import Variable\n",
    "from torch.optim import lr_scheduler\n",
    "from torch.utils.data import DataLoader, Dataset\n",
    "from pytorch_lightning import Trainer\n",
    "from pytorch_lightning.callbacks import EarlyStopping\n",
    "import collections\n",
    "import torchvision.transforms as transforms\n",
    "from torch.optim import lr_scheduler\n",
    "from PIL import Image\n",
    "import matplotlib.pyplot as plt\n",
    "import torchvision.models as models\n",
    "import pandas as pd\n",
    "import torch.nn.functional as F\n",
    "import random"
   ]
  },
  {
   "cell_type": "code",
   "execution_count": 2,
   "metadata": {},
   "outputs": [],
   "source": [
    "torch.backends.cudnn.deterministic = True\n",
    "torch.backends.cudnn.benchmark = False"
   ]
  },
  {
   "cell_type": "code",
   "execution_count": 3,
   "metadata": {},
   "outputs": [],
   "source": [
    "random_seed = 512"
   ]
  },
  {
   "cell_type": "code",
   "execution_count": 4,
   "metadata": {},
   "outputs": [],
   "source": [
    "torch.manual_seed(random_seed)\n",
    "np.random.seed(random_seed)\n",
    "random.seed(random_seed)"
   ]
  },
  {
   "cell_type": "code",
   "execution_count": 5,
   "metadata": {},
   "outputs": [],
   "source": [
    "data_root_lv = 'X:\\\\jechoi\\\\numpy\\\\Radiogenomics+genomics_raiomics_LAUD+LSCC'"
   ]
  },
  {
   "cell_type": "code",
   "execution_count": 6,
   "metadata": {},
   "outputs": [],
   "source": [
    "training_latent_variable_raw = np.load(data_root_lv + '\\\\training_latent_variable_noBatchNorm.npy')\n",
    "training_label_bf = np.load(data_root_lv + '\\\\training_latent_variable_stage_noBatchNorm.npy')\n",
    "validation_latent_variable_raw = np.load(data_root_lv + '\\\\validation_latent_variable_noBatchNorm.npy')\n",
    "validation_label_bf = np.load(data_root_lv + '\\\\validation_latent_variable_stage_noBatchNorm.npy')"
   ]
  },
  {
   "cell_type": "code",
   "execution_count": 7,
   "metadata": {},
   "outputs": [],
   "source": [
    "training_latent_variable_ft = training_latent_variable_raw.reshape(training_latent_variable_raw.shape[0], -1)\n",
    "validation_latent_variable_ft = validation_latent_variable_raw.reshape(validation_latent_variable_raw.shape[0], -1)"
   ]
  },
  {
   "cell_type": "code",
   "execution_count": 8,
   "metadata": {},
   "outputs": [],
   "source": [
    "training_latent_variable_max = training_latent_variable_raw.max()\n",
    "training_latent_variable_min = training_latent_variable_raw.min()"
   ]
  },
  {
   "cell_type": "code",
   "execution_count": 9,
   "metadata": {},
   "outputs": [],
   "source": [
    "training_latent_variable = (training_latent_variable_raw - training_latent_variable_min) / (training_latent_variable_max - training_latent_variable_min)\n",
    "validation_latent_variable = (validation_latent_variable_raw - training_latent_variable_min) / (training_latent_variable_max - training_latent_variable_min)"
   ]
  },
  {
   "cell_type": "code",
   "execution_count": 10,
   "metadata": {},
   "outputs": [
    {
     "name": "stdout",
     "output_type": "stream",
     "text": [
      "(98, 32768)\n",
      "(98,)\n",
      "(37, 32768)\n",
      "(98,)\n"
     ]
    }
   ],
   "source": [
    "print(training_latent_variable_ft.shape)\n",
    "print(training_label_bf.shape)\n",
    "print(validation_latent_variable_ft.shape)\n",
    "print(training_label_bf.shape)"
   ]
  },
  {
   "cell_type": "code",
   "execution_count": 11,
   "metadata": {},
   "outputs": [
    {
     "name": "stdout",
     "output_type": "stream",
     "text": [
      "one :  0.6326530612244898\n",
      "two :  0.22448979591836735\n",
      "three :  0.11224489795918367\n"
     ]
    }
   ],
   "source": [
    "label_one = len(np.where(training_label_bf == 1)[0]) / len(training_label_bf)\n",
    "label_two = len(np.where(training_label_bf == 2)[0]) / len(training_label_bf)\n",
    "label_three = len(np.where(training_label_bf == 3)[0]) / len(training_label_bf)\n",
    "print('one : ', label_one)\n",
    "print('two : ', label_two)\n",
    "print('three : ', label_three)"
   ]
  },
  {
   "cell_type": "code",
   "execution_count": 12,
   "metadata": {},
   "outputs": [
    {
     "name": "stdout",
     "output_type": "stream",
     "text": [
      "one :  0.5405405405405406\n",
      "two :  0.40540540540540543\n",
      "three :  0.05405405405405406\n"
     ]
    }
   ],
   "source": [
    "val_label_one = len(np.where(validation_label_bf == 1)[0]) / len(validation_label_bf)\n",
    "val_label_two = len(np.where(validation_label_bf == 2)[0]) / len(validation_label_bf)\n",
    "val_label_three = len(np.where(validation_label_bf == 3)[0]) / len(validation_label_bf)\n",
    "print('one : ', val_label_one)\n",
    "print('two : ', val_label_two)\n",
    "print('three : ', val_label_three)"
   ]
  },
  {
   "cell_type": "code",
   "execution_count": 13,
   "metadata": {},
   "outputs": [],
   "source": [
    "training_label = np.array([])\n",
    "for i in training_label_bf:\n",
    "    if i == 1:\n",
    "        new_s = 0\n",
    "    else:\n",
    "        new_s = 1\n",
    "    training_label = np.append(training_label, new_s)"
   ]
  },
  {
   "cell_type": "code",
   "execution_count": 14,
   "metadata": {},
   "outputs": [],
   "source": [
    "validation_label = np.array([])\n",
    "for i in validation_label_bf:\n",
    "    if i == 1:\n",
    "        new_s = 0\n",
    "    else:\n",
    "        new_s = 1\n",
    "    validation_label = np.append(validation_label, new_s)"
   ]
  },
  {
   "cell_type": "code",
   "execution_count": 15,
   "metadata": {},
   "outputs": [
    {
     "name": "stdout",
     "output_type": "stream",
     "text": [
      "early_stage :  0.6326530612244898\n",
      "late_stage :  0.3673469387755102\n"
     ]
    }
   ],
   "source": [
    "label_one = len(np.where(training_label == 0)[0]) / len(training_label)\n",
    "label_three = len(np.where(training_label == 1)[0]) / len(training_label)\n",
    "print('early_stage : ', label_one)\n",
    "print('late_stage : ', label_three)"
   ]
  },
  {
   "cell_type": "code",
   "execution_count": 16,
   "metadata": {},
   "outputs": [
    {
     "name": "stdout",
     "output_type": "stream",
     "text": [
      "early_stage :  0.5405405405405406\n",
      "late_stage :  0.4594594594594595\n"
     ]
    }
   ],
   "source": [
    "val_label_one = len(np.where(validation_label == 0)[0]) / len(validation_label)\n",
    "val_label_three = len(np.where(validation_label == 1)[0]) / len(validation_label)\n",
    "print('early_stage : ', val_label_one)\n",
    "print('late_stage : ', val_label_three)"
   ]
  },
  {
   "cell_type": "code",
   "execution_count": 17,
   "metadata": {},
   "outputs": [],
   "source": [
    "train_label = np.zeros((len(training_label), 2))\n",
    "for i in range(len(training_label)):\n",
    "    label = int(training_label[i] - 1)\n",
    "    train_label[i, label] = 1"
   ]
  },
  {
   "cell_type": "code",
   "execution_count": 18,
   "metadata": {},
   "outputs": [],
   "source": [
    "val_label = np.zeros((len(validation_label), 2))\n",
    "for i in range(len(validation_label)):\n",
    "    label = int(validation_label[i] - 1)\n",
    "    val_label[i, label] = 1"
   ]
  },
  {
   "cell_type": "code",
   "execution_count": 19,
   "metadata": {},
   "outputs": [],
   "source": [
    "train_x_torch = torch.tensor(training_latent_variable_ft, dtype=torch.float)\n",
    "train_y_torch = torch.tensor(train_label, dtype=torch.long)"
   ]
  },
  {
   "cell_type": "code",
   "execution_count": 20,
   "metadata": {},
   "outputs": [],
   "source": [
    "val_x_torch = torch.tensor(validation_latent_variable_ft, dtype=torch.float)\n",
    "val_y_torch = torch.tensor(val_label, dtype=torch.long)"
   ]
  },
  {
   "cell_type": "code",
   "execution_count": 21,
   "metadata": {},
   "outputs": [],
   "source": [
    "batch_size = 16\n",
    "momentum = 0.9\n",
    "learning_rate = 5e-6\n",
    "num_epochs = 1000\n",
    "num_classes = 2"
   ]
  },
  {
   "cell_type": "code",
   "execution_count": 22,
   "metadata": {},
   "outputs": [],
   "source": [
    "class Dataset(Dataset):\n",
    "    def __init__(self, images, label):\n",
    "        self.labels = label\n",
    "        self.images = images\n",
    "        \n",
    "    def __len__(self):\n",
    "        return len(self.images)\n",
    "    \n",
    "    def __getitem__(self, index):\n",
    "        X = self.images[index]\n",
    "        y = self.labels[index]\n",
    "        return X, y"
   ]
  },
  {
   "cell_type": "code",
   "execution_count": 23,
   "metadata": {},
   "outputs": [],
   "source": [
    "training_set = Dataset(train_x_torch, train_y_torch)\n",
    "train_loader = DataLoader(training_set, batch_size = batch_size, shuffle=True)\n",
    "batch_len_train = len(train_loader)"
   ]
  },
  {
   "cell_type": "code",
   "execution_count": 24,
   "metadata": {},
   "outputs": [],
   "source": [
    "validation_set = Dataset(val_x_torch, val_y_torch)\n",
    "validation_loader = DataLoader(validation_set, batch_size = batch_size, shuffle=True)\n",
    "batch_len_val = len(validation_loader)"
   ]
  },
  {
   "cell_type": "code",
   "execution_count": 25,
   "metadata": {},
   "outputs": [
    {
     "data": {
      "text/plain": [
       "'\\nsaved result model\\n'"
      ]
     },
     "execution_count": 25,
     "metadata": {},
     "output_type": "execute_result"
    }
   ],
   "source": [
    "'''\n",
    "saved result model\n",
    "'''\n",
    "\n",
    "\n",
    "# class Model(nn.Module):\n",
    "#     def __init__(self, in_channels, out_channels1, out_channels2, flatten_size, out_features1, \n",
    "#                  out_features2, out_features3, out_features4):\n",
    "#         super(Model, self).__init__()\n",
    "#         self.cnn1 = nn.Conv2d(in_channels, out_channels1, kernel_size= 3, padding = 1)\n",
    "#         self.cnn2 = nn.Conv2d(out_channels1, out_channels2, kernel_size= 3, padding = 1)\n",
    "#         self.linear1 = nn.Linear(flatten_size, out_features1)\n",
    "#         self.linear2 = nn.Linear(out_features1, out_features2)\n",
    "#         self.linear3 = nn.Linear(out_features2, out_features3)\n",
    "#         self.linear4 = nn.Linear(out_features3, out_features4)\n",
    "#         self.BatchNorm1 = nn.BatchNorm2d(out_channels1)\n",
    "#         self.BatchNorm2 = nn.BatchNorm2d(out_channels2)\n",
    "#         self.dropout = nn.Dropout2d(0.5)\n",
    "#         self.dropout1 = nn.Dropout(0.5)\n",
    "        \n",
    "#     def forward(self, x):\n",
    "#         output = self.cnn1(x)\n",
    "#         output = self.BatchNorm1(output)\n",
    "#         output = self.dropout(output)\n",
    "#         output = self.cnn2(output)\n",
    "#         output = output.view(output.size(0), -1)\n",
    "#         output = self.dropout1(output)\n",
    "#         output = self.linear1(output)\n",
    "#         output = self.dropout1(output)\n",
    "#         output = self.linear2(output)\n",
    "#         output = self.dropout1(output)\n",
    "#         output = self.linear3(output)\n",
    "#         output = self.linear4(output)\n",
    "#         output = F.log_softmax(output, dim = 1)\n",
    "#         return output"
   ]
  },
  {
   "cell_type": "code",
   "execution_count": 26,
   "metadata": {},
   "outputs": [],
   "source": [
    "class Model(nn.Module):\n",
    "    def __init__(self, flatten_size, out_features1, out_features2, out_features3, out_features4, out_features5, \n",
    "                out_features6, out_features7):\n",
    "        super(Model, self).__init__()\n",
    "        self.linear1 = nn.Linear(flatten_size, out_features1)\n",
    "        self.linear2 = nn.Linear(out_features1, out_features2)\n",
    "        self.linear3 = nn.Linear(out_features2, out_features3)\n",
    "        self.linear4 = nn.Linear(out_features3, out_features4)\n",
    "        self.linear5 = nn.Linear(out_features4, out_features5)\n",
    "        self.linear6 = nn.Linear(out_features5, out_features6)\n",
    "        self.linear7 = nn.Linear(out_features6, out_features7)\n",
    "        self.BatchNorm1 = nn.BatchNorm1d(out_features1)\n",
    "        self.BatchNorm2 = nn.BatchNorm1d(out_features3)\n",
    "        self.dropout1 = nn.Dropout(0.5)\n",
    "        \n",
    "    def forward(self, x):\n",
    "        output = self.linear1(x)\n",
    "        output = self.BatchNorm1(output)\n",
    "        output = self.dropout1(output)\n",
    "        output = self.linear2(output)\n",
    "        output = self.dropout1(output)\n",
    "        output = self.linear3(output)\n",
    "        output = self.BatchNorm2(output)\n",
    "        output = self.dropout1(output)\n",
    "        output = self.linear4(output)\n",
    "        output = self.dropout1(output)\n",
    "        output = self.linear5(output)\n",
    "#         output = self.dropout1(output)\n",
    "        output = self.linear6(output)\n",
    "        output = self.linear7(output)\n",
    "        output = F.log_softmax(output, dim = 1)\n",
    "        return output"
   ]
  },
  {
   "cell_type": "code",
   "execution_count": 27,
   "metadata": {},
   "outputs": [],
   "source": [
    "class EarlyStopping:\n",
    "    \"\"\"Early stops the training if validation loss doesn't improve after a given patience.\"\"\"\n",
    "    def __init__(self, patience=7, verbose=False):\n",
    "        \"\"\"\n",
    "        Args:\n",
    "            patience (int): How long to wait after last time validation loss improved.\n",
    "                            Default: 7\n",
    "            verbose (bool): If True, prints a message for each validation loss improvement. \n",
    "                            Default: False\n",
    "        \"\"\"\n",
    "        self.patience = patience\n",
    "        self.verbose = verbose\n",
    "        self.counter = 0\n",
    "        self.best_score = None\n",
    "        self.early_stop = False\n",
    "        self.val_loss_min = np.Inf\n",
    "\n",
    "    def __call__(self, val_loss, model):\n",
    "\n",
    "        score = -val_loss\n",
    "\n",
    "        if self.best_score is None:\n",
    "            self.best_score = score\n",
    "            self.save_checkpoint(val_loss, model)\n",
    "        elif score < self.best_score:\n",
    "            self.counter += 1\n",
    "            print(f'EarlyStopping counter: {self.counter} out of {self.patience}')\n",
    "            if self.counter >= self.patience:\n",
    "                self.early_stop = True\n",
    "        else:\n",
    "            self.best_score = score\n",
    "            self.save_checkpoint(val_loss, model)\n",
    "            self.counter = 0\n",
    "\n",
    "    def save_checkpoint(self, val_loss, model):\n",
    "        '''Saves model when validation loss decrease.'''\n",
    "        if self.verbose:\n",
    "            print(f'Validation loss decreased ({self.val_loss_min:.6f} --> {val_loss:.6f}).  Saving model ...')\n",
    "        torch.save(model.state_dict(), 'checkpoint.pt')\n",
    "        self.val_loss_min = val_loss"
   ]
  },
  {
   "cell_type": "code",
   "execution_count": 28,
   "metadata": {},
   "outputs": [],
   "source": [
    "flatten_size = training_latent_variable_ft.shape[1]"
   ]
  },
  {
   "cell_type": "code",
   "execution_count": 29,
   "metadata": {},
   "outputs": [
    {
     "data": {
      "text/plain": [
       "Model(\n",
       "  (linear1): Linear(in_features=32768, out_features=128, bias=True)\n",
       "  (linear2): Linear(in_features=128, out_features=64, bias=True)\n",
       "  (linear3): Linear(in_features=64, out_features=32, bias=True)\n",
       "  (linear4): Linear(in_features=32, out_features=16, bias=True)\n",
       "  (linear5): Linear(in_features=16, out_features=16, bias=True)\n",
       "  (linear6): Linear(in_features=16, out_features=8, bias=True)\n",
       "  (linear7): Linear(in_features=8, out_features=2, bias=True)\n",
       "  (BatchNorm1): BatchNorm1d(128, eps=1e-05, momentum=0.1, affine=True, track_running_stats=True)\n",
       "  (BatchNorm2): BatchNorm1d(32, eps=1e-05, momentum=0.1, affine=True, track_running_stats=True)\n",
       "  (dropout1): Dropout(p=0.5, inplace=False)\n",
       ")"
      ]
     },
     "execution_count": 29,
     "metadata": {},
     "output_type": "execute_result"
    }
   ],
   "source": [
    "my_model = Model(flatten_size, 128, 64, 32, 16, 16, 8, num_classes)\n",
    "my_model.cuda()"
   ]
  },
  {
   "cell_type": "code",
   "execution_count": 30,
   "metadata": {},
   "outputs": [],
   "source": [
    "criterion = nn.CrossEntropyLoss()\n",
    "optimizer = torch.optim.Adam(my_model.parameters(), lr=learning_rate, weight_decay=1e-5)"
   ]
  },
  {
   "cell_type": "code",
   "execution_count": 31,
   "metadata": {
    "scrolled": false
   },
   "outputs": [
    {
     "name": "stdout",
     "output_type": "stream",
     "text": [
      "Epoch [1/1000], Train loss : 0.6885586, Train acc : 0.5612, Val loss : 0.6906, Val acc : 0.5405405\n",
      "Epoch [10/1000], Train loss : 0.6616435, Train acc : 0.6122, Val loss : 0.6790, Val acc : 0.7297297\n",
      "Epoch [20/1000], Train loss : 0.6413128, Train acc : 0.7449, Val loss : 0.6772, Val acc : 0.6486486\n",
      "Epoch [30/1000], Train loss : 0.6334696, Train acc : 0.6939, Val loss : 0.6768, Val acc : 0.7837838\n",
      "Epoch [40/1000], Train loss : 0.6222296, Train acc : 0.8571, Val loss : 0.6761, Val acc : 0.7297297\n",
      "Epoch [50/1000], Train loss : 0.6079484, Train acc : 0.8367, Val loss : 0.6758, Val acc : 0.6756757\n",
      "Epoch [60/1000], Train loss : 0.5999724, Train acc : 0.8469, Val loss : 0.6751, Val acc : 0.6756757\n",
      "Epoch [70/1000], Train loss : 0.6182377, Train acc : 0.7755, Val loss : 0.6750, Val acc : 0.6486486\n",
      "Epoch [80/1000], Train loss : 0.6130329, Train acc : 0.8265, Val loss : 0.6758, Val acc : 0.6756757\n",
      "Epoch [90/1000], Train loss : 0.6219976, Train acc : 0.8163, Val loss : 0.6718, Val acc : 0.6486486\n",
      "Epoch [100/1000], Train loss : 0.5807376, Train acc : 0.8776, Val loss : 0.6745, Val acc : 0.5945946\n",
      "Epoch [110/1000], Train loss : 0.5993920, Train acc : 0.8265, Val loss : 0.6726, Val acc : 0.6216216\n",
      "Epoch [120/1000], Train loss : 0.5884980, Train acc : 0.8673, Val loss : 0.6717, Val acc : 0.7297297\n",
      "Epoch [128/1000], Train loss : 0.5767859, Train acc : 0.9082, Val loss : 0.6735, Val acc : 0.7837838\n",
      "Epoch [130/1000], Train loss : 0.5746986, Train acc : 0.8776, Val loss : 0.6737, Val acc : 0.6756757\n",
      "Epoch [140/1000], Train loss : 0.5715879, Train acc : 0.9082, Val loss : 0.6721, Val acc : 0.6216216\n",
      "Epoch [150/1000], Train loss : 0.5689956, Train acc : 0.8571, Val loss : 0.6728, Val acc : 0.6486486\n",
      "Epoch [151/1000], Train loss : 0.5519440, Train acc : 0.9082, Val loss : 0.6731, Val acc : 0.7837838\n",
      "Epoch [160/1000], Train loss : 0.5653394, Train acc : 0.8878, Val loss : 0.6723, Val acc : 0.7297297\n",
      "Epoch [170/1000], Train loss : 0.5693365, Train acc : 0.8980, Val loss : 0.6701, Val acc : 0.7297297\n",
      "Epoch [180/1000], Train loss : 0.5603920, Train acc : 0.9082, Val loss : 0.6676, Val acc : 0.7297297\n",
      "Epoch [190/1000], Train loss : 0.5768284, Train acc : 0.8571, Val loss : 0.6676, Val acc : 0.5945946\n",
      "Epoch [200/1000], Train loss : 0.5357485, Train acc : 0.9490, Val loss : 0.6719, Val acc : 0.6486486\n",
      "Epoch [203/1000], Train loss : 0.5520065, Train acc : 0.9286, Val loss : 0.6719, Val acc : 0.7837838\n",
      "Epoch [210/1000], Train loss : 0.5319604, Train acc : 0.9184, Val loss : 0.6674, Val acc : 0.7297297\n",
      "Epoch [220/1000], Train loss : 0.5535514, Train acc : 0.9286, Val loss : 0.6666, Val acc : 0.7027027\n",
      "Epoch [224/1000], Train loss : 0.5423451, Train acc : 0.9490, Val loss : 0.6688, Val acc : 0.7837838\n",
      "Epoch [230/1000], Train loss : 0.5402667, Train acc : 0.9592, Val loss : 0.6670, Val acc : 0.7837838\n",
      "Epoch [230/1000], Train loss : 0.5402667, Train acc : 0.9592, Val loss : 0.6670, Val acc : 0.7837838\n",
      "Epoch [234/1000], Train loss : 0.5205554, Train acc : 0.9796, Val loss : 0.6700, Val acc : 0.7837838\n",
      "Epoch [240/1000], Train loss : 0.5359411, Train acc : 0.9490, Val loss : 0.6685, Val acc : 0.6486486\n",
      "Epoch [250/1000], Train loss : 0.5566793, Train acc : 0.9184, Val loss : 0.6688, Val acc : 0.6756757\n",
      "Epoch [260/1000], Train loss : 0.5291017, Train acc : 0.8878, Val loss : 0.6685, Val acc : 0.7027027\n",
      "Epoch [270/1000], Train loss : 0.5360428, Train acc : 0.9082, Val loss : 0.6633, Val acc : 0.6756757\n",
      "Epoch [280/1000], Train loss : 0.5338585, Train acc : 0.8469, Val loss : 0.6666, Val acc : 0.7297297\n",
      "Epoch [290/1000], Train loss : 0.5245847, Train acc : 0.9082, Val loss : 0.6674, Val acc : 0.7567568\n",
      "Epoch [300/1000], Train loss : 0.5050452, Train acc : 0.9490, Val loss : 0.6680, Val acc : 0.6486486\n",
      "Epoch [310/1000], Train loss : 0.5065750, Train acc : 0.9286, Val loss : 0.6671, Val acc : 0.6756757\n",
      "Epoch [320/1000], Train loss : 0.4820538, Train acc : 0.9694, Val loss : 0.6646, Val acc : 0.7297297\n",
      "Epoch [330/1000], Train loss : 0.5030100, Train acc : 0.9286, Val loss : 0.6638, Val acc : 0.7027027\n",
      "Epoch [340/1000], Train loss : 0.4940289, Train acc : 0.9694, Val loss : 0.6664, Val acc : 0.7027027\n",
      "Epoch [350/1000], Train loss : 0.4771052, Train acc : 0.9694, Val loss : 0.6632, Val acc : 0.7567568\n",
      "Epoch [360/1000], Train loss : 0.4871958, Train acc : 0.9490, Val loss : 0.6607, Val acc : 0.6756757\n"
     ]
    },
    {
     "ename": "KeyboardInterrupt",
     "evalue": "",
     "output_type": "error",
     "traceback": [
      "\u001b[1;31m---------------------------------------------------------------------------\u001b[0m",
      "\u001b[1;31mKeyboardInterrupt\u001b[0m                         Traceback (most recent call last)",
      "\u001b[1;32m<ipython-input-31-c530bbc63944>\u001b[0m in \u001b[0;36m<module>\u001b[1;34m\u001b[0m\n\u001b[0;32m     20\u001b[0m         \u001b[0moptimizer\u001b[0m\u001b[1;33m.\u001b[0m\u001b[0mstep\u001b[0m\u001b[1;33m(\u001b[0m\u001b[1;33m)\u001b[0m\u001b[1;33m\u001b[0m\u001b[1;33m\u001b[0m\u001b[0m\n\u001b[0;32m     21\u001b[0m \u001b[1;33m\u001b[0m\u001b[0m\n\u001b[1;32m---> 22\u001b[1;33m         \u001b[0mepoch_loss_train\u001b[0m \u001b[1;33m+=\u001b[0m \u001b[1;33m(\u001b[0m\u001b[0mtrain_epoch_loss\u001b[0m\u001b[1;33m.\u001b[0m\u001b[0mdata\u001b[0m\u001b[1;33m.\u001b[0m\u001b[0mitem\u001b[0m\u001b[1;33m(\u001b[0m\u001b[1;33m)\u001b[0m \u001b[1;33m*\u001b[0m \u001b[0mlen\u001b[0m\u001b[1;33m(\u001b[0m\u001b[0mtrain_x_batch\u001b[0m\u001b[1;33m)\u001b[0m\u001b[1;33m)\u001b[0m\u001b[1;33m\u001b[0m\u001b[1;33m\u001b[0m\u001b[0m\n\u001b[0m\u001b[0;32m     23\u001b[0m \u001b[1;33m\u001b[0m\u001b[0m\n\u001b[0;32m     24\u001b[0m         \u001b[0mpred\u001b[0m \u001b[1;33m=\u001b[0m \u001b[0mnp\u001b[0m\u001b[1;33m.\u001b[0m\u001b[0margmax\u001b[0m\u001b[1;33m(\u001b[0m\u001b[0mtrain_output\u001b[0m\u001b[1;33m.\u001b[0m\u001b[0mdata\u001b[0m\u001b[1;33m.\u001b[0m\u001b[0mcpu\u001b[0m\u001b[1;33m(\u001b[0m\u001b[1;33m)\u001b[0m\u001b[1;33m.\u001b[0m\u001b[0mnumpy\u001b[0m\u001b[1;33m(\u001b[0m\u001b[1;33m)\u001b[0m\u001b[1;33m,\u001b[0m \u001b[0maxis\u001b[0m \u001b[1;33m=\u001b[0m \u001b[1;36m1\u001b[0m\u001b[1;33m)\u001b[0m\u001b[1;33m\u001b[0m\u001b[1;33m\u001b[0m\u001b[0m\n",
      "\u001b[1;31mKeyboardInterrupt\u001b[0m: "
     ]
    }
   ],
   "source": [
    "result = np.array([]).reshape(0, 6)\n",
    "for epoch in range(num_epochs):\n",
    "    epoch_loss_train = 0.0\n",
    "    epoch_train_acc = 0.0\n",
    "    predicted_train_output = np.array([])\n",
    "    train_real = np.array([])\n",
    "\n",
    "\n",
    "    my_model.train()\n",
    "    for train_x_batch, train_y_batch in train_loader:\n",
    "        train_x = Variable(train_x_batch).cuda()\n",
    "        train_y = Variable(train_y_batch).cuda()\n",
    "        \n",
    "        optimizer.zero_grad()\n",
    "        \n",
    "        train_output = my_model(train_x)\n",
    "        train_epoch_loss = criterion(train_output, torch.max(train_y, 1)[1])\n",
    "\n",
    "        train_epoch_loss.backward()\n",
    "        optimizer.step()\n",
    "\n",
    "        epoch_loss_train += (train_epoch_loss.data.item() * len(train_x_batch))\n",
    "\n",
    "        pred = np.argmax(train_output.data.cpu().numpy(), axis = 1)\n",
    "        true = np.argmax(train_y.data.cpu().numpy(), axis = 1)\n",
    "        predicted_train_output = np.append(predicted_train_output, pred)\n",
    "        train_real = np.append(train_real, true)\n",
    "        correct = len(np.where(pred == true)[0])\n",
    "        epoch_train_acc += (correct / len(pred))\n",
    "\n",
    "    train_loss = epoch_loss_train / len(train_x_torch)\n",
    "    train_acc = len(np.where(predicted_train_output == train_real)[0]) / len(predicted_train_output)\n",
    "\n",
    "\n",
    "    with torch.no_grad():\n",
    "        epoch_loss_val = 0.0\n",
    "        epoch_acc_val = 0.0\n",
    "        predicted_val_output = np.array([])\n",
    "        val_real = np.array([])\n",
    "        \n",
    "        my_model.eval()\n",
    "\n",
    "        for validation_x_batch, validation_y_batch in validation_loader:\n",
    "            validation_x = Variable(validation_x_batch).cuda()\n",
    "            validation_y = Variable(validation_y_batch).cuda()\n",
    "\n",
    "            validation_output = my_model(validation_x)\n",
    "            validation_epoch_loss = criterion(validation_output, torch.max(validation_y, 1)[1])\n",
    "\n",
    "            epoch_loss_val += (validation_epoch_loss.data.item() * len(validation_x_batch))\n",
    "\n",
    "            pred_val = np.argmax(validation_output.data.cpu().numpy(), axis = 1)\n",
    "            true_val = np.argmax(validation_y.data.cpu().numpy(), axis = 1)\n",
    "            correct_val = len(np.where(pred_val == true_val)[0])\n",
    "            epoch_acc_val += (correct_val / len(pred_val))\n",
    "            \n",
    "            predicted_val_output = np.append(predicted_val_output, pred_val)\n",
    "            val_real = np.append(val_real, true_val)\n",
    "            \n",
    "\n",
    "        val_loss = epoch_loss_val / len(val_x_torch)\n",
    "        val_acc = len(np.where(predicted_val_output == val_real)[0]) / len(predicted_val_output)\n",
    "        \n",
    "        result_list = np.array([str(epoch+1), str(num_epochs), train_loss, train_acc, val_loss, val_acc]).reshape(1, 6)\n",
    "        \n",
    "        result = np.append(result, result_list, axis = 0)\n",
    "        if (epoch + 1) == 1 :\n",
    "            print('Epoch [{}/{}], Train loss : {:.7f}, Train acc : {:.4f}, Val loss : {:.4f}, Val acc : {:.7f}'.\n",
    "                  format(epoch+1, num_epochs, train_loss, train_acc, val_loss, val_acc))\n",
    "\n",
    "\n",
    "        if (epoch + 1) % 10 == 0 :\n",
    "            print('Epoch [{}/{}], Train loss : {:.7f}, Train acc : {:.4f}, Val loss : {:.4f}, Val acc : {:.7f}'.\n",
    "                  format(epoch+1, num_epochs, train_loss, train_acc, val_loss, val_acc))\n",
    "            \n",
    "        if  val_acc > 0.78 and train_acc > 0.90:\n",
    "            print('Epoch [{}/{}], Train loss : {:.7f}, Train acc : {:.4f}, Val loss : {:.4f}, Val acc : {:.7f}'.\n",
    "                  format(epoch+1, num_epochs, train_loss, train_acc, val_loss, val_acc))       \n",
    "            \n",
    "#         if train_acc == 1.0:\n",
    "#             print('Epoch [{}/{}], Train loss : {:.7f}, Train acc : {:.4f}, Val loss : {:.4f}, Val acc : {:.7f}'.\n",
    "#                   format(epoch+1, num_epochs, train_loss, train_acc, val_loss, val_acc))\n",
    "#             break\n",
    "                                                                                                                      "
   ]
  },
  {
   "cell_type": "code",
   "execution_count": null,
   "metadata": {},
   "outputs": [],
   "source": [
    "result.shape"
   ]
  },
  {
   "cell_type": "code",
   "execution_count": null,
   "metadata": {},
   "outputs": [],
   "source": [
    "result_pd = pd.DataFrame(result, columns = ['num_epoch', 'Epoch', 'train loss', 'train acc', \n",
    "                                           'validation loss', 'validation acc'])"
   ]
  },
  {
   "cell_type": "code",
   "execution_count": null,
   "metadata": {},
   "outputs": [],
   "source": [
    "result_pd"
   ]
  },
  {
   "cell_type": "code",
   "execution_count": null,
   "metadata": {},
   "outputs": [],
   "source": [
    "result_pd.to_csv(data_root_lv + '\\\\deep_learning_result_ft.csv')"
   ]
  },
  {
   "cell_type": "code",
   "execution_count": null,
   "metadata": {},
   "outputs": [],
   "source": []
  },
  {
   "cell_type": "code",
   "execution_count": null,
   "metadata": {},
   "outputs": [],
   "source": []
  },
  {
   "cell_type": "markdown",
   "metadata": {},
   "source": [
    "## validation loss 통으로 보기"
   ]
  },
  {
   "cell_type": "code",
   "execution_count": null,
   "metadata": {},
   "outputs": [],
   "source": [
    "# for epoch in range(num_epochs):\n",
    "#     epoch_loss_train = 0.0\n",
    "#     epoch_train_acc = 0.0\n",
    "#     predicted_train_output = np.array([])\n",
    "#     train_real = np.array([])\n",
    "    \n",
    "#     raw_train_output = torch.empty(0, 2).cuda()\n",
    "#     raw_train_real = torch.empty(0, 2).type(torch.LongTensor).cuda()\n",
    "\n",
    "\n",
    "#     my_model.train()\n",
    "#     for train_x_batch, train_y_batch in train_loader:\n",
    "#         train_x = Variable(train_x_batch).cuda()\n",
    "#         train_y = Variable(train_y_batch).cuda()\n",
    "        \n",
    "#         optimizer.zero_grad()\n",
    "        \n",
    "#         train_output = my_model(train_x)\n",
    "#         train_epoch_loss = criterion(train_output, torch.max(train_y, 1)[1])\n",
    "\n",
    "#         train_epoch_loss.backward()\n",
    "#         optimizer.step()\n",
    "\n",
    "#         epoch_loss_train += (train_epoch_loss.data.item() * len(train_x_batch))\n",
    "\n",
    "#         pred = np.argmax(train_output.data.cpu().numpy(), axis = 1)\n",
    "#         true = np.argmax(train_y.data.cpu().numpy(), axis = 1)\n",
    "#         predicted_train_output = np.append(predicted_train_output, pred)\n",
    "#         train_real = np.append(train_real, true)\n",
    "#         correct = len(np.where(pred == true)[0])\n",
    "#         epoch_train_acc += (correct / len(pred))\n",
    "        \n",
    "#         raw_train_output = torch.cat((raw_train_output, train_output), dim = 0)\n",
    "#         raw_train_real = torch.cat((raw_train_real, train_y), dim = 0)\n",
    "        \n",
    "#     train_loss = criterion(raw_train_output, torch.max(raw_train_real, 1)[1])\n",
    "#     train_acc = len(np.where(predicted_train_output == train_real)[0]) / len(predicted_train_output)\n",
    "\n",
    "\n",
    "#     with torch.no_grad():\n",
    "#         epoch_loss_val = 0.0\n",
    "#         epoch_acc_val = 0.0\n",
    "#         predicted_val_output = np.array([])\n",
    "#         val_real = np.array([])\n",
    "        \n",
    "#         raw_val_output = torch.empty(0, 2).cuda()\n",
    "#         raw_val_real = torch.empty(0, 2).type(torch.LongTensor).cuda()\n",
    "        \n",
    "#         my_model.eval()\n",
    "\n",
    "#         for validation_x_batch, validation_y_batch in validation_loader:\n",
    "#             validation_x = Variable(validation_x_batch).cuda()\n",
    "#             validation_y = Variable(validation_y_batch).cuda()\n",
    "\n",
    "#             validation_output = my_model(validation_x)\n",
    "#             validation_epoch_loss = criterion(validation_output, torch.max(validation_y, 1)[1])\n",
    "\n",
    "#             epoch_loss_val += (validation_epoch_loss.data.item() * len(validation_x_batch))\n",
    "\n",
    "#             pred_val = np.argmax(validation_output.data.cpu().numpy(), axis = 1)\n",
    "#             true_val = np.argmax(validation_y.data.cpu().numpy(), axis = 1)\n",
    "#             correct_val = len(np.where(pred_val == true_val)[0])\n",
    "#             epoch_acc_val += (correct_val / len(pred_val))\n",
    "            \n",
    "#             predicted_val_output = np.append(predicted_val_output, pred_val)\n",
    "#             val_real = np.append(val_real, true_val)\n",
    "            \n",
    "#             raw_val_output = torch.cat((raw_val_output, validation_output), dim = 0)\n",
    "#             raw_val_real = torch.cat((raw_val_real, validation_y), dim = 0)\n",
    "\n",
    "#         val_loss = criterion(raw_val_output, torch.max(raw_val_real, 1)[1])\n",
    "#         val_acc = len(np.where(predicted_val_output == val_real)[0]) / len(predicted_val_output)\n",
    "\n",
    "\n",
    "#         if (epoch + 1) == 1 :\n",
    "#             print('Epoch [{}/{}], Train loss : {:.7f}, Train acc : {:.4f}, Val loss : {:.4f}, Val acc : {:.7f}'.\n",
    "#                   format(epoch+1, num_epochs, train_loss, train_acc, val_loss, val_acc))\n",
    "\n",
    "\n",
    "#         if (epoch + 1) % 10 == 0 :\n",
    "#             print('Epoch [{}/{}], Train loss : {:.7f}, Train acc : {:.4f}, Val loss : {:.4f}, Val acc : {:.7f}'.\n",
    "#                   format(epoch+1, num_epochs, train_loss, train_acc, val_loss, val_acc))\n",
    "            \n",
    "#         if  val_acc > 0.70 :\n",
    "#             print('Epoch [{}/{}], Train loss : {:.7f}, Train acc : {:.4f}, Val loss : {:.4f}, Val acc : {:.7f}'.\n",
    "#                   format(epoch+1, num_epochs, train_loss, train_acc, val_loss, val_acc))       \n",
    "        \n",
    "                                                                                                                                              "
   ]
  },
  {
   "cell_type": "code",
   "execution_count": null,
   "metadata": {},
   "outputs": [],
   "source": []
  },
  {
   "cell_type": "code",
   "execution_count": null,
   "metadata": {},
   "outputs": [],
   "source": []
  },
  {
   "cell_type": "code",
   "execution_count": null,
   "metadata": {},
   "outputs": [],
   "source": [
    "# early_stopping = EarlyStopping(patience = 5, verbose = True)"
   ]
  },
  {
   "cell_type": "code",
   "execution_count": null,
   "metadata": {},
   "outputs": [],
   "source": [
    "# criterion = nn.CrossEntropyLoss()\n",
    "# optimizer = torch.optim.Adam(my_model.parameters(), lr=learning_rate, weight_decay=1e-4)"
   ]
  },
  {
   "cell_type": "code",
   "execution_count": null,
   "metadata": {},
   "outputs": [],
   "source": [
    "# for epoch in range(num_epochs):\n",
    "#     epoch_loss_train = 0.0\n",
    "#     epoch_train_acc = 0.0\n",
    "#     predicted_train_output = np.array([])\n",
    "#     train_real = np.array([])\n",
    "#     epoch_loss_train_re = 0.0\n",
    "    \n",
    "#     my_model.train()\n",
    "#     for train_x_batch, train_y_batch in train_loader:\n",
    "#         train_x = Variable(train_x_batch).cuda()\n",
    "#         train_y = Variable(train_y_batch).cuda()\n",
    "        \n",
    "#         optimizer.zero_grad()\n",
    "        \n",
    "#         train_output = my_model(train_x)\n",
    "#         train_epoch_loss = criterion(train_output, torch.max(train_y, dim = 1)[1])\n",
    "\n",
    "#         train_epoch_loss.backward()\n",
    "#         optimizer.step()\n",
    "        \n",
    "#         epoch_loss_train_re += (train_epoch_loss.data.item())*len(train_x_batch) \n",
    "        \n",
    "#         pred = np.argmax(train_output.data.cpu().numpy(), axis = 1)\n",
    "#         true = np.argmax(train_y.data.cpu().numpy(), axis = 1)\n",
    "#         predicted_train_output = np.append(predicted_train_output, pred)\n",
    "#         train_real = np.append(train_real, true)\n",
    "#         correct = len(np.where(pred == true)[0])\n",
    "#         epoch_train_acc += (correct / len(pred))\n",
    "\n",
    "\n",
    "#     train_loss = epoch_loss_train_re / len(train_x_torch)\n",
    "#     train_acc = len(np.where(predicted_train_output == train_real)[0]) / len(predicted_train_output)\n",
    "\n",
    "#     with torch.no_grad():\n",
    "#         epoch_loss_val = 0.0\n",
    "#         epoch_acc_val = 0.0\n",
    "#         predicted_val_output = np.array([])\n",
    "#         val_real = np.array([])\n",
    "#         epoch_loss_val_re = 0.0\n",
    "        \n",
    "#         my_model.eval()\n",
    "\n",
    "#         for validation_x_batch, validation_y_batch in validation_loader:\n",
    "#             validation_x = Variable(validation_x_batch).cuda()\n",
    "#             validation_y = Variable(validation_y_batch).cuda()\n",
    "\n",
    "#             validation_output = my_model(validation_x)\n",
    "#             validation_epoch_loss = criterion(validation_output, torch.max(validation_y, dim = 1)[1])\n",
    "\n",
    "#             epoch_loss_val_re += validation_epoch_loss.data.item() * len(validation_x_batch) \n",
    "            \n",
    "#             pred_val = np.argmax(validation_output.data.cpu().numpy(), axis = 1)\n",
    "#             true_val = np.argmax(validation_y.data.cpu().numpy(), axis = 1)\n",
    "#             correct_val = len(np.where(pred_val == true_val)[0])\n",
    "#             epoch_acc_val += (correct_val / len(pred_val))\n",
    "            \n",
    "#             predicted_val_output = np.append(predicted_val_output, pred_val)\n",
    "#             val_real = np.append(val_real, true_val)\n",
    "            \n",
    "\n",
    "#         val_loss = epoch_loss_val_re / len(val_x_torch)\n",
    "#         val_acc = len(np.where(predicted_val_output == val_real)[0]) / len(predicted_val_output)\n",
    "\n",
    "#         early_stopping(val_loss, my_model)\n",
    "        \n",
    "#         if (epoch + 1) == 1 :\n",
    "#             print('Epoch [{}/{}], Train loss : {:.7f}, Train acc : {:.4f}, Val loss : {:.4f}, Val acc : {:.7f}'.\n",
    "#                   format(epoch+1, num_epochs, train_loss, train_acc, val_loss, val_acc))\n",
    "\n",
    "\n",
    "#         if (epoch + 1) % 10 == 0 :\n",
    "#             print('Epoch [{}/{}], Train loss : {:.7f}, Train acc : {:.4f}, Val loss : {:.4f}, Val acc : {:.7f}'.\n",
    "#                   format(epoch+1, num_epochs, train_loss, train_acc, val_loss, val_acc))\n",
    "        \n",
    "#         if val_acc > 0.86 :\n",
    "#             print('Epoch [{}/{}], Train loss : {:.7f}, Train acc : {:.4f}, Val loss : {:.4f}, Val acc : {:.7f}'.\n",
    "#                   format(epoch+1, num_epochs, train_loss, train_acc, val_loss, val_acc))             \n",
    "#             break"
   ]
  },
  {
   "cell_type": "code",
   "execution_count": null,
   "metadata": {},
   "outputs": [],
   "source": []
  },
  {
   "cell_type": "code",
   "execution_count": null,
   "metadata": {},
   "outputs": [],
   "source": []
  },
  {
   "cell_type": "code",
   "execution_count": null,
   "metadata": {},
   "outputs": [],
   "source": []
  },
  {
   "cell_type": "code",
   "execution_count": null,
   "metadata": {},
   "outputs": [],
   "source": []
  },
  {
   "cell_type": "code",
   "execution_count": null,
   "metadata": {},
   "outputs": [],
   "source": []
  },
  {
   "cell_type": "code",
   "execution_count": null,
   "metadata": {},
   "outputs": [],
   "source": []
  },
  {
   "cell_type": "code",
   "execution_count": null,
   "metadata": {},
   "outputs": [],
   "source": []
  },
  {
   "cell_type": "code",
   "execution_count": null,
   "metadata": {},
   "outputs": [],
   "source": []
  }
 ],
 "metadata": {
  "kernelspec": {
   "display_name": "Python 3",
   "language": "python",
   "name": "python3"
  },
  "language_info": {
   "codemirror_mode": {
    "name": "ipython",
    "version": 3
   },
   "file_extension": ".py",
   "mimetype": "text/x-python",
   "name": "python",
   "nbconvert_exporter": "python",
   "pygments_lexer": "ipython3",
   "version": "3.7.5"
  }
 },
 "nbformat": 4,
 "nbformat_minor": 2
}
