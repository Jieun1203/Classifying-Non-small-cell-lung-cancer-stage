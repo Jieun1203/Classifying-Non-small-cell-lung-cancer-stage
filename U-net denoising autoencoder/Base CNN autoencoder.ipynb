{
 "cells": [
  {
   "cell_type": "code",
   "execution_count": 1,
   "metadata": {},
   "outputs": [],
   "source": [
    "import numpy as np\n",
    "import cv2\n",
    "import os\n",
    "import matplotlib.pyplot as plt"
   ]
  },
  {
   "cell_type": "code",
   "execution_count": 2,
   "metadata": {},
   "outputs": [],
   "source": [
    "root = 'X:\\\\jechoi\\\\numpy\\\\Radiogenomics+genomics_raiomics_LAUD+LSCC\\\\train_val_test\\\\Base CNN autoencoder\\\\img\\\\numpy\\\\'"
   ]
  },
  {
   "cell_type": "code",
   "execution_count": 3,
   "metadata": {},
   "outputs": [],
   "source": [
    "train_root = 'X:\\\\jechoi\\\\numpy\\\\Radiogenomics+genomics_raiomics_LAUD+LSCC\\\\train_val_test\\\\Base CNN autoencoder\\\\img\\\\png\\\\train'\n",
    "validation_root = 'X:\\\\jechoi\\\\numpy\\\\Radiogenomics+genomics_raiomics_LAUD+LSCC\\\\train_val_test\\\\Base CNN autoencoder\\\\img\\\\png\\\\val'\n",
    "test_root = 'X:\\\\jechoi\\\\numpy\\\\Radiogenomics+genomics_raiomics_LAUD+LSCC\\\\train_val_test\\\\Base CNN autoencoder\\\\img\\\\png\\\\test'"
   ]
  },
  {
   "cell_type": "code",
   "execution_count": 4,
   "metadata": {},
   "outputs": [],
   "source": [
    "train_input = np.load(root + 'training_autoencoder_input.npy')\n",
    "train_noise = np.load(root + 'training_autoencoder_noise.npy')\n",
    "train_output = np.load(root + 'training_autoencoder_output.npy')\n",
    "train_stage = np.load(root + 'training_autoencoder_output_stage.npy')"
   ]
  },
  {
   "cell_type": "code",
   "execution_count": 5,
   "metadata": {},
   "outputs": [],
   "source": [
    "val_input = np.load(root + 'validation_autoencoder_input.npy')\n",
    "val_noise = np.load(root + 'validation_autoencoder_noise.npy')\n",
    "val_output = np.load(root + 'validation_autoencoder_output.npy')\n",
    "val_stage = np.load(root + 'validation_autoencoder_output_stage.npy')"
   ]
  },
  {
   "cell_type": "code",
   "execution_count": 6,
   "metadata": {},
   "outputs": [],
   "source": [
    "test_input = np.load(root + 'test_autoencoder_input.npy')\n",
    "test_noise = np.load(root + 'test_autoencoder_noise.npy')\n",
    "test_output = np.load(root + 'test_autoencoder_output.npy')\n",
    "test_stage = np.load(root + 'test_autoencoder_output_stage.npy')"
   ]
  },
  {
   "cell_type": "code",
   "execution_count": 7,
   "metadata": {},
   "outputs": [
    {
     "name": "stdout",
     "output_type": "stream",
     "text": [
      "(90, 3, 128, 128)\n",
      "(90, 3, 128, 128)\n",
      "(90, 3, 128, 128)\n",
      "(90,)\n"
     ]
    }
   ],
   "source": [
    "print(train_input.shape)\n",
    "print(train_noise.shape)\n",
    "print(train_output.shape)\n",
    "print(train_stage.shape)"
   ]
  },
  {
   "cell_type": "code",
   "execution_count": 8,
   "metadata": {},
   "outputs": [
    {
     "name": "stdout",
     "output_type": "stream",
     "text": [
      "(8, 3, 128, 128)\n",
      "(8, 3, 128, 128)\n",
      "(8, 3, 128, 128)\n",
      "(8,)\n"
     ]
    }
   ],
   "source": [
    "print(val_input.shape)\n",
    "print(val_noise.shape)\n",
    "print(val_output.shape)\n",
    "print(val_stage.shape)"
   ]
  },
  {
   "cell_type": "code",
   "execution_count": 9,
   "metadata": {},
   "outputs": [
    {
     "name": "stdout",
     "output_type": "stream",
     "text": [
      "(37, 3, 128, 128)\n",
      "(37, 3, 128, 128)\n",
      "(37, 3, 128, 128)\n",
      "(37,)\n"
     ]
    }
   ],
   "source": [
    "print(test_input.shape)\n",
    "print(test_noise.shape)\n",
    "print(test_output.shape)\n",
    "print(test_stage.shape)"
   ]
  },
  {
   "cell_type": "code",
   "execution_count": 11,
   "metadata": {},
   "outputs": [],
   "source": [
    "for i in range(train_input.shape[0]):\n",
    "    j = i+1\n",
    "    path = os.path.join(train_root, str(j))\n",
    "    os.mkdir(path)\n",
    "    \n",
    "    img_input = train_input[i].transpose(1, 2, 0)\n",
    "    img_noise = train_noise[i].transpose(1, 2, 0)\n",
    "    img_output = train_output[i].transpose(1, 2, 0)\n",
    "    img_stage = int(train_stage[i])\n",
    "    \n",
    "    cv2.imwrite(os.path.join(path, 'input_' + str(img_stage) + '.png'), img_input*255)\n",
    "    cv2.imwrite(os.path.join(path, 'noise_' + str(img_stage) + '.png'), img_noise*255)\n",
    "    cv2.imwrite(os.path.join(path, 'output_' + str(img_stage) + '.png'), img_output*255)\n",
    "    cv2.waitKey(0)"
   ]
  },
  {
   "cell_type": "code",
   "execution_count": 12,
   "metadata": {},
   "outputs": [],
   "source": [
    "for i in range(val_input.shape[0]):\n",
    "    j = i+1\n",
    "    path = os.path.join(validation_root, str(j))\n",
    "    os.mkdir(path)\n",
    "    \n",
    "    img_input = val_input[i].transpose(1, 2, 0)\n",
    "    img_noise = val_noise[i].transpose(1, 2, 0)\n",
    "    img_output = val_output[i].transpose(1, 2, 0)\n",
    "    img_stage = int(val_stage[i])\n",
    "    \n",
    "    cv2.imwrite(os.path.join(path, 'input_' + str(img_stage) + '.png'), img_input*255)\n",
    "    cv2.imwrite(os.path.join(path, 'noise_' + str(img_stage) + '.png'), img_noise*255)\n",
    "    cv2.imwrite(os.path.join(path, 'output_' + str(img_stage) + '.png'), img_output*255)\n",
    "    cv2.waitKey(0)"
   ]
  },
  {
   "cell_type": "code",
   "execution_count": 13,
   "metadata": {},
   "outputs": [],
   "source": [
    "for i in range(test_input.shape[0]):\n",
    "    j = i+1\n",
    "    path = os.path.join(test_root, str(j))\n",
    "    os.mkdir(path)\n",
    "    \n",
    "    img_input = test_input[i].transpose(1, 2, 0)\n",
    "    img_noise = test_noise[i].transpose(1, 2, 0)\n",
    "    img_output = test_output[i].transpose(1, 2, 0)\n",
    "    img_stage = int(test_stage[i])\n",
    "    \n",
    "    cv2.imwrite(os.path.join(path, 'input_' + str(img_stage) + '.png'), img_input*255)\n",
    "    cv2.imwrite(os.path.join(path, 'noise_' + str(img_stage) + '.png'), img_noise*255)\n",
    "    cv2.imwrite(os.path.join(path, 'output_' + str(img_stage) + '.png'), img_output*255)\n",
    "    cv2.waitKey(0)"
   ]
  },
  {
   "cell_type": "code",
   "execution_count": null,
   "metadata": {},
   "outputs": [],
   "source": []
  },
  {
   "cell_type": "code",
   "execution_count": null,
   "metadata": {},
   "outputs": [],
   "source": []
  },
  {
   "cell_type": "code",
   "execution_count": null,
   "metadata": {},
   "outputs": [],
   "source": []
  },
  {
   "cell_type": "code",
   "execution_count": null,
   "metadata": {},
   "outputs": [],
   "source": []
  },
  {
   "cell_type": "code",
   "execution_count": null,
   "metadata": {},
   "outputs": [],
   "source": []
  },
  {
   "cell_type": "code",
   "execution_count": null,
   "metadata": {},
   "outputs": [],
   "source": []
  },
  {
   "cell_type": "code",
   "execution_count": null,
   "metadata": {},
   "outputs": [],
   "source": []
  },
  {
   "cell_type": "code",
   "execution_count": null,
   "metadata": {},
   "outputs": [],
   "source": []
  }
 ],
 "metadata": {
  "kernelspec": {
   "display_name": "Python 3",
   "language": "python",
   "name": "python3"
  },
  "language_info": {
   "codemirror_mode": {
    "name": "ipython",
    "version": 3
   },
   "file_extension": ".py",
   "mimetype": "text/x-python",
   "name": "python",
   "nbconvert_exporter": "python",
   "pygments_lexer": "ipython3",
   "version": "3.7.5"
  }
 },
 "nbformat": 4,
 "nbformat_minor": 2
}
